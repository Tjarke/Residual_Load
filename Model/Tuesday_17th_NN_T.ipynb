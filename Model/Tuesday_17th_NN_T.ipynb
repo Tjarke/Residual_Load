{
 "cells": [
  {
   "cell_type": "code",
   "execution_count": 59,
   "metadata": {},
   "outputs": [],
   "source": [
    "import pandas as pd\n",
    "import numpy as np\n",
    "from tensorflow.keras import models,layers\n",
    "import datetime"
   ]
  },
  {
   "cell_type": "markdown",
   "metadata": {},
   "source": [
    "First we prepare the data. \n",
    "We will:\n",
    "<br/>-drop all columns wich contain more than 25% nans\n",
    "<br/>-merge the three dataframes together \n",
    "<br/>-linearly interpolate the hourly data to get 15 minute interval data\n",
    "<br/>-start with year 2016 because that is when the air quality measurements start\n",
    "<br/>-save this to a dataframe so we can experiment with this set of data"
   ]
  },
  {
   "cell_type": "code",
   "execution_count": 8,
   "metadata": {},
   "outputs": [],
   "source": [
    "# df_w = pd.read_csv(\"./weather_data_raw/weather_data_since_2013.csv\")"
   ]
  },
  {
   "cell_type": "code",
   "execution_count": 9,
   "metadata": {},
   "outputs": [],
   "source": [
    "# df_w.drop(df_w.filter(regex=\"Unname\"),axis=1, inplace=True)"
   ]
  },
  {
   "cell_type": "code",
   "execution_count": 10,
   "metadata": {},
   "outputs": [],
   "source": [
    "# df_w.drop(df_w.filter(regex=\"station\"),axis=1, inplace=True)"
   ]
  },
  {
   "cell_type": "code",
   "execution_count": 11,
   "metadata": {},
   "outputs": [],
   "source": [
    "# df_w.loc[:,\"Date\"] = pd.to_datetime(df_w.loc[:,\"time\"])\n",
    "# df_w.drop(columns=[\"time\"], inplace=True)"
   ]
  },
  {
   "cell_type": "code",
   "execution_count": 12,
   "metadata": {},
   "outputs": [],
   "source": [
    "# columns_dropped = []\n",
    "# for i in df_w:\n",
    "#     number_nan_rows = df_w.loc[df_w.loc[:,i].isnull(),i].shape[0]\n",
    "#     percentage_nan_rows = number_nan_rows/df_w.shape[0]*100\n",
    "#     if (percentage_nan_rows > 25):\n",
    "#         columns_dropped.append([i,percentage_nan_rows])\n",
    "#         df_w = df_w.drop(columns=[i])"
   ]
  },
  {
   "cell_type": "code",
   "execution_count": 13,
   "metadata": {},
   "outputs": [],
   "source": [
    "# df_w.loc[:, df_w.columns != \"Date\"]  = df_w.drop(columns=[\"Date\"]).astype(\"float32\")"
   ]
  },
  {
   "cell_type": "code",
   "execution_count": 14,
   "metadata": {},
   "outputs": [
    {
     "data": {
      "text/plain": [
       "(61392, 3181)"
      ]
     },
     "execution_count": 14,
     "metadata": {},
     "output_type": "execute_result"
    }
   ],
   "source": [
    "# df_w.shape"
   ]
  },
  {
   "cell_type": "code",
   "execution_count": 15,
   "metadata": {},
   "outputs": [],
   "source": [
    "# df_w.drop(df_w.filter(regex=\"dwpt\"),axis=1, inplace=True)"
   ]
  },
  {
   "cell_type": "code",
   "execution_count": 16,
   "metadata": {},
   "outputs": [
    {
     "data": {
      "text/plain": [
       "(61392, 2711)"
      ]
     },
     "execution_count": 16,
     "metadata": {},
     "output_type": "execute_result"
    }
   ],
   "source": [
    "# df_w.shape"
   ]
  },
  {
   "cell_type": "code",
   "execution_count": 17,
   "metadata": {},
   "outputs": [
    {
     "data": {
      "text/plain": [
       "635.1285705566406"
      ]
     },
     "execution_count": 17,
     "metadata": {},
     "output_type": "execute_result"
    }
   ],
   "source": []
  },
  {
   "cell_type": "code",
   "execution_count": 18,
   "metadata": {},
   "outputs": [],
   "source": [
    "# mask = df_w.loc[:,\"Date\"] > \"2016-01-01 01:00:00\"\n",
    "\n",
    "# df_w = df_w.loc[mask,:]"
   ]
  },
  {
   "cell_type": "code",
   "execution_count": 19,
   "metadata": {},
   "outputs": [],
   "source": [
    "# df_energy = pd.read_csv(\"Complete_daily_data.csv\",parse_dates=[0])\n",
    "# df_energy = df_energy.loc[:,['Date', 'System total load in MAW',\n",
    "#        'Wind Offshore in MAW', 'Wind Onshore in MAW', 'Solar in MAW',\n",
    "#        'predicted_Wind Offshore in MAW', 'predicted_Wind Onshore in MAW',\n",
    "#        'predicted_System total load in MAW', 'predicted_Solar in MAW']] "
   ]
  },
  {
   "cell_type": "code",
   "execution_count": 20,
   "metadata": {},
   "outputs": [],
   "source": [
    "# df_merge = pd.merge(df_w,df_energy,on=['Date'], how='outer')"
   ]
  },
  {
   "cell_type": "code",
   "execution_count": 21,
   "metadata": {},
   "outputs": [],
   "source": [
    "# df_merge = df_merge.sort_values(by=\"Date\")"
   ]
  },
  {
   "cell_type": "code",
   "execution_count": 22,
   "metadata": {},
   "outputs": [],
   "source": [
    "# mask = df_merge.loc[:,\"Date\"] > \"2016-01-01 01:00:00\"\n",
    "\n",
    "# df_merge = df_merge.loc[mask,:]"
   ]
  },
  {
   "cell_type": "code",
   "execution_count": 23,
   "metadata": {},
   "outputs": [],
   "source": [
    "# df_merge = df_merge.sort_values(by=\"Date\")"
   ]
  },
  {
   "cell_type": "code",
   "execution_count": 24,
   "metadata": {},
   "outputs": [],
   "source": [
    "# df_merge.interpolate(method='linear', inplace=True)"
   ]
  },
  {
   "cell_type": "code",
   "execution_count": 25,
   "metadata": {},
   "outputs": [],
   "source": [
    "# df_aq = pd.read_csv(\"air_quality.csv\",parse_dates=[0])"
   ]
  },
  {
   "cell_type": "code",
   "execution_count": 26,
   "metadata": {},
   "outputs": [],
   "source": [
    "# df_complete = pd.merge(df_merge,df_aq,on=['Date'], how='outer')"
   ]
  },
  {
   "cell_type": "code",
   "execution_count": 27,
   "metadata": {},
   "outputs": [],
   "source": [
    "# df_complete = df_complete.sort_values(by=\"Date\")"
   ]
  },
  {
   "cell_type": "code",
   "execution_count": 28,
   "metadata": {},
   "outputs": [],
   "source": [
    "# df_complete.interpolate(method='linear', inplace=True)"
   ]
  },
  {
   "cell_type": "code",
   "execution_count": 29,
   "metadata": {},
   "outputs": [],
   "source": [
    "# df = df_complete"
   ]
  },
  {
   "cell_type": "code",
   "execution_count": 30,
   "metadata": {},
   "outputs": [],
   "source": [
    "# df = df.dropna()"
   ]
  },
  {
   "cell_type": "code",
   "execution_count": 31,
   "metadata": {},
   "outputs": [
    {
     "name": "stderr",
     "output_type": "stream",
     "text": [
      "/home/tjarke/anaconda3/envs/general/lib/python3.7/site-packages/ipykernel_launcher.py:1: SettingWithCopyWarning: \n",
      "A value is trying to be set on a copy of a slice from a DataFrame.\n",
      "Try using .loc[row_indexer,col_indexer] = value instead\n",
      "\n",
      "See the caveats in the documentation: https://pandas.pydata.org/pandas-docs/stable/user_guide/indexing.html#returning-a-view-versus-a-copy\n",
      "  \"\"\"Entry point for launching an IPython kernel.\n",
      "/home/tjarke/anaconda3/envs/general/lib/python3.7/site-packages/ipykernel_launcher.py:2: SettingWithCopyWarning: \n",
      "A value is trying to be set on a copy of a slice from a DataFrame.\n",
      "Try using .loc[row_indexer,col_indexer] = value instead\n",
      "\n",
      "See the caveats in the documentation: https://pandas.pydata.org/pandas-docs/stable/user_guide/indexing.html#returning-a-view-versus-a-copy\n",
      "  \n",
      "/home/tjarke/anaconda3/envs/general/lib/python3.7/site-packages/ipykernel_launcher.py:3: FutureWarning: Series.dt.weekofyear and Series.dt.week have been deprecated.  Please use Series.dt.isocalendar().week instead.\n",
      "  This is separate from the ipykernel package so we can avoid doing imports until\n",
      "/home/tjarke/anaconda3/envs/general/lib/python3.7/site-packages/ipykernel_launcher.py:3: SettingWithCopyWarning: \n",
      "A value is trying to be set on a copy of a slice from a DataFrame.\n",
      "Try using .loc[row_indexer,col_indexer] = value instead\n",
      "\n",
      "See the caveats in the documentation: https://pandas.pydata.org/pandas-docs/stable/user_guide/indexing.html#returning-a-view-versus-a-copy\n",
      "  This is separate from the ipykernel package so we can avoid doing imports until\n",
      "/home/tjarke/anaconda3/envs/general/lib/python3.7/site-packages/ipykernel_launcher.py:4: SettingWithCopyWarning: \n",
      "A value is trying to be set on a copy of a slice from a DataFrame.\n",
      "Try using .loc[row_indexer,col_indexer] = value instead\n",
      "\n",
      "See the caveats in the documentation: https://pandas.pydata.org/pandas-docs/stable/user_guide/indexing.html#returning-a-view-versus-a-copy\n",
      "  after removing the cwd from sys.path.\n",
      "/home/tjarke/anaconda3/envs/general/lib/python3.7/site-packages/ipykernel_launcher.py:5: SettingWithCopyWarning: \n",
      "A value is trying to be set on a copy of a slice from a DataFrame.\n",
      "Try using .loc[row_indexer,col_indexer] = value instead\n",
      "\n",
      "See the caveats in the documentation: https://pandas.pydata.org/pandas-docs/stable/user_guide/indexing.html#returning-a-view-versus-a-copy\n",
      "  \"\"\"\n"
     ]
    }
   ],
   "source": [
    "# df[\"Year\"] = df[\"Date\"].dt.year\n",
    "# df[\"Month\"] = df[\"Date\"].dt.month\n",
    "# df[\"Week\"] = df[\"Date\"].dt.week\n",
    "# df[\"Weekday\"] = df[\"Date\"].dt.dayofweek\n",
    "# df[\"Hour\"] = df[\"Date\"].dt.hour"
   ]
  },
  {
   "cell_type": "code",
   "execution_count": 34,
   "metadata": {},
   "outputs": [],
   "source": [
    "# cols = df.columns"
   ]
  },
  {
   "cell_type": "code",
   "execution_count": 41,
   "metadata": {},
   "outputs": [],
   "source": [
    "# rearrange = []\n",
    "# for i in cols:\n",
    "#     if i == \"Date\":\n",
    "#         rearrange.insert(0, \"Date\")\n",
    "#     else:\n",
    "#         rearrange.append(i)\n",
    "# df = df[rearrange]"
   ]
  },
  {
   "cell_type": "code",
   "execution_count": 43,
   "metadata": {},
   "outputs": [],
   "source": [
    "# df.to_csv(\"all_stations_start_2016.csv\",index=False)"
   ]
  },
  {
   "cell_type": "code",
   "execution_count": 44,
   "metadata": {},
   "outputs": [
    {
     "data": {
      "text/plain": [
       "2603.093292236328"
      ]
     },
     "execution_count": 44,
     "metadata": {},
     "output_type": "execute_result"
    }
   ],
   "source": [
    "# getsizeof(df)/1024/1024"
   ]
  },
  {
   "cell_type": "code",
   "execution_count": 32,
   "metadata": {},
   "outputs": [
    {
     "ename": "NameError",
     "evalue": "name 'asd' is not defined",
     "output_type": "error",
     "traceback": [
      "\u001b[0;31m---------------------------------------------------------------------------\u001b[0m",
      "\u001b[0;31mNameError\u001b[0m                                 Traceback (most recent call last)",
      "\u001b[0;32m<ipython-input-32-c85320d9ddb9>\u001b[0m in \u001b[0;36m<module>\u001b[0;34m\u001b[0m\n\u001b[0;32m----> 1\u001b[0;31m \u001b[0masd\u001b[0m\u001b[0;34m\u001b[0m\u001b[0;34m\u001b[0m\u001b[0m\n\u001b[0m",
      "\u001b[0;31mNameError\u001b[0m: name 'asd' is not defined"
     ]
    }
   ],
   "source": []
  },
  {
   "cell_type": "markdown",
   "metadata": {},
   "source": [
    "Now we load the prepared data. Then we:\n",
    "<br/>-define our target and split in train/val/test set\n",
    "<br/>-scale our input data\n",
    "<br/>-change the data type of the columns\n",
    "<br/>-build the model architecture\n",
    "<br/>-look at the training history\n",
    "<br/>-evaluate our model \n",
    "<br/>-print out entso-e s result"
   ]
  },
  {
   "cell_type": "code",
   "execution_count": 1,
   "metadata": {},
   "outputs": [],
   "source": [
    "import pandas as pd\n",
    "import numpy as np\n",
    "from tensorflow.keras import models,layers\n",
    "import datetime\n",
    "from utils import train_val_test_split\n",
    "from sklearn.preprocessing import StandardScaler\n",
    "import matplotlib.pyplot as plt\n",
    "from utils import get_model_metrics"
   ]
  },
  {
   "cell_type": "code",
   "execution_count": 2,
   "metadata": {},
   "outputs": [],
   "source": [
    "df = pd.read_csv(\"all_stations_start_2016.csv\",parse_dates=[0])"
   ]
  },
  {
   "cell_type": "code",
   "execution_count": 3,
   "metadata": {},
   "outputs": [],
   "source": [
    "# df.loc[:, df.columns != \"Date\"]  = df.drop(columns=[\"Date\"]).astype(\"float32\")"
   ]
  },
  {
   "cell_type": "code",
   "execution_count": 4,
   "metadata": {},
   "outputs": [
    {
     "name": "stdout",
     "output_type": "stream",
     "text": [
      "The shape of the data set is: (145560, 3698)\n",
      "\n",
      "--------------------------------------------\n",
      "The shape of the train set is: (128280, 3693)\n",
      "The shape of the target variable is: (128280, 4)\n",
      "--------------------------------------------\n",
      "\n",
      "--------------------------------------------\n",
      "The shape of the validation set is: (8640, 3693)\n",
      "The shape of the target variable for the validation set is: (8640, 4)\n",
      "--------------------------------------------\n",
      "\n",
      "--------------------------------------------\n",
      "The shape of the test set is: (8640, 3693)\n",
      "The shape of the target variable for the test set is: (8640, 5)\n",
      "--------------------------------------------\n"
     ]
    }
   ],
   "source": [
    "target_vars = [\"System total load in MAW\",\"Wind Offshore in MAW\",\"Wind Onshore in MAW\",\"Solar in MAW\"]\n",
    "X_train, y_train, X_val, y_val, X_test, y_test = train_val_test_split(df, target_vars, 90, 90)"
   ]
  },
  {
   "cell_type": "code",
   "execution_count": 5,
   "metadata": {},
   "outputs": [],
   "source": [
    "scaler_f = StandardScaler()\n",
    "X_train = scaler_f.fit_transform(X_train)\n",
    "X_val = scaler_f.transform(X_val)\n",
    "X_test = scaler_f.transform(X_test)"
   ]
  },
  {
   "cell_type": "code",
   "execution_count": 6,
   "metadata": {},
   "outputs": [],
   "source": [
    "X_train = X_train.astype(\"float32\")\n",
    "X_val = X_val.astype(\"float32\")\n",
    "X_test = X_test.astype(\"float32\")"
   ]
  },
  {
   "cell_type": "code",
   "execution_count": 7,
   "metadata": {},
   "outputs": [],
   "source": [
    "input_shape = X_train.shape[1]"
   ]
  },
  {
   "cell_type": "code",
   "execution_count": 8,
   "metadata": {},
   "outputs": [
    {
     "name": "stdout",
     "output_type": "stream",
     "text": [
      "Model: \"sequential\"\n",
      "_________________________________________________________________\n",
      "Layer (type)                 Output Shape              Param #   \n",
      "=================================================================\n",
      "dense (Dense)                (None, 1024)              3782656   \n",
      "_________________________________________________________________\n",
      "dropout (Dropout)            (None, 1024)              0         \n",
      "_________________________________________________________________\n",
      "dense_1 (Dense)              (None, 256)               262400    \n",
      "_________________________________________________________________\n",
      "dropout_1 (Dropout)          (None, 256)               0         \n",
      "_________________________________________________________________\n",
      "dense_2 (Dense)              (None, 64)                16448     \n",
      "_________________________________________________________________\n",
      "dropout_2 (Dropout)          (None, 64)                0         \n",
      "_________________________________________________________________\n",
      "dense_3 (Dense)              (None, 4)                 260       \n",
      "=================================================================\n",
      "Total params: 4,061,764\n",
      "Trainable params: 4,061,764\n",
      "Non-trainable params: 0\n",
      "_________________________________________________________________\n"
     ]
    }
   ],
   "source": [
    "model = models.Sequential()\n",
    "model.add(layers.Dense(1024,input_dim=input_shape,activation=\"relu\"))\n",
    "model.add(layers.Dropout(0.3))\n",
    "model.add(layers.Dense(256, activation = \"relu\"))\n",
    "model.add(layers.Dropout(0.2))\n",
    "model.add(layers.Dense(64, activation = \"relu\"))\n",
    "model.add(layers.Dropout(0.1))\n",
    "model.add(layers.Dense(4, activation = \"relu\"))\n",
    "model.summary()\n",
    "\n",
    "model.compile(\n",
    "    optimizer = \"rmsprop\",\n",
    "    loss = \"mean_squared_error\",\n",
    "    metrics = [\"mean_absolute_error\"]#optional\n",
    ")"
   ]
  },
  {
   "cell_type": "code",
   "execution_count": 9,
   "metadata": {},
   "outputs": [
    {
     "name": "stdout",
     "output_type": "stream",
     "text": [
      "Epoch 1/50\n",
      "4009/4009 [==============================] - 26s 6ms/step - loss: 52162936.0000 - mean_absolute_error: 4339.1743 - val_loss: 72647416.0000 - val_mean_absolute_error: 5072.9004\n",
      "Epoch 2/50\n",
      "4009/4009 [==============================] - 25s 6ms/step - loss: 20617468.0000 - mean_absolute_error: 2773.9495 - val_loss: 33880832.0000 - val_mean_absolute_error: 3660.4224\n",
      "Epoch 3/50\n",
      "4009/4009 [==============================] - 25s 6ms/step - loss: 17338340.0000 - mean_absolute_error: 2532.9346 - val_loss: 24572270.0000 - val_mean_absolute_error: 3106.4631\n",
      "Epoch 4/50\n",
      "4009/4009 [==============================] - 26s 6ms/step - loss: 15694927.0000 - mean_absolute_error: 2407.0449 - val_loss: 18646910.0000 - val_mean_absolute_error: 2742.3965\n",
      "Epoch 5/50\n",
      "4009/4009 [==============================] - 25s 6ms/step - loss: 14831878.0000 - mean_absolute_error: 2339.4709 - val_loss: 21299290.0000 - val_mean_absolute_error: 2948.7173\n",
      "Epoch 6/50\n",
      "4009/4009 [==============================] - 24s 6ms/step - loss: 14043664.0000 - mean_absolute_error: 2277.5481 - val_loss: 16227711.0000 - val_mean_absolute_error: 2600.0791\n",
      "Epoch 7/50\n",
      "4009/4009 [==============================] - 24s 6ms/step - loss: 13601594.0000 - mean_absolute_error: 2244.2366 - val_loss: 17556072.0000 - val_mean_absolute_error: 2737.1084\n",
      "Epoch 8/50\n",
      "4009/4009 [==============================] - 23s 6ms/step - loss: 13039421.0000 - mean_absolute_error: 2201.2864 - val_loss: 17221566.0000 - val_mean_absolute_error: 2707.3147\n",
      "Epoch 9/50\n",
      "4009/4009 [==============================] - 22s 5ms/step - loss: 13003223.0000 - mean_absolute_error: 2193.7236 - val_loss: 16595564.0000 - val_mean_absolute_error: 2678.4663\n",
      "Epoch 10/50\n",
      "4009/4009 [==============================] - 22s 6ms/step - loss: 12627999.0000 - mean_absolute_error: 2168.5078 - val_loss: 16259628.0000 - val_mean_absolute_error: 2668.4507\n",
      "Epoch 11/50\n",
      "4009/4009 [==============================] - 22s 5ms/step - loss: 12406724.0000 - mean_absolute_error: 2162.4431 - val_loss: 14774737.0000 - val_mean_absolute_error: 2566.1213\n",
      "Epoch 12/50\n",
      "4009/4009 [==============================] - 25s 6ms/step - loss: 12435758.0000 - mean_absolute_error: 2164.6597 - val_loss: 13988336.0000 - val_mean_absolute_error: 2520.8105\n",
      "Epoch 13/50\n",
      "4009/4009 [==============================] - 24s 6ms/step - loss: 12254442.0000 - mean_absolute_error: 2144.8064 - val_loss: 12950774.0000 - val_mean_absolute_error: 2393.4766\n",
      "Epoch 14/50\n",
      "4009/4009 [==============================] - 25s 6ms/step - loss: 12247389.0000 - mean_absolute_error: 2146.8127 - val_loss: 12288268.0000 - val_mean_absolute_error: 2328.2058\n",
      "Epoch 15/50\n",
      "4009/4009 [==============================] - 25s 6ms/step - loss: 12121807.0000 - mean_absolute_error: 2136.9910 - val_loss: 13563908.0000 - val_mean_absolute_error: 2474.5979\n",
      "Epoch 16/50\n",
      "4009/4009 [==============================] - 25s 6ms/step - loss: 12130017.0000 - mean_absolute_error: 2142.8538 - val_loss: 12479984.0000 - val_mean_absolute_error: 2381.2839\n",
      "Epoch 17/50\n",
      "4009/4009 [==============================] - 25s 6ms/step - loss: 12281118.0000 - mean_absolute_error: 2191.3738 - val_loss: 13993625.0000 - val_mean_absolute_error: 2486.5310\n",
      "Epoch 18/50\n",
      "4009/4009 [==============================] - 25s 6ms/step - loss: 11922072.0000 - mean_absolute_error: 2128.1895 - val_loss: 13726255.0000 - val_mean_absolute_error: 2526.8308\n",
      "Epoch 19/50\n",
      "4009/4009 [==============================] - 25s 6ms/step - loss: 11958623.0000 - mean_absolute_error: 2132.0674 - val_loss: 13680068.0000 - val_mean_absolute_error: 2490.4507\n",
      "Epoch 20/50\n",
      "4009/4009 [==============================] - 25s 6ms/step - loss: 11824941.0000 - mean_absolute_error: 2119.8215 - val_loss: 14158724.0000 - val_mean_absolute_error: 2567.5652\n",
      "Epoch 21/50\n",
      "4009/4009 [==============================] - 25s 6ms/step - loss: 11908867.0000 - mean_absolute_error: 2127.1558 - val_loss: 10917348.0000 - val_mean_absolute_error: 2206.8521\n",
      "Epoch 22/50\n",
      "4009/4009 [==============================] - 24s 6ms/step - loss: 11970180.0000 - mean_absolute_error: 2131.2139 - val_loss: 15928089.0000 - val_mean_absolute_error: 2603.4868\n",
      "Epoch 23/50\n",
      "4009/4009 [==============================] - 24s 6ms/step - loss: 11818281.0000 - mean_absolute_error: 2118.6589 - val_loss: 12459865.0000 - val_mean_absolute_error: 2336.7502\n",
      "Epoch 24/50\n",
      "4009/4009 [==============================] - 25s 6ms/step - loss: 11730268.0000 - mean_absolute_error: 2113.8584 - val_loss: 13087045.0000 - val_mean_absolute_error: 2484.9839\n",
      "Epoch 25/50\n",
      "4009/4009 [==============================] - 23s 6ms/step - loss: 11760258.0000 - mean_absolute_error: 2115.8518 - val_loss: 13805723.0000 - val_mean_absolute_error: 2502.9163\n",
      "Epoch 26/50\n",
      "4009/4009 [==============================] - 24s 6ms/step - loss: 11689424.0000 - mean_absolute_error: 2108.7610 - val_loss: 11523227.0000 - val_mean_absolute_error: 2267.9353\n",
      "Epoch 27/50\n",
      "4009/4009 [==============================] - 24s 6ms/step - loss: 11527044.0000 - mean_absolute_error: 2098.0503 - val_loss: 15219244.0000 - val_mean_absolute_error: 2753.4080\n",
      "Epoch 28/50\n",
      "4009/4009 [==============================] - 23s 6ms/step - loss: 11716795.0000 - mean_absolute_error: 2107.8179 - val_loss: 11345656.0000 - val_mean_absolute_error: 2264.9641\n",
      "Epoch 29/50\n",
      "4009/4009 [==============================] - 23s 6ms/step - loss: 11576473.0000 - mean_absolute_error: 2099.3928 - val_loss: 16632176.0000 - val_mean_absolute_error: 2684.2332\n",
      "Epoch 30/50\n",
      "4009/4009 [==============================] - 25s 6ms/step - loss: 11709819.0000 - mean_absolute_error: 2110.8398 - val_loss: 10702750.0000 - val_mean_absolute_error: 2198.9219\n",
      "Epoch 31/50\n",
      "4009/4009 [==============================] - 25s 6ms/step - loss: 11442574.0000 - mean_absolute_error: 2088.9290 - val_loss: 11437741.0000 - val_mean_absolute_error: 2301.5203\n",
      "Epoch 32/50\n",
      "4009/4009 [==============================] - 25s 6ms/step - loss: 11441322.0000 - mean_absolute_error: 2092.1423 - val_loss: 11559173.0000 - val_mean_absolute_error: 2319.1458\n",
      "Epoch 33/50\n",
      "4009/4009 [==============================] - 25s 6ms/step - loss: 11532755.0000 - mean_absolute_error: 2100.7917 - val_loss: 12169682.0000 - val_mean_absolute_error: 2357.6191\n",
      "Epoch 34/50\n",
      "4009/4009 [==============================] - 25s 6ms/step - loss: 11484581.0000 - mean_absolute_error: 2093.4458 - val_loss: 11067766.0000 - val_mean_absolute_error: 2304.5227\n",
      "Epoch 35/50\n",
      "4009/4009 [==============================] - 24s 6ms/step - loss: 11476623.0000 - mean_absolute_error: 2095.5522 - val_loss: 13727933.0000 - val_mean_absolute_error: 2477.6992\n",
      "Epoch 36/50\n",
      "4009/4009 [==============================] - 24s 6ms/step - loss: 11446370.0000 - mean_absolute_error: 2094.2979 - val_loss: 10616181.0000 - val_mean_absolute_error: 2217.6631\n",
      "Epoch 37/50\n",
      "4009/4009 [==============================] - 24s 6ms/step - loss: 11424096.0000 - mean_absolute_error: 2086.2773 - val_loss: 12307924.0000 - val_mean_absolute_error: 2434.6792\n",
      "Epoch 38/50\n",
      "4009/4009 [==============================] - 24s 6ms/step - loss: 11345387.0000 - mean_absolute_error: 2078.3406 - val_loss: 10173163.0000 - val_mean_absolute_error: 2191.9094\n",
      "Epoch 39/50\n",
      "4009/4009 [==============================] - 24s 6ms/step - loss: 11300002.0000 - mean_absolute_error: 2071.5669 - val_loss: 11476604.0000 - val_mean_absolute_error: 2281.6611\n",
      "Epoch 40/50\n",
      "4009/4009 [==============================] - 24s 6ms/step - loss: 11241226.0000 - mean_absolute_error: 2071.9575 - val_loss: 9744579.0000 - val_mean_absolute_error: 2124.5603\n",
      "Epoch 41/50\n",
      "4009/4009 [==============================] - 23s 6ms/step - loss: 11224780.0000 - mean_absolute_error: 2064.5386 - val_loss: 12328922.0000 - val_mean_absolute_error: 2383.5027\n",
      "Epoch 42/50\n",
      "4009/4009 [==============================] - 24s 6ms/step - loss: 11321797.0000 - mean_absolute_error: 2075.7688 - val_loss: 10875731.0000 - val_mean_absolute_error: 2221.7773\n",
      "Epoch 43/50\n",
      "4009/4009 [==============================] - 24s 6ms/step - loss: 11447735.0000 - mean_absolute_error: 2145.0627 - val_loss: 11643951.0000 - val_mean_absolute_error: 2304.1165\n",
      "Epoch 44/50\n",
      "4009/4009 [==============================] - 24s 6ms/step - loss: 11146896.0000 - mean_absolute_error: 2063.2437 - val_loss: 8894928.0000 - val_mean_absolute_error: 2030.3760\n",
      "Epoch 45/50\n",
      "4009/4009 [==============================] - 25s 6ms/step - loss: 11153266.0000 - mean_absolute_error: 2061.6587 - val_loss: 10516402.0000 - val_mean_absolute_error: 2224.0728\n",
      "Epoch 46/50\n",
      "4009/4009 [==============================] - 25s 6ms/step - loss: 11071584.0000 - mean_absolute_error: 2058.5981 - val_loss: 14255681.0000 - val_mean_absolute_error: 2559.0503\n",
      "Epoch 47/50\n",
      "4009/4009 [==============================] - 23s 6ms/step - loss: 11176803.0000 - mean_absolute_error: 2066.8066 - val_loss: 9927296.0000 - val_mean_absolute_error: 2175.9475\n",
      "Epoch 48/50\n",
      "4009/4009 [==============================] - 24s 6ms/step - loss: 11103737.0000 - mean_absolute_error: 2056.9312 - val_loss: 10296603.0000 - val_mean_absolute_error: 2203.7385\n",
      "Epoch 49/50\n",
      "4009/4009 [==============================] - 24s 6ms/step - loss: 11090127.0000 - mean_absolute_error: 2062.1001 - val_loss: 11633131.0000 - val_mean_absolute_error: 2311.7710\n",
      "Epoch 50/50\n",
      "4009/4009 [==============================] - 22s 6ms/step - loss: 11109295.0000 - mean_absolute_error: 2057.8457 - val_loss: 12745263.0000 - val_mean_absolute_error: 2440.8330\n"
     ]
    }
   ],
   "source": [
    "history = model.fit(\n",
    "    X_train,y_train,\n",
    "    epochs=50,\n",
    "    batch_size=32,\n",
    "    validation_data=(X_val,y_val),\n",
    "    shuffle=False\n",
    "    )"
   ]
  },
  {
   "cell_type": "code",
   "execution_count": 10,
   "metadata": {},
   "outputs": [
    {
     "data": {
      "image/png": "[encoded data removed]",
      "text/plain": [
       "<Figure size 432x288 with 1 Axes>"
      ]
     },
     "metadata": {
      "needs_background": "light"
     },
     "output_type": "display_data"
    },
    {
     "data": {
      "image/png": "[encoded data removed]",
      "text/plain": [
       "<Figure size 432x288 with 1 Axes>"
      ]
     },
     "metadata": {
      "needs_background": "light"
     },
     "output_type": "display_data"
    }
   ],
   "source": [
    "history.history\n",
    "plt.plot(history.history[\"loss\"],label = \"loss\")\n",
    "plt.plot(history.history[\"val_loss\"],label = \"val_loss\")\n",
    "plt.legend()\n",
    "plt.show()\n",
    "plt.close()\n",
    "\n",
    "\n",
    "history.history\n",
    "plt.plot(history.history[\"mean_absolute_error\"],label = \"MAE\")\n",
    "plt.plot(history.history[\"val_mean_absolute_error\"],label = \"val_MAE\")\n",
    "plt.legend()\n",
    "plt.show()\n",
    "plt.close()"
   ]
  },
  {
   "cell_type": "code",
   "execution_count": null,
   "metadata": {},
   "outputs": [],
   "source": []
  },
  {
   "cell_type": "code",
   "execution_count": 11,
   "metadata": {},
   "outputs": [],
   "source": [
    "y_pred = model.predict(X_test)"
   ]
  },
  {
   "cell_type": "code",
   "execution_count": 12,
   "metadata": {},
   "outputs": [
    {
     "name": "stdout",
     "output_type": "stream",
     "text": [
      "The shape of the data set is: (145560, 3698)\n",
      "\n",
      "--------------------------------------------\n",
      "The shape of the train set is: (128280, 3693)\n",
      "The shape of the target variable is: (128280, 4)\n",
      "--------------------------------------------\n",
      "\n",
      "--------------------------------------------\n",
      "The shape of the validation set is: (8640, 3693)\n",
      "The shape of the target variable for the validation set is: (8640, 4)\n",
      "--------------------------------------------\n",
      "\n",
      "--------------------------------------------\n",
      "The shape of the test set is: (8640, 3693)\n",
      "The shape of the target variable for the test set is: (8640, 5)\n",
      "--------------------------------------------\n"
     ]
    }
   ],
   "source": [
    "\n",
    "list_entso = [\"predicted_System total load in MAW\", \"predicted_Wind Offshore in MAW\", \"predicted_Wind Onshore in MAW\",  \"predicted_Solar in MAW\"]\n",
    "_, _, _, _, _, y_entso = train_val_test_split(df, list_entso, 90, 90)\n",
    "y_entso_e = y_entso.iloc[:,[0,1,2,3]].to_numpy()"
   ]
  },
  {
   "cell_type": "code",
   "execution_count": null,
   "metadata": {},
   "outputs": [],
   "source": []
  },
  {
   "cell_type": "code",
   "execution_count": 13,
   "metadata": {},
   "outputs": [
    {
     "name": "stdout",
     "output_type": "stream",
     "text": [
      "=================================\n",
      "Load\n",
      "----------------------------------------------\n",
      "The overall mean absolute error of the model in MW is: 5636.4\n",
      "----------------------------------------------\n",
      "----------------------------------------------\n",
      "The overall mean absolute scaled error of the model in MW is: 10.7072\n",
      "Please note: to calculate the MASE, the prediction for the first observation was omitted\n",
      "----------------------------------------------\n",
      "=================================\n",
      "=================================\n",
      "Wind Offshore\n",
      "----------------------------------------------\n",
      "The overall mean absolute error of the model in MW is: 2210.55\n",
      "----------------------------------------------\n",
      "----------------------------------------------\n",
      "The overall mean absolute scaled error of the model in MW is: 25.5752\n",
      "Please note: to calculate the MASE, the prediction for the first observation was omitted\n",
      "----------------------------------------------\n",
      "=================================\n",
      "=================================\n",
      "Wind Onshore\n",
      "----------------------------------------------\n",
      "The overall mean absolute error of the model in MW is: 2162.62\n",
      "----------------------------------------------\n",
      "----------------------------------------------\n",
      "The overall mean absolute scaled error of the model in MW is: 10.7991\n",
      "Please note: to calculate the MASE, the prediction for the first observation was omitted\n",
      "----------------------------------------------\n",
      "=================================\n",
      "=================================\n",
      "Solar\n",
      "----------------------------------------------\n",
      "The overall mean absolute error of the model in MW is: 1456.4\n",
      "----------------------------------------------\n",
      "----------------------------------------------\n",
      "The overall mean absolute scaled error of the model in MW is: 3.5748\n",
      "Please note: to calculate the MASE, the prediction for the first observation was omitted\n",
      "----------------------------------------------\n",
      "=================================\n"
     ]
    }
   ],
   "source": [
    "list_names = [\"Load\",\"Wind Offshore\", \"Wind Onshore\", \"Solar\"]\n",
    "\n",
    "for i in range(len(y_pred[0])):\n",
    "    print(\"=================================\")\n",
    "    print(f\"{list_names[i]}\")\n",
    "    get_model_metrics(y_test.iloc[:,[-1,i]],y_pred[:,i])\n",
    "    print(\"=================================\")\n"
   ]
  },
  {
   "cell_type": "code",
   "execution_count": 14,
   "metadata": {},
   "outputs": [
    {
     "name": "stdout",
     "output_type": "stream",
     "text": [
      "=================================\n",
      "Load\n",
      "----------------------------------------------\n",
      "The overall mean absolute error of the model in MW is: 1399.12\n",
      "----------------------------------------------\n",
      "----------------------------------------------\n",
      "The overall mean absolute scaled error of the model in MW is: 2.6583\n",
      "Please note: to calculate the MASE, the prediction for the first observation was omitted\n",
      "----------------------------------------------\n",
      "=================================\n",
      "=================================\n",
      "Wind Offshore\n",
      "----------------------------------------------\n",
      "The overall mean absolute error of the model in MW is: 463.8\n",
      "----------------------------------------------\n",
      "----------------------------------------------\n",
      "The overall mean absolute scaled error of the model in MW is: 5.3665\n",
      "Please note: to calculate the MASE, the prediction for the first observation was omitted\n",
      "----------------------------------------------\n",
      "=================================\n",
      "=================================\n",
      "Wind Onshore\n",
      "----------------------------------------------\n",
      "The overall mean absolute error of the model in MW is: 917.72\n",
      "----------------------------------------------\n",
      "----------------------------------------------\n",
      "The overall mean absolute scaled error of the model in MW is: 4.5823\n",
      "Please note: to calculate the MASE, the prediction for the first observation was omitted\n",
      "----------------------------------------------\n",
      "=================================\n",
      "=================================\n",
      "Solar\n",
      "----------------------------------------------\n",
      "The overall mean absolute error of the model in MW is: 328.73\n",
      "----------------------------------------------\n",
      "----------------------------------------------\n",
      "The overall mean absolute scaled error of the model in MW is: 0.8069\n",
      "Please note: to calculate the MASE, the prediction for the first observation was omitted\n",
      "----------------------------------------------\n",
      "=================================\n"
     ]
    }
   ],
   "source": [
    "list_names = [\"Load\",\"Wind Offshore\", \"Wind Onshore\", \"Solar\"]\n",
    "\n",
    "for i in range(len(y_pred[0])):\n",
    "    print(\"=================================\")\n",
    "    print(f\"{list_names[i]}\")\n",
    "    get_model_metrics(y_test.iloc[:,[-1,i]],y_entso_e[:,i])\n",
    "    print(\"=================================\")\n"
   ]
  },
  {
   "cell_type": "code",
   "execution_count": null,
   "metadata": {},
   "outputs": [],
   "source": []
  }
 ],
 "metadata": {
  "kernelspec": {
   "display_name": "Python 3",
   "language": "python",
   "name": "python3"
  },
  "language_info": {
   "codemirror_mode": {
    "name": "ipython",
    "version": 3
   },
   "file_extension": ".py",
   "mimetype": "text/x-python",
   "name": "python",
   "nbconvert_exporter": "python",
   "pygments_lexer": "ipython3",
   "version": "3.7.9"
  }
 },
 "nbformat": 4,
 "nbformat_minor": 4
}
