{
 "cells": [
  {
   "cell_type": "code",
   "execution_count": 1,
   "metadata": {},
   "outputs": [],
   "source": [
    "import tensorflow as tf\n",
    "from tensorflow import keras\n",
    "from tensorflow.keras import Sequential\n",
    "from tensorflow.keras import layers, models\n",
    "\n",
    "import numpy as np\n",
    "import pandas as pd\n",
    "import matplotlib.pyplot as plt\n",
    "import seaborn as sns"
   ]
  },
  {
   "cell_type": "markdown",
   "metadata": {},
   "source": [
    "## Prepare data for convolution layers"
   ]
  },
  {
   "cell_type": "code",
   "execution_count": 2,
   "metadata": {},
   "outputs": [
    {
     "data": {
      "text/plain": [
       "(16, 10, 9, 204096)"
      ]
     },
     "execution_count": 2,
     "metadata": {},
     "output_type": "execute_result"
    }
   ],
   "source": [
    "# load all feature_channels\n",
    "\n",
    "path = '/Users/juangarcia/Documents/Data_Science/03_DSR/Final_Project/erste_repo/Residual_Load/'\n",
    "file = 'Data_collection_weather/feature_channel_16x10.npy'\n",
    "\n",
    "feature_channel = np.load(path+file, allow_pickle=False)\n",
    "feature_channel.shape"
   ]
  },
  {
   "cell_type": "code",
   "execution_count": 3,
   "metadata": {},
   "outputs": [
    {
     "data": {
      "text/plain": [
       "(204096, 16, 10, 9)"
      ]
     },
     "execution_count": 3,
     "metadata": {},
     "output_type": "execute_result"
    }
   ],
   "source": [
    "# rearange the axis to get the examples as the first dimension for the use in tensorflow\n",
    "feature_channel = np.moveaxis(feature_channel, -1, 0)\n",
    "feature_channel.shape"
   ]
  },
  {
   "cell_type": "code",
   "execution_count": 4,
   "metadata": {},
   "outputs": [],
   "source": [
    "# get rid of all nans - replace them with -1\n",
    "feature_channel = np.nan_to_num(feature_channel, nan=-0.0001)"
   ]
  },
  {
   "cell_type": "code",
   "execution_count": 5,
   "metadata": {},
   "outputs": [
    {
     "data": {
      "text/plain": [
       "<AxesSubplot:>"
      ]
     },
     "execution_count": 5,
     "metadata": {},
     "output_type": "execute_result"
    },
    {
     "data": {
      "image/png": "[encoded data removed]",
      "text/plain": [
       "<Figure size 432x576 with 2 Axes>"
      ]
     },
     "metadata": {
      "needs_background": "light"
     },
     "output_type": "display_data"
    }
   ],
   "source": [
    "# make sure the change did work:\n",
    "plt.figure(figsize = (6,8))\n",
    "sns.heatmap(feature_channel[80_045,::-1,:,1])"
   ]
  },
  {
   "cell_type": "code",
   "execution_count": 6,
   "metadata": {},
   "outputs": [
    {
     "data": {
      "text/plain": [
       "(204096, 10)"
      ]
     },
     "execution_count": 6,
     "metadata": {},
     "output_type": "execute_result"
    }
   ],
   "source": [
    "# load the target values\n",
    "path = '/Users/juangarcia/Documents/Data_Science/03_DSR/Final_Project/erste_repo/Residual_Load/'\n",
    "file_load = 'Data_collection_entsoe/Day_ahead_dataset.csv'\n",
    "df_load = pd.read_csv(path+file_load)\n",
    "\n",
    "df_load.shape"
   ]
  },
  {
   "cell_type": "code",
   "execution_count": 7,
   "metadata": {},
   "outputs": [
    {
     "name": "stdout",
     "output_type": "stream",
     "text": [
      "(204096, 5)\n"
     ]
    },
    {
     "data": {
      "text/html": [
       "<div>\n",
       "<style scoped>\n",
       "    .dataframe tbody tr th:only-of-type {\n",
       "        vertical-align: middle;\n",
       "    }\n",
       "\n",
       "    .dataframe tbody tr th {\n",
       "        vertical-align: top;\n",
       "    }\n",
       "\n",
       "    .dataframe thead th {\n",
       "        text-align: right;\n",
       "    }\n",
       "</style>\n",
       "<table border=\"1\" class=\"dataframe\">\n",
       "  <thead>\n",
       "    <tr style=\"text-align: right;\">\n",
       "      <th></th>\n",
       "      <th>Date</th>\n",
       "      <th>Realised/Solar in MAW</th>\n",
       "      <th>Realised/Wind Onshore in MAW</th>\n",
       "      <th>Realised/System total load in MAW</th>\n",
       "      <th>Realised/Wind Offshore in MAW</th>\n",
       "    </tr>\n",
       "  </thead>\n",
       "  <tbody>\n",
       "    <tr>\n",
       "      <th>0</th>\n",
       "      <td>2014-12-31 23:00:00</td>\n",
       "      <td>0.0</td>\n",
       "      <td>8113.0</td>\n",
       "      <td>42976.0</td>\n",
       "      <td>520.0</td>\n",
       "    </tr>\n",
       "    <tr>\n",
       "      <th>1</th>\n",
       "      <td>2014-12-31 23:15:00</td>\n",
       "      <td>0.0</td>\n",
       "      <td>8092.0</td>\n",
       "      <td>42540.0</td>\n",
       "      <td>517.0</td>\n",
       "    </tr>\n",
       "    <tr>\n",
       "      <th>2</th>\n",
       "      <td>2014-12-31 23:30:00</td>\n",
       "      <td>0.0</td>\n",
       "      <td>8161.0</td>\n",
       "      <td>42638.0</td>\n",
       "      <td>514.0</td>\n",
       "    </tr>\n",
       "    <tr>\n",
       "      <th>3</th>\n",
       "      <td>2014-12-31 23:45:00</td>\n",
       "      <td>0.0</td>\n",
       "      <td>8146.0</td>\n",
       "      <td>42483.0</td>\n",
       "      <td>515.0</td>\n",
       "    </tr>\n",
       "    <tr>\n",
       "      <th>4</th>\n",
       "      <td>2015-01-01 00:00:00</td>\n",
       "      <td>0.0</td>\n",
       "      <td>8183.0</td>\n",
       "      <td>41917.0</td>\n",
       "      <td>515.0</td>\n",
       "    </tr>\n",
       "  </tbody>\n",
       "</table>\n",
       "</div>"
      ],
      "text/plain": [
       "                  Date  Realised/Solar in MAW  Realised/Wind Onshore in MAW  \\\n",
       "0  2014-12-31 23:00:00                    0.0                        8113.0   \n",
       "1  2014-12-31 23:15:00                    0.0                        8092.0   \n",
       "2  2014-12-31 23:30:00                    0.0                        8161.0   \n",
       "3  2014-12-31 23:45:00                    0.0                        8146.0   \n",
       "4  2015-01-01 00:00:00                    0.0                        8183.0   \n",
       "\n",
       "   Realised/System total load in MAW  Realised/Wind Offshore in MAW  \n",
       "0                            42976.0                          520.0  \n",
       "1                            42540.0                          517.0  \n",
       "2                            42638.0                          514.0  \n",
       "3                            42483.0                          515.0  \n",
       "4                            41917.0                          515.0  "
      ]
     },
     "execution_count": 7,
     "metadata": {},
     "output_type": "execute_result"
    }
   ],
   "source": [
    "# keep only the target values\n",
    "df_load.drop(columns=['index', 'Day ahead/System total load in MAW',\n",
    "       'Day ahead/Solar in MAW',\n",
    "       'Day ahead/Wind Onshore in MAW', 'Day ahead/Wind Offshore in MAW'], inplace=True)\n",
    "\n",
    "print(df_load.shape)\n",
    "df_load.head()"
   ]
  },
  {
   "cell_type": "code",
   "execution_count": 8,
   "metadata": {},
   "outputs": [
    {
     "data": {
      "text/html": [
       "<div>\n",
       "<style scoped>\n",
       "    .dataframe tbody tr th:only-of-type {\n",
       "        vertical-align: middle;\n",
       "    }\n",
       "\n",
       "    .dataframe tbody tr th {\n",
       "        vertical-align: top;\n",
       "    }\n",
       "\n",
       "    .dataframe thead th {\n",
       "        text-align: right;\n",
       "    }\n",
       "</style>\n",
       "<table border=\"1\" class=\"dataframe\">\n",
       "  <thead>\n",
       "    <tr style=\"text-align: right;\">\n",
       "      <th></th>\n",
       "      <th>Realised/Solar in MAW</th>\n",
       "      <th>Realised/Wind Onshore in MAW</th>\n",
       "      <th>Realised/System total load in MAW</th>\n",
       "      <th>Realised/Wind Offshore in MAW</th>\n",
       "    </tr>\n",
       "  </thead>\n",
       "  <tbody>\n",
       "    <tr>\n",
       "      <th>count</th>\n",
       "      <td>203400.000000</td>\n",
       "      <td>203556.000000</td>\n",
       "      <td>203996.000000</td>\n",
       "      <td>203567.000000</td>\n",
       "    </tr>\n",
       "    <tr>\n",
       "      <th>mean</th>\n",
       "      <td>4544.078899</td>\n",
       "      <td>9632.608840</td>\n",
       "      <td>55502.542001</td>\n",
       "      <td>1995.614697</td>\n",
       "    </tr>\n",
       "    <tr>\n",
       "      <th>std</th>\n",
       "      <td>6941.546136</td>\n",
       "      <td>7999.657244</td>\n",
       "      <td>10032.550893</td>\n",
       "      <td>1588.686852</td>\n",
       "    </tr>\n",
       "    <tr>\n",
       "      <th>min</th>\n",
       "      <td>0.000000</td>\n",
       "      <td>88.000000</td>\n",
       "      <td>29158.000000</td>\n",
       "      <td>0.000000</td>\n",
       "    </tr>\n",
       "    <tr>\n",
       "      <th>25%</th>\n",
       "      <td>0.000000</td>\n",
       "      <td>3556.000000</td>\n",
       "      <td>47109.000000</td>\n",
       "      <td>592.000000</td>\n",
       "    </tr>\n",
       "    <tr>\n",
       "      <th>50%</th>\n",
       "      <td>100.000000</td>\n",
       "      <td>7189.000000</td>\n",
       "      <td>55121.000000</td>\n",
       "      <td>1662.000000</td>\n",
       "    </tr>\n",
       "    <tr>\n",
       "      <th>75%</th>\n",
       "      <td>7344.000000</td>\n",
       "      <td>13432.000000</td>\n",
       "      <td>64352.250000</td>\n",
       "      <td>3110.000000</td>\n",
       "    </tr>\n",
       "    <tr>\n",
       "      <th>max</th>\n",
       "      <td>33194.000000</td>\n",
       "      <td>40930.000000</td>\n",
       "      <td>77853.000000</td>\n",
       "      <td>6990.000000</td>\n",
       "    </tr>\n",
       "  </tbody>\n",
       "</table>\n",
       "</div>"
      ],
      "text/plain": [
       "       Realised/Solar in MAW  Realised/Wind Onshore in MAW  \\\n",
       "count          203400.000000                 203556.000000   \n",
       "mean             4544.078899                   9632.608840   \n",
       "std              6941.546136                   7999.657244   \n",
       "min                 0.000000                     88.000000   \n",
       "25%                 0.000000                   3556.000000   \n",
       "50%               100.000000                   7189.000000   \n",
       "75%              7344.000000                  13432.000000   \n",
       "max             33194.000000                  40930.000000   \n",
       "\n",
       "       Realised/System total load in MAW  Realised/Wind Offshore in MAW  \n",
       "count                      203996.000000                  203567.000000  \n",
       "mean                        55502.542001                    1995.614697  \n",
       "std                         10032.550893                    1588.686852  \n",
       "min                         29158.000000                       0.000000  \n",
       "25%                         47109.000000                     592.000000  \n",
       "50%                         55121.000000                    1662.000000  \n",
       "75%                         64352.250000                    3110.000000  \n",
       "max                         77853.000000                    6990.000000  "
      ]
     },
     "execution_count": 8,
     "metadata": {},
     "output_type": "execute_result"
    }
   ],
   "source": [
    "df_load.describe()"
   ]
  },
  {
   "cell_type": "code",
   "execution_count": 9,
   "metadata": {},
   "outputs": [],
   "source": [
    "df_load = df_load.interpolate(method='ffill')"
   ]
  },
  {
   "cell_type": "code",
   "execution_count": 10,
   "metadata": {},
   "outputs": [
    {
     "data": {
      "text/plain": [
       "0"
      ]
     },
     "execution_count": 10,
     "metadata": {},
     "output_type": "execute_result"
    }
   ],
   "source": [
    "df_load.isnull().sum().sum()"
   ]
  },
  {
   "cell_type": "code",
   "execution_count": 11,
   "metadata": {},
   "outputs": [],
   "source": [
    "def min_max_normalize_target_var(df):\n",
    "    # fix the min and max according to phisical properties:\n",
    "    X_max = 100_000\n",
    "    \n",
    "    for col in df.columns:\n",
    "        df[col] /= X_max\n",
    "        \n",
    "    return df"
   ]
  },
  {
   "cell_type": "code",
   "execution_count": 12,
   "metadata": {},
   "outputs": [],
   "source": [
    "df_load_norm = min_max_normalize_target_var(df_load.iloc[:,1:]) # avoid Date"
   ]
  },
  {
   "cell_type": "code",
   "execution_count": 13,
   "metadata": {},
   "outputs": [
    {
     "data": {
      "text/html": [
       "<div>\n",
       "<style scoped>\n",
       "    .dataframe tbody tr th:only-of-type {\n",
       "        vertical-align: middle;\n",
       "    }\n",
       "\n",
       "    .dataframe tbody tr th {\n",
       "        vertical-align: top;\n",
       "    }\n",
       "\n",
       "    .dataframe thead th {\n",
       "        text-align: right;\n",
       "    }\n",
       "</style>\n",
       "<table border=\"1\" class=\"dataframe\">\n",
       "  <thead>\n",
       "    <tr style=\"text-align: right;\">\n",
       "      <th></th>\n",
       "      <th>Realised/Solar in MAW</th>\n",
       "      <th>Realised/Wind Onshore in MAW</th>\n",
       "      <th>Realised/System total load in MAW</th>\n",
       "      <th>Realised/Wind Offshore in MAW</th>\n",
       "    </tr>\n",
       "  </thead>\n",
       "  <tbody>\n",
       "    <tr>\n",
       "      <th>0</th>\n",
       "      <td>0.0</td>\n",
       "      <td>0.08113</td>\n",
       "      <td>0.42976</td>\n",
       "      <td>0.00520</td>\n",
       "    </tr>\n",
       "    <tr>\n",
       "      <th>1</th>\n",
       "      <td>0.0</td>\n",
       "      <td>0.08092</td>\n",
       "      <td>0.42540</td>\n",
       "      <td>0.00517</td>\n",
       "    </tr>\n",
       "    <tr>\n",
       "      <th>2</th>\n",
       "      <td>0.0</td>\n",
       "      <td>0.08161</td>\n",
       "      <td>0.42638</td>\n",
       "      <td>0.00514</td>\n",
       "    </tr>\n",
       "    <tr>\n",
       "      <th>3</th>\n",
       "      <td>0.0</td>\n",
       "      <td>0.08146</td>\n",
       "      <td>0.42483</td>\n",
       "      <td>0.00515</td>\n",
       "    </tr>\n",
       "    <tr>\n",
       "      <th>4</th>\n",
       "      <td>0.0</td>\n",
       "      <td>0.08183</td>\n",
       "      <td>0.41917</td>\n",
       "      <td>0.00515</td>\n",
       "    </tr>\n",
       "  </tbody>\n",
       "</table>\n",
       "</div>"
      ],
      "text/plain": [
       "   Realised/Solar in MAW  Realised/Wind Onshore in MAW  \\\n",
       "0                    0.0                       0.08113   \n",
       "1                    0.0                       0.08092   \n",
       "2                    0.0                       0.08161   \n",
       "3                    0.0                       0.08146   \n",
       "4                    0.0                       0.08183   \n",
       "\n",
       "   Realised/System total load in MAW  Realised/Wind Offshore in MAW  \n",
       "0                            0.42976                        0.00520  \n",
       "1                            0.42540                        0.00517  \n",
       "2                            0.42638                        0.00514  \n",
       "3                            0.42483                        0.00515  \n",
       "4                            0.41917                        0.00515  "
      ]
     },
     "execution_count": 13,
     "metadata": {},
     "output_type": "execute_result"
    }
   ],
   "source": [
    "df_load_norm.head()"
   ]
  },
  {
   "cell_type": "code",
   "execution_count": 14,
   "metadata": {},
   "outputs": [],
   "source": [
    "np_load = df_load_norm.to_numpy(copy=True)"
   ]
  },
  {
   "cell_type": "code",
   "execution_count": 15,
   "metadata": {},
   "outputs": [
    {
     "data": {
      "text/plain": [
       "(204096, 4)"
      ]
     },
     "execution_count": 15,
     "metadata": {},
     "output_type": "execute_result"
    }
   ],
   "source": [
    "# check shape of target variable\n",
    "np_load.shape"
   ]
  },
  {
   "cell_type": "code",
   "execution_count": 16,
   "metadata": {},
   "outputs": [],
   "source": [
    "# test = feature_channel[:100_000,:,:,:]"
   ]
  },
  {
   "cell_type": "code",
   "execution_count": 17,
   "metadata": {},
   "outputs": [],
   "source": [
    "# Define X_train, X_val, Y_train, Y_val\n",
    "def train_val_test_split(feature_matrix, target_matrix, val_days, test_days):\n",
    "    '''\n",
    "    Split a time series data set into train, validation and test set\n",
    "    INPUT:\n",
    "    - feature_matrix: dataset in numpy array form with the set of features for training\n",
    "    - target_matrix: dataset in numpy array form with the set of target variables\n",
    "    - val_days: integer representing number of days to use for the validation set\n",
    "    - test_days: integer representing number of days to use for the test set\n",
    "\n",
    "    OUTPUT:\n",
    "    - X_train: data set for training\n",
    "    - y_train: matrix with target variables for training\n",
    "    - X_val: data set for validation\n",
    "    - y_val: matrix with target variables for validation\n",
    "    - X_test: data set to test the model\n",
    "    - y_val: matrix with target variables for testing\n",
    "    '''\n",
    "\n",
    "    print('The shape of the feature data set is: {}'.format(feature_matrix.shape))\n",
    "    print('The shape of the target data set is: {}'.format(target_matrix.shape))\n",
    "\n",
    "    rows_for_test = test_days*96\n",
    "    rows_for_val = val_days*96\n",
    "\n",
    "    #target_vars_for_test = target_vars.copy()\n",
    "    #target_vars_for_test.append('Date')\n",
    "\n",
    "    #df_features = df.drop(columns=target_vars_for_test).copy()\n",
    "    #df_target = df[target_vars].copy()\n",
    "    #df_target_test = df[target_vars_for_test].copy()\n",
    "\n",
    "    X_train = feature_matrix[105_120:-(rows_for_test + rows_for_val)]\n",
    "    y_train = target_matrix[105_120:-(rows_for_test + rows_for_val)]\n",
    "    print('\\n--------------------------------------------')\n",
    "    print('The shape of the train set is: {}'.format(X_train.shape))\n",
    "    print('The shape of the target variable is: {}'.format(y_train.shape))\n",
    "    print('--------------------------------------------')\n",
    "\n",
    "    X_val = feature_matrix[X_train.shape[0]+105_120:-(rows_for_test)]\n",
    "    y_val = target_matrix[y_train.shape[0]+105_120:-(rows_for_test)]\n",
    "    print('\\n--------------------------------------------')\n",
    "    print('The shape of the validation set is: {}'.format(X_val.shape))\n",
    "    print('The shape of the target variable for the validation set is: {}'.format(y_val.shape))\n",
    "    print('--------------------------------------------')\n",
    "\n",
    "    X_test = feature_matrix[X_val.shape[0]+X_train.shape[0]+105_120:]\n",
    "    y_test = target_matrix[y_val.shape[0]+X_train.shape[0]+105_120:]\n",
    "    print('\\n--------------------------------------------')\n",
    "    print('The shape of the test set is: {}'.format(X_test.shape))\n",
    "    print('The shape of the target variable for the test set is: {}'.format(y_test.shape))\n",
    "    print('--------------------------------------------')\n",
    "\n",
    "    return X_train, y_train, X_val, y_val, X_test, y_test"
   ]
  },
  {
   "cell_type": "code",
   "execution_count": 18,
   "metadata": {},
   "outputs": [
    {
     "name": "stdout",
     "output_type": "stream",
     "text": [
      "The shape of the feature data set is: (204096, 16, 10, 9)\n",
      "The shape of the target data set is: (204096, 4)\n",
      "\n",
      "--------------------------------------------\n",
      "The shape of the train set is: (81696, 16, 10, 9)\n",
      "The shape of the target variable is: (81696, 4)\n",
      "--------------------------------------------\n",
      "\n",
      "--------------------------------------------\n",
      "The shape of the validation set is: (8640, 16, 10, 9)\n",
      "The shape of the target variable for the validation set is: (8640, 4)\n",
      "--------------------------------------------\n",
      "\n",
      "--------------------------------------------\n",
      "The shape of the test set is: (8640, 16, 10, 9)\n",
      "The shape of the target variable for the test set is: (8640, 4)\n",
      "--------------------------------------------\n"
     ]
    }
   ],
   "source": [
    "X_train, y_train, X_val, y_val, X_test, y_test = train_val_test_split(feature_channel, np_load, 90, 90)"
   ]
  },
  {
   "cell_type": "markdown",
   "metadata": {},
   "source": [
    "# Set up the CNN"
   ]
  },
  {
   "cell_type": "code",
   "execution_count": 19,
   "metadata": {
    "scrolled": true
   },
   "outputs": [
    {
     "name": "stdout",
     "output_type": "stream",
     "text": [
      "Model: \"sequential\"\n",
      "_________________________________________________________________\n",
      "Layer (type)                 Output Shape              Param #   \n",
      "=================================================================\n",
      "conv2d (Conv2D)              (None, 14, 8, 32)         2624      \n",
      "_________________________________________________________________\n",
      "max_pooling2d (MaxPooling2D) (None, 7, 4, 32)          0         \n",
      "_________________________________________________________________\n",
      "conv2d_1 (Conv2D)            (None, 5, 2, 64)          18496     \n",
      "_________________________________________________________________\n",
      "max_pooling2d_1 (MaxPooling2 (None, 2, 1, 64)          0         \n",
      "_________________________________________________________________\n",
      "flatten (Flatten)            (None, 128)               0         \n",
      "_________________________________________________________________\n",
      "dense (Dense)                (None, 4)                 516       \n",
      "=================================================================\n",
      "Total params: 21,636\n",
      "Trainable params: 21,636\n",
      "Non-trainable params: 0\n",
      "_________________________________________________________________\n"
     ]
    }
   ],
   "source": [
    "model = Sequential()\n",
    "model.add(layers.Conv2D(32, (3, 3),\n",
    "          activation='relu',\n",
    "          input_shape=(16, 10, 9))\n",
    "         )\n",
    "model.add(layers.MaxPooling2D((2,2)))\n",
    "model.add(layers.Conv2D(64, (3, 3),\n",
    "          activation='relu')\n",
    "         )\n",
    "model.add(layers.MaxPooling2D((2,2)))\n",
    "model.add(layers.Flatten())\n",
    "model.add(layers.Dense(4, activation='linear'))\n",
    "\n",
    "model.summary()"
   ]
  },
  {
   "cell_type": "code",
   "execution_count": 20,
   "metadata": {},
   "outputs": [],
   "source": [
    "model.compile(loss='mean_squared_error',\n",
    "              optimizer='rmsprop',\n",
    "              metrics=['mean_absolute_error'])"
   ]
  },
  {
   "cell_type": "code",
   "execution_count": 26,
   "metadata": {},
   "outputs": [
    {
     "name": "stdout",
     "output_type": "stream",
     "text": [
      "Epoch 1/50\n",
      "1277/1277 [==============================] - 5s 4ms/step - loss: 0.0018 - mean_absolute_error: 0.0271 - val_loss: 0.0023 - val_mean_absolute_error: 0.0316\n",
      "Epoch 2/50\n",
      "1277/1277 [==============================] - 5s 4ms/step - loss: 0.0018 - mean_absolute_error: 0.0269 - val_loss: 0.0023 - val_mean_absolute_error: 0.0312\n",
      "Epoch 3/50\n",
      "1277/1277 [==============================] - 5s 4ms/step - loss: 0.0018 - mean_absolute_error: 0.0269 - val_loss: 0.0025 - val_mean_absolute_error: 0.0327\n",
      "Epoch 4/50\n",
      "1277/1277 [==============================] - 5s 4ms/step - loss: 0.0018 - mean_absolute_error: 0.0267 - val_loss: 0.0024 - val_mean_absolute_error: 0.0320\n",
      "Epoch 5/50\n",
      "1277/1277 [==============================] - 5s 4ms/step - loss: 0.0017 - mean_absolute_error: 0.0265 - val_loss: 0.0025 - val_mean_absolute_error: 0.0328\n",
      "Epoch 6/50\n",
      "1277/1277 [==============================] - 5s 4ms/step - loss: 0.0017 - mean_absolute_error: 0.0264 - val_loss: 0.0024 - val_mean_absolute_error: 0.0331\n",
      "Epoch 7/50\n",
      "1277/1277 [==============================] - 5s 4ms/step - loss: 0.0017 - mean_absolute_error: 0.0264 - val_loss: 0.0026 - val_mean_absolute_error: 0.0335\n",
      "Epoch 8/50\n",
      "1277/1277 [==============================] - 5s 4ms/step - loss: 0.0017 - mean_absolute_error: 0.0262 - val_loss: 0.0026 - val_mean_absolute_error: 0.0331\n",
      "Epoch 9/50\n",
      "1277/1277 [==============================] - 5s 4ms/step - loss: 0.0017 - mean_absolute_error: 0.0263 - val_loss: 0.0025 - val_mean_absolute_error: 0.0324\n",
      "Epoch 10/50\n",
      "1277/1277 [==============================] - 5s 4ms/step - loss: 0.0017 - mean_absolute_error: 0.0263 - val_loss: 0.0026 - val_mean_absolute_error: 0.0329\n",
      "Epoch 11/50\n",
      "1277/1277 [==============================] - 5s 4ms/step - loss: 0.0017 - mean_absolute_error: 0.0262 - val_loss: 0.0025 - val_mean_absolute_error: 0.0326\n",
      "Epoch 12/50\n",
      "1277/1277 [==============================] - 5s 4ms/step - loss: 0.0017 - mean_absolute_error: 0.0261 - val_loss: 0.0024 - val_mean_absolute_error: 0.0316\n",
      "Epoch 13/50\n",
      "1277/1277 [==============================] - 5s 4ms/step - loss: 0.0017 - mean_absolute_error: 0.0259 - val_loss: 0.0025 - val_mean_absolute_error: 0.0324\n",
      "Epoch 14/50\n",
      "1277/1277 [==============================] - 5s 4ms/step - loss: 0.0017 - mean_absolute_error: 0.0258 - val_loss: 0.0024 - val_mean_absolute_error: 0.0316\n",
      "Epoch 15/50\n",
      "1277/1277 [==============================] - 6s 4ms/step - loss: 0.0017 - mean_absolute_error: 0.0257 - val_loss: 0.0024 - val_mean_absolute_error: 0.0311\n",
      "Epoch 16/50\n",
      "1277/1277 [==============================] - 5s 4ms/step - loss: 0.0016 - mean_absolute_error: 0.0255 - val_loss: 0.0024 - val_mean_absolute_error: 0.0319\n",
      "Epoch 17/50\n",
      "1277/1277 [==============================] - 5s 4ms/step - loss: 0.0016 - mean_absolute_error: 0.0254 - val_loss: 0.0024 - val_mean_absolute_error: 0.0313\n",
      "Epoch 18/50\n",
      "1277/1277 [==============================] - 5s 4ms/step - loss: 0.0016 - mean_absolute_error: 0.0254 - val_loss: 0.0024 - val_mean_absolute_error: 0.0320\n",
      "Epoch 19/50\n",
      "1277/1277 [==============================] - 6s 4ms/step - loss: 0.0016 - mean_absolute_error: 0.0254 - val_loss: 0.0024 - val_mean_absolute_error: 0.0311\n",
      "Epoch 20/50\n",
      "1277/1277 [==============================] - 5s 4ms/step - loss: 0.0016 - mean_absolute_error: 0.0252 - val_loss: 0.0024 - val_mean_absolute_error: 0.0312\n",
      "Epoch 21/50\n",
      "1277/1277 [==============================] - 6s 4ms/step - loss: 0.0016 - mean_absolute_error: 0.0250 - val_loss: 0.0026 - val_mean_absolute_error: 0.0331\n",
      "Epoch 22/50\n",
      "1277/1277 [==============================] - 5s 4ms/step - loss: 0.0016 - mean_absolute_error: 0.0250 - val_loss: 0.0024 - val_mean_absolute_error: 0.0315\n",
      "Epoch 23/50\n",
      "1277/1277 [==============================] - 5s 4ms/step - loss: 0.0016 - mean_absolute_error: 0.0251 - val_loss: 0.0025 - val_mean_absolute_error: 0.0320\n",
      "Epoch 24/50\n",
      "1277/1277 [==============================] - 5s 4ms/step - loss: 0.0015 - mean_absolute_error: 0.0247 - val_loss: 0.0024 - val_mean_absolute_error: 0.0317\n",
      "Epoch 25/50\n",
      "1277/1277 [==============================] - 5s 4ms/step - loss: 0.0015 - mean_absolute_error: 0.0246 - val_loss: 0.0025 - val_mean_absolute_error: 0.0321\n",
      "Epoch 26/50\n",
      "1277/1277 [==============================] - 5s 4ms/step - loss: 0.0015 - mean_absolute_error: 0.0247 - val_loss: 0.0025 - val_mean_absolute_error: 0.0318\n",
      "Epoch 27/50\n",
      "1277/1277 [==============================] - 5s 4ms/step - loss: 0.0015 - mean_absolute_error: 0.0248 - val_loss: 0.0026 - val_mean_absolute_error: 0.0323\n",
      "Epoch 28/50\n",
      "1277/1277 [==============================] - 5s 4ms/step - loss: 0.0015 - mean_absolute_error: 0.0247 - val_loss: 0.0025 - val_mean_absolute_error: 0.0316\n",
      "Epoch 29/50\n",
      "1277/1277 [==============================] - 5s 4ms/step - loss: 0.0015 - mean_absolute_error: 0.0245 - val_loss: 0.0026 - val_mean_absolute_error: 0.0319\n",
      "Epoch 30/50\n",
      "1277/1277 [==============================] - 5s 4ms/step - loss: 0.0015 - mean_absolute_error: 0.0245 - val_loss: 0.0025 - val_mean_absolute_error: 0.0320\n",
      "Epoch 31/50\n",
      "1277/1277 [==============================] - 5s 4ms/step - loss: 0.0015 - mean_absolute_error: 0.0244 - val_loss: 0.0026 - val_mean_absolute_error: 0.0326\n",
      "Epoch 32/50\n",
      "1277/1277 [==============================] - 5s 4ms/step - loss: 0.0015 - mean_absolute_error: 0.0244 - val_loss: 0.0026 - val_mean_absolute_error: 0.0321\n",
      "Epoch 33/50\n",
      "1277/1277 [==============================] - 5s 4ms/step - loss: 0.0015 - mean_absolute_error: 0.0243 - val_loss: 0.0025 - val_mean_absolute_error: 0.0321\n",
      "Epoch 34/50\n",
      "1277/1277 [==============================] - 5s 4ms/step - loss: 0.0014 - mean_absolute_error: 0.0240 - val_loss: 0.0026 - val_mean_absolute_error: 0.0324\n",
      "Epoch 35/50\n",
      "1277/1277 [==============================] - 5s 4ms/step - loss: 0.0014 - mean_absolute_error: 0.0241 - val_loss: 0.0028 - val_mean_absolute_error: 0.0340\n",
      "Epoch 36/50\n",
      "1277/1277 [==============================] - 5s 4ms/step - loss: 0.0014 - mean_absolute_error: 0.0240 - val_loss: 0.0027 - val_mean_absolute_error: 0.0325\n",
      "Epoch 37/50\n",
      "1277/1277 [==============================] - 5s 4ms/step - loss: 0.0014 - mean_absolute_error: 0.0240 - val_loss: 0.0026 - val_mean_absolute_error: 0.0324\n",
      "Epoch 38/50\n",
      "1277/1277 [==============================] - 5s 4ms/step - loss: 0.0014 - mean_absolute_error: 0.0239 - val_loss: 0.0026 - val_mean_absolute_error: 0.0329\n",
      "Epoch 39/50\n",
      "1277/1277 [==============================] - 5s 4ms/step - loss: 0.0014 - mean_absolute_error: 0.0238 - val_loss: 0.0026 - val_mean_absolute_error: 0.0328\n",
      "Epoch 40/50\n",
      "1277/1277 [==============================] - 5s 4ms/step - loss: 0.0014 - mean_absolute_error: 0.0238 - val_loss: 0.0027 - val_mean_absolute_error: 0.0335\n",
      "Epoch 41/50\n",
      "1277/1277 [==============================] - 5s 4ms/step - loss: 0.0014 - mean_absolute_error: 0.0236 - val_loss: 0.0026 - val_mean_absolute_error: 0.0330\n",
      "Epoch 42/50\n",
      "1277/1277 [==============================] - 5s 4ms/step - loss: 0.0014 - mean_absolute_error: 0.0236 - val_loss: 0.0024 - val_mean_absolute_error: 0.0319\n",
      "Epoch 43/50\n",
      "1277/1277 [==============================] - 5s 4ms/step - loss: 0.0014 - mean_absolute_error: 0.0236 - val_loss: 0.0027 - val_mean_absolute_error: 0.0331\n",
      "Epoch 44/50\n",
      "1277/1277 [==============================] - 5s 4ms/step - loss: 0.0014 - mean_absolute_error: 0.0234 - val_loss: 0.0026 - val_mean_absolute_error: 0.0327\n",
      "Epoch 45/50\n",
      "1277/1277 [==============================] - 5s 4ms/step - loss: 0.0014 - mean_absolute_error: 0.0233 - val_loss: 0.0026 - val_mean_absolute_error: 0.0324\n",
      "Epoch 46/50\n",
      "1277/1277 [==============================] - 5s 4ms/step - loss: 0.0014 - mean_absolute_error: 0.0233 - val_loss: 0.0027 - val_mean_absolute_error: 0.0330\n",
      "Epoch 47/50\n",
      "1277/1277 [==============================] - 5s 4ms/step - loss: 0.0014 - mean_absolute_error: 0.0233 - val_loss: 0.0025 - val_mean_absolute_error: 0.0315\n",
      "Epoch 48/50\n",
      "1277/1277 [==============================] - 5s 4ms/step - loss: 0.0014 - mean_absolute_error: 0.0234 - val_loss: 0.0026 - val_mean_absolute_error: 0.0326\n",
      "Epoch 49/50\n",
      "1277/1277 [==============================] - 5s 4ms/step - loss: 0.0014 - mean_absolute_error: 0.0233 - val_loss: 0.0027 - val_mean_absolute_error: 0.0337\n",
      "Epoch 50/50\n",
      "1277/1277 [==============================] - 5s 4ms/step - loss: 0.0013 - mean_absolute_error: 0.0232 - val_loss: 0.0027 - val_mean_absolute_error: 0.0333\n"
     ]
    }
   ],
   "source": [
    "history = model.fit(X_train, y_train,\n",
    "                    batch_size=64,\n",
    "                    epochs = 50,\n",
    "                    validation_data=(X_val,y_val),\n",
    "                    shuffle=False)"
   ]
  },
  {
   "cell_type": "code",
   "execution_count": 27,
   "metadata": {},
   "outputs": [
    {
     "data": {
      "image/png": "[encoded data removed]",
      "text/plain": [
       "<Figure size 432x288 with 1 Axes>"
      ]
     },
     "metadata": {
      "needs_background": "light"
     },
     "output_type": "display_data"
    },
    {
     "data": {
      "image/png": "[encoded data removed]",
      "text/plain": [
       "<Figure size 432x288 with 1 Axes>"
      ]
     },
     "metadata": {
      "needs_background": "light"
     },
     "output_type": "display_data"
    }
   ],
   "source": [
    "history.history\n",
    "plt.plot(history.history[\"loss\"],label = \"loss\")\n",
    "plt.plot(history.history[\"val_loss\"],label = \"val_loss\")\n",
    "plt.legend()\n",
    "plt.show()\n",
    "plt.close()\n",
    "\n",
    "\n",
    "history.history\n",
    "plt.plot(history.history[\"mean_absolute_error\"],label = \"MAE\")\n",
    "plt.plot(history.history[\"val_mean_absolute_error\"],label = \"val_MAE\")\n",
    "plt.legend()\n",
    "plt.show()\n",
    "plt.close()"
   ]
  },
  {
   "cell_type": "code",
   "execution_count": 28,
   "metadata": {},
   "outputs": [],
   "source": [
    "y_pred = model.predict(X_test)"
   ]
  },
  {
   "cell_type": "code",
   "execution_count": 29,
   "metadata": {},
   "outputs": [
    {
     "data": {
      "text/plain": [
       "(8640, 4)"
      ]
     },
     "execution_count": 29,
     "metadata": {},
     "output_type": "execute_result"
    }
   ],
   "source": [
    "y_pred.shape"
   ]
  },
  {
   "cell_type": "code",
   "execution_count": 30,
   "metadata": {},
   "outputs": [
    {
     "ename": "Exception",
     "evalue": "Stop the kernel!",
     "output_type": "error",
     "traceback": [
      "\u001b[0;31m---------------------------------------------------------------------------\u001b[0m",
      "\u001b[0;31mException\u001b[0m                                 Traceback (most recent call last)",
      "\u001b[0;32m<ipython-input-30-97282cbbf16e>\u001b[0m in \u001b[0;36m<module>\u001b[0;34m\u001b[0m\n\u001b[0;32m----> 1\u001b[0;31m \u001b[0;32mraise\u001b[0m \u001b[0mException\u001b[0m\u001b[0;34m(\u001b[0m\u001b[0;34m\"Stop the kernel!\"\u001b[0m\u001b[0;34m)\u001b[0m\u001b[0;34m\u001b[0m\u001b[0;34m\u001b[0m\u001b[0m\n\u001b[0m",
      "\u001b[0;31mException\u001b[0m: Stop the kernel!"
     ]
    }
   ],
   "source": [
    "  raise Exception(\"Stop the kernel!\") "
   ]
  },
  {
   "cell_type": "code",
   "execution_count": 31,
   "metadata": {},
   "outputs": [],
   "source": [
    "from sklearn.metrics import mean_absolute_error\n",
    "\n",
    "def get_model_metrics(y_true_with_date, y_prediction):\n",
    "\n",
    "    y_true = np.array(y_true_with_date.iloc[:,1])\n",
    "    y_pred = np.array(y_prediction)\n",
    "\n",
    "\n",
    "    # get the total error and the overall MAE\n",
    "\n",
    "    overall_mae = mean_absolute_error(y_true, y_pred)\n",
    "    absolute_error = overall_mae * len(y_true)\n",
    "\n",
    "    print('\\n----------------------------------------------')\n",
    "    print(f'The absolute error (total actual minus  forecast) in MW is: {round(absolute_error, 2)}')\n",
    "    print('----------------------------------------------\\n')\n",
    "\n",
    "    print('\\n----------------------------------------------')\n",
    "    print(f'The overall mean absolute error of the model in MW is: {overall_mae}')\n",
    "    print('----------------------------------------------\\n')\n",
    "\n",
    "    # get the overall mean absolute scaled error (MASE)\n",
    "\n",
    "    naive_forecast = y_true[1:]\n",
    "    y_true_for_mase = y_true[:-1]\n",
    "    mae_naive = mean_absolute_error(y_true_for_mase, naive_forecast)\n",
    "    overall_mae_without_first_observation = mean_absolute_error(y_true[1:], y_pred[1:])\n",
    "\n",
    "    overall_mase = overall_mae_without_first_observation/mae_naive\n",
    "\n",
    "    print('\\n----------------------------------------------')\n",
    "    print(f'The overall mean absolute scaled error of the model in MW is: {overall_mase}')\n",
    "    print('Please note: to calculate the MASE, the prediction for the first observation was omitted')\n",
    "    print('----------------------------------------------\\n')\n",
    "\n",
    "    # get the MAE for every day and return a dataframe and charts\n",
    "\n",
    "    time_stamp = np.array(\n",
    "                 pd.to_datetime(y_true_with_date.iloc[:,0], format='%Y-%m-%d %H:%M:%S').dt.date\n",
    "                 )\n",
    "\n",
    "    date_list = list()\n",
    "    y_true_list = list()\n",
    "    y_pred_list = list()\n",
    "\n",
    "    df = pd.DataFrame({'Date': time_stamp,\n",
    "                       'y_true': y_true,\n",
    "                       'y_pred': y_pred})\n",
    "\n",
    "    list_of_days = sorted(list(set(df.Date.values)))\n",
    "\n",
    "    for day in list_of_days:\n",
    "        sub_df = df.query('Date == @day')\n",
    "        date_list.append(sub_df.Date.values)\n",
    "        y_true_list.append(sub_df.y_true.values)\n",
    "        y_pred_list.append(sub_df.y_pred.values)\n",
    "\n",
    "    mae_list = list()\n",
    "    for i, j, k in zip(y_true_list, y_pred_list, date_list):\n",
    "        MAE = mean_absolute_error(i, j)\n",
    "        mae_list.append(MAE)\n",
    "\n",
    "    del df\n",
    "\n",
    "    df = pd.DataFrame({'day':list_of_days, 'MAE': mae_list},)\n",
    "\n",
    "    print('\\n----------------------------------------------')\n",
    "    print('This function also returns a dataframe with the MAE for each day')\n",
    "    print('----------------------------------------------\\n')\n",
    "\n",
    "    return df"
   ]
  },
  {
   "cell_type": "code",
   "execution_count": 39,
   "metadata": {},
   "outputs": [
    {
     "name": "stdout",
     "output_type": "stream",
     "text": [
      "[0.05294 0.05353 0.05336 ... 0.04525 0.04525 0.04525]\n",
      "[0.03758285 0.03858622 0.0392504  ... 0.03729891 0.03729891 0.03729891]\n"
     ]
    }
   ],
   "source": [
    "print(y_test[:,3])\n",
    "print(y_pred[:,3])"
   ]
  },
  {
   "cell_type": "code",
   "execution_count": 40,
   "metadata": {},
   "outputs": [
    {
     "name": "stdout",
     "output_type": "stream",
     "text": [
      "[5294. 5353. 5336. ... 4525. 4525. 4525.]\n",
      "[3758.2852 3858.622  3925.0403 ... 3729.891  3729.891  3729.891 ]\n"
     ]
    }
   ],
   "source": [
    "# re-scaled the results\n",
    "y_test *= 100_000\n",
    "y_pred *= 100_000\n",
    "\n",
    "print(y_test[:,3])\n",
    "print(y_pred[:,3])"
   ]
  },
  {
   "cell_type": "code",
   "execution_count": 41,
   "metadata": {
    "scrolled": true
   },
   "outputs": [],
   "source": [
    "# create dataframe for y_test with dates\n",
    "\n",
    "y_true_with_date = pd.DataFrame({'Date':df_load.iloc[-y_test.shape[0]:,0],\n",
    "                                 'solar':y_test[:,0], \n",
    "                                 'wind_onshore':y_test[:,1], \n",
    "                                 'load':y_test[:,2], \n",
    "                                 'wind_offshore':y_test[:,3]})"
   ]
  },
  {
   "cell_type": "code",
   "execution_count": null,
   "metadata": {},
   "outputs": [],
   "source": [
    "y_true_with_date.iloc[:,[0,1]]"
   ]
  },
  {
   "cell_type": "code",
   "execution_count": 43,
   "metadata": {},
   "outputs": [
    {
     "name": "stdout",
     "output_type": "stream",
     "text": [
      "\n",
      "=================================\n",
      "solar\n",
      "\n",
      "----------------------------------------------\n",
      "The absolute error (total actual minus  forecast) in MW is: 23700874.07\n",
      "----------------------------------------------\n",
      "\n",
      "\n",
      "----------------------------------------------\n",
      "The overall mean absolute error of the model in MW is: 2743.1567208304728\n",
      "----------------------------------------------\n",
      "\n",
      "\n",
      "----------------------------------------------\n",
      "The overall mean absolute scaled error of the model in MW is: 6.8139598208766765\n",
      "Please note: to calculate the MASE, the prediction for the first observation was omitted\n",
      "----------------------------------------------\n",
      "\n",
      "\n",
      "----------------------------------------------\n",
      "This function also returns a dataframe with the MAE for each day\n",
      "----------------------------------------------\n",
      "\n",
      "=================================\n",
      "\n",
      "\n",
      "=================================\n",
      "wind_onshore\n",
      "\n",
      "----------------------------------------------\n",
      "The absolute error (total actual minus  forecast) in MW is: 21924647.1\n",
      "----------------------------------------------\n",
      "\n",
      "\n",
      "----------------------------------------------\n",
      "The overall mean absolute error of the model in MW is: 2537.5748958601444\n",
      "----------------------------------------------\n",
      "\n",
      "\n",
      "----------------------------------------------\n",
      "The overall mean absolute scaled error of the model in MW is: 12.831302442345256\n",
      "Please note: to calculate the MASE, the prediction for the first observation was omitted\n",
      "----------------------------------------------\n",
      "\n",
      "\n",
      "----------------------------------------------\n",
      "This function also returns a dataframe with the MAE for each day\n",
      "----------------------------------------------\n",
      "\n",
      "=================================\n",
      "\n",
      "\n",
      "=================================\n",
      "load\n",
      "\n",
      "----------------------------------------------\n",
      "The absolute error (total actual minus  forecast) in MW is: 58186882.13\n",
      "----------------------------------------------\n",
      "\n",
      "\n",
      "----------------------------------------------\n",
      "The overall mean absolute error of the model in MW is: 6734.592839219835\n",
      "----------------------------------------------\n",
      "\n",
      "\n",
      "----------------------------------------------\n",
      "The overall mean absolute scaled error of the model in MW is: 12.889954802162508\n",
      "Please note: to calculate the MASE, the prediction for the first observation was omitted\n",
      "----------------------------------------------\n",
      "\n",
      "\n",
      "----------------------------------------------\n",
      "This function also returns a dataframe with the MAE for each day\n",
      "----------------------------------------------\n",
      "\n",
      "=================================\n",
      "\n",
      "\n",
      "=================================\n",
      "wind_offshore\n",
      "\n",
      "----------------------------------------------\n",
      "The absolute error (total actual minus  forecast) in MW is: 11145190.48\n",
      "----------------------------------------------\n",
      "\n",
      "\n",
      "----------------------------------------------\n",
      "The overall mean absolute error of the model in MW is: 1289.952602281342\n",
      "----------------------------------------------\n",
      "\n",
      "\n",
      "----------------------------------------------\n",
      "The overall mean absolute scaled error of the model in MW is: 15.0578737646081\n",
      "Please note: to calculate the MASE, the prediction for the first observation was omitted\n",
      "----------------------------------------------\n",
      "\n",
      "\n",
      "----------------------------------------------\n",
      "This function also returns a dataframe with the MAE for each day\n",
      "----------------------------------------------\n",
      "\n",
      "=================================\n",
      "\n"
     ]
    }
   ],
   "source": [
    "list_names = [\"solar\",\"wind_onshore\", \"load\", \"wind_offshore\"]\n",
    "\n",
    "metrics_dict = dict()\n",
    "for i in range(len(y_pred[0])):\n",
    "    print(\"\\n=================================\")\n",
    "    print(f\"{list_names[i]}\")\n",
    "    metrics_dict[list_names[i]] = get_model_metrics(y_true_with_date.iloc[:,[0,i+1]],y_pred[:,i])\n",
    "    print(\"=================================\\n\")"
   ]
  },
  {
   "cell_type": "code",
   "execution_count": 49,
   "metadata": {},
   "outputs": [],
   "source": [
    "import plotly.express as px"
   ]
  },
  {
   "cell_type": "code",
   "execution_count": 47,
   "metadata": {},
   "outputs": [
    {
     "data": {
      "text/html": [
       "<div>\n",
       "<style scoped>\n",
       "    .dataframe tbody tr th:only-of-type {\n",
       "        vertical-align: middle;\n",
       "    }\n",
       "\n",
       "    .dataframe tbody tr th {\n",
       "        vertical-align: top;\n",
       "    }\n",
       "\n",
       "    .dataframe thead th {\n",
       "        text-align: right;\n",
       "    }\n",
       "</style>\n",
       "<table border=\"1\" class=\"dataframe\">\n",
       "  <thead>\n",
       "    <tr style=\"text-align: right;\">\n",
       "      <th></th>\n",
       "      <th>day</th>\n",
       "      <th>MAE</th>\n",
       "    </tr>\n",
       "  </thead>\n",
       "  <tbody>\n",
       "    <tr>\n",
       "      <th>0</th>\n",
       "      <td>2020-07-28</td>\n",
       "      <td>351.587271</td>\n",
       "    </tr>\n",
       "    <tr>\n",
       "      <th>1</th>\n",
       "      <td>2020-07-29</td>\n",
       "      <td>4442.771411</td>\n",
       "    </tr>\n",
       "    <tr>\n",
       "      <th>2</th>\n",
       "      <td>2020-07-30</td>\n",
       "      <td>3069.740216</td>\n",
       "    </tr>\n",
       "    <tr>\n",
       "      <th>3</th>\n",
       "      <td>2020-07-31</td>\n",
       "      <td>4000.461457</td>\n",
       "    </tr>\n",
       "    <tr>\n",
       "      <th>4</th>\n",
       "      <td>2020-08-01</td>\n",
       "      <td>3350.992152</td>\n",
       "    </tr>\n",
       "    <tr>\n",
       "      <th>...</th>\n",
       "      <td>...</td>\n",
       "      <td>...</td>\n",
       "    </tr>\n",
       "    <tr>\n",
       "      <th>86</th>\n",
       "      <td>2020-10-22</td>\n",
       "      <td>2399.857822</td>\n",
       "    </tr>\n",
       "    <tr>\n",
       "      <th>87</th>\n",
       "      <td>2020-10-23</td>\n",
       "      <td>1148.854641</td>\n",
       "    </tr>\n",
       "    <tr>\n",
       "      <th>88</th>\n",
       "      <td>2020-10-24</td>\n",
       "      <td>1368.011587</td>\n",
       "    </tr>\n",
       "    <tr>\n",
       "      <th>89</th>\n",
       "      <td>2020-10-25</td>\n",
       "      <td>1864.474076</td>\n",
       "    </tr>\n",
       "    <tr>\n",
       "      <th>90</th>\n",
       "      <td>2020-10-26</td>\n",
       "      <td>1835.095293</td>\n",
       "    </tr>\n",
       "  </tbody>\n",
       "</table>\n",
       "<p>91 rows × 2 columns</p>\n",
       "</div>"
      ],
      "text/plain": [
       "           day          MAE\n",
       "0   2020-07-28   351.587271\n",
       "1   2020-07-29  4442.771411\n",
       "2   2020-07-30  3069.740216\n",
       "3   2020-07-31  4000.461457\n",
       "4   2020-08-01  3350.992152\n",
       "..         ...          ...\n",
       "86  2020-10-22  2399.857822\n",
       "87  2020-10-23  1148.854641\n",
       "88  2020-10-24  1368.011587\n",
       "89  2020-10-25  1864.474076\n",
       "90  2020-10-26  1835.095293\n",
       "\n",
       "[91 rows x 2 columns]"
      ]
     },
     "execution_count": 47,
     "metadata": {},
     "output_type": "execute_result"
    }
   ],
   "source": [
    "metrics_dict['solar']"
   ]
  },
  {
   "cell_type": "code",
   "execution_count": null,
   "metadata": {},
   "outputs": [],
   "source": []
  }
 ],
 "metadata": {
  "kernelspec": {
   "display_name": "Python 3",
   "language": "python",
   "name": "python3"
  },
  "language_info": {
   "codemirror_mode": {
    "name": "ipython",
    "version": 3
   },
   "file_extension": ".py",
   "mimetype": "text/x-python",
   "name": "python",
   "nbconvert_exporter": "python",
   "pygments_lexer": "ipython3",
   "version": "3.8.5"
  }
 },
 "nbformat": 4,
 "nbformat_minor": 4
}
