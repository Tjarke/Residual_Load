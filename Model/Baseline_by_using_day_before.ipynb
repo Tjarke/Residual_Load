{
 "cells": [
  {
   "cell_type": "markdown",
   "metadata": {},
   "source": [
    "# Creating a Baseline \n",
    "We create a baseline by predicting the value of tomorrow by using the value it was today at the same time!"
   ]
  },
  {
   "cell_type": "code",
   "execution_count": 19,
   "metadata": {},
   "outputs": [],
   "source": [
    "import pandas as pd\n",
    "import datetime\n",
    "import numpy as np\n",
    "from utils import get_model_metrics\n",
    "from utils import train_val_test_split"
   ]
  },
  {
   "cell_type": "markdown",
   "metadata": {},
   "source": [
    "We load the energy data. Then we:\n",
    "<br/>-add a new row in wich we add the values from 96 timesteps before (= one day before)\n",
    "<br/>-we print out the columns to compare the values and check our result\n",
    "<br/>-we split the data into the train test split we will use for our models\n"
   ]
  },
  {
   "cell_type": "code",
   "execution_count": 28,
   "metadata": {},
   "outputs": [],
   "source": [
    "df = pd.read_csv(\"Complete_daily_data.csv\",parse_dates=[0])\n",
    "df = df.loc[:,['Date', 'System total load in MAW',\n",
    "       'Wind Offshore in MAW', 'Wind Onshore in MAW', 'Solar in MAW',\n",
    "       'predicted_Wind Offshore in MAW', 'predicted_Wind Onshore in MAW',\n",
    "       'predicted_System total load in MAW', 'predicted_Solar in MAW']] "
   ]
  },
  {
   "cell_type": "code",
   "execution_count": 36,
   "metadata": {},
   "outputs": [],
   "source": [
    "df.dropna(inplace=True)"
   ]
  },
  {
   "cell_type": "code",
   "execution_count": 37,
   "metadata": {},
   "outputs": [],
   "source": [
    "df.loc[:,\"Baseline System total load in MAW\"] = df.loc[:,\"System total load in MAW\"].shift(periods=96, fill_value=None)\n",
    "df.loc[:,\"Baseline Solar in MAW\"] = df.loc[:,\"Solar in MAW\"].shift(periods=96, fill_value=None)\n",
    "df.loc[:,\"Baseline Wind Offshore in MAW\"] = df.loc[:,\"Wind Offshore in MAW\"].shift(periods=96, fill_value=None)\n",
    "df.loc[:,\"Baseline Wind Onshore in MAW\"] = df.loc[:,\"Wind Onshore in MAW\"].shift(periods=96, fill_value=None)"
   ]
  },
  {
   "cell_type": "code",
   "execution_count": 38,
   "metadata": {},
   "outputs": [
    {
     "data": {
      "text/html": [
       "<div>\n",
       "<style scoped>\n",
       "    .dataframe tbody tr th:only-of-type {\n",
       "        vertical-align: middle;\n",
       "    }\n",
       "\n",
       "    .dataframe tbody tr th {\n",
       "        vertical-align: top;\n",
       "    }\n",
       "\n",
       "    .dataframe thead th {\n",
       "        text-align: right;\n",
       "    }\n",
       "</style>\n",
       "<table border=\"1\" class=\"dataframe\">\n",
       "  <thead>\n",
       "    <tr style=\"text-align: right;\">\n",
       "      <th></th>\n",
       "      <th>Date</th>\n",
       "      <th>Solar in MAW</th>\n",
       "      <th>Wind Offshore in MAW</th>\n",
       "      <th>Wind Onshore in MAW</th>\n",
       "      <th>System total load in MAW</th>\n",
       "    </tr>\n",
       "  </thead>\n",
       "  <tbody>\n",
       "    <tr>\n",
       "      <th>203903</th>\n",
       "      <td>2020-10-24 22:45:00</td>\n",
       "      <td>0.0</td>\n",
       "      <td>5909.0</td>\n",
       "      <td>23749.0</td>\n",
       "      <td>41322.0</td>\n",
       "    </tr>\n",
       "    <tr>\n",
       "      <th>203904</th>\n",
       "      <td>2020-10-24 23:00:00</td>\n",
       "      <td>0.0</td>\n",
       "      <td>5918.0</td>\n",
       "      <td>23915.0</td>\n",
       "      <td>40405.0</td>\n",
       "    </tr>\n",
       "    <tr>\n",
       "      <th>203905</th>\n",
       "      <td>2020-10-24 23:15:00</td>\n",
       "      <td>0.0</td>\n",
       "      <td>5986.0</td>\n",
       "      <td>23998.0</td>\n",
       "      <td>40094.0</td>\n",
       "    </tr>\n",
       "    <tr>\n",
       "      <th>203906</th>\n",
       "      <td>2020-10-24 23:30:00</td>\n",
       "      <td>0.0</td>\n",
       "      <td>5986.0</td>\n",
       "      <td>24042.0</td>\n",
       "      <td>39772.0</td>\n",
       "    </tr>\n",
       "    <tr>\n",
       "      <th>203907</th>\n",
       "      <td>2020-10-24 23:45:00</td>\n",
       "      <td>0.0</td>\n",
       "      <td>5937.0</td>\n",
       "      <td>23988.0</td>\n",
       "      <td>39899.0</td>\n",
       "    </tr>\n",
       "  </tbody>\n",
       "</table>\n",
       "</div>"
      ],
      "text/plain": [
       "                      Date  Solar in MAW  Wind Offshore in MAW  \\\n",
       "203903 2020-10-24 22:45:00           0.0                5909.0   \n",
       "203904 2020-10-24 23:00:00           0.0                5918.0   \n",
       "203905 2020-10-24 23:15:00           0.0                5986.0   \n",
       "203906 2020-10-24 23:30:00           0.0                5986.0   \n",
       "203907 2020-10-24 23:45:00           0.0                5937.0   \n",
       "\n",
       "        Wind Onshore in MAW  System total load in MAW  \n",
       "203903              23749.0                   41322.0  \n",
       "203904              23915.0                   40405.0  \n",
       "203905              23998.0                   40094.0  \n",
       "203906              24042.0                   39772.0  \n",
       "203907              23988.0                   39899.0  "
      ]
     },
     "execution_count": 38,
     "metadata": {},
     "output_type": "execute_result"
    }
   ],
   "source": [
    "df.loc[:,[\"Date\",\"Solar in MAW\",\"Wind Offshore in MAW\",\"Wind Onshore in MAW\",\"System total load in MAW\"]].tail(n=101).head()"
   ]
  },
  {
   "cell_type": "code",
   "execution_count": 39,
   "metadata": {},
   "outputs": [
    {
     "data": {
      "text/html": [
       "<div>\n",
       "<style scoped>\n",
       "    .dataframe tbody tr th:only-of-type {\n",
       "        vertical-align: middle;\n",
       "    }\n",
       "\n",
       "    .dataframe tbody tr th {\n",
       "        vertical-align: top;\n",
       "    }\n",
       "\n",
       "    .dataframe thead th {\n",
       "        text-align: right;\n",
       "    }\n",
       "</style>\n",
       "<table border=\"1\" class=\"dataframe\">\n",
       "  <thead>\n",
       "    <tr style=\"text-align: right;\">\n",
       "      <th></th>\n",
       "      <th>Date</th>\n",
       "      <th>Baseline Solar in MAW</th>\n",
       "      <th>Baseline Wind Offshore in MAW</th>\n",
       "      <th>Baseline Wind Onshore in MAW</th>\n",
       "      <th>Baseline System total load in MAW</th>\n",
       "    </tr>\n",
       "  </thead>\n",
       "  <tbody>\n",
       "    <tr>\n",
       "      <th>203999</th>\n",
       "      <td>2020-10-25 22:45:00</td>\n",
       "      <td>0.0</td>\n",
       "      <td>5909.0</td>\n",
       "      <td>23749.0</td>\n",
       "      <td>41322.0</td>\n",
       "    </tr>\n",
       "    <tr>\n",
       "      <th>204000</th>\n",
       "      <td>2020-10-25 23:00:00</td>\n",
       "      <td>0.0</td>\n",
       "      <td>5918.0</td>\n",
       "      <td>23915.0</td>\n",
       "      <td>40405.0</td>\n",
       "    </tr>\n",
       "    <tr>\n",
       "      <th>204001</th>\n",
       "      <td>2020-10-25 23:15:00</td>\n",
       "      <td>0.0</td>\n",
       "      <td>5986.0</td>\n",
       "      <td>23998.0</td>\n",
       "      <td>40094.0</td>\n",
       "    </tr>\n",
       "    <tr>\n",
       "      <th>204002</th>\n",
       "      <td>2020-10-25 23:30:00</td>\n",
       "      <td>0.0</td>\n",
       "      <td>5986.0</td>\n",
       "      <td>24042.0</td>\n",
       "      <td>39772.0</td>\n",
       "    </tr>\n",
       "    <tr>\n",
       "      <th>204003</th>\n",
       "      <td>2020-10-25 23:45:00</td>\n",
       "      <td>0.0</td>\n",
       "      <td>5937.0</td>\n",
       "      <td>23988.0</td>\n",
       "      <td>39899.0</td>\n",
       "    </tr>\n",
       "  </tbody>\n",
       "</table>\n",
       "</div>"
      ],
      "text/plain": [
       "                      Date  Baseline Solar in MAW  \\\n",
       "203999 2020-10-25 22:45:00                    0.0   \n",
       "204000 2020-10-25 23:00:00                    0.0   \n",
       "204001 2020-10-25 23:15:00                    0.0   \n",
       "204002 2020-10-25 23:30:00                    0.0   \n",
       "204003 2020-10-25 23:45:00                    0.0   \n",
       "\n",
       "        Baseline Wind Offshore in MAW  Baseline Wind Onshore in MAW  \\\n",
       "203999                         5909.0                       23749.0   \n",
       "204000                         5918.0                       23915.0   \n",
       "204001                         5986.0                       23998.0   \n",
       "204002                         5986.0                       24042.0   \n",
       "204003                         5937.0                       23988.0   \n",
       "\n",
       "        Baseline System total load in MAW  \n",
       "203999                            41322.0  \n",
       "204000                            40405.0  \n",
       "204001                            40094.0  \n",
       "204002                            39772.0  \n",
       "204003                            39899.0  "
      ]
     },
     "execution_count": 39,
     "metadata": {},
     "output_type": "execute_result"
    }
   ],
   "source": [
    "df.loc[:,[\"Date\",\"Baseline Solar in MAW\",\"Baseline Wind Offshore in MAW\",\"Baseline Wind Onshore in MAW\",\"Baseline System total load in MAW\"]].tail()"
   ]
  },
  {
   "cell_type": "code",
   "execution_count": 40,
   "metadata": {},
   "outputs": [],
   "source": [
    "target_vars = [\"System total load in MAW\",\"Wind Offshore in MAW\",\"Wind Onshore in MAW\",\"Solar in MAW\"]"
   ]
  },
  {
   "cell_type": "code",
   "execution_count": 41,
   "metadata": {},
   "outputs": [
    {
     "name": "stdout",
     "output_type": "stream",
     "text": [
      "The shape of the data set is: (201698, 13)\n",
      "\n",
      "--------------------------------------------\n",
      "The shape of the train set is: (184418, 8)\n",
      "The shape of the target variable is: (184418, 4)\n",
      "--------------------------------------------\n",
      "\n",
      "--------------------------------------------\n",
      "The shape of the validation set is: (8640, 8)\n",
      "The shape of the target variable for the validation set is: (8640, 4)\n",
      "--------------------------------------------\n",
      "\n",
      "--------------------------------------------\n",
      "The shape of the test set is: (8640, 8)\n",
      "The shape of the target variable for the test set is: (8640, 5)\n",
      "--------------------------------------------\n"
     ]
    }
   ],
   "source": [
    "X_train, y_train, X_val, y_val, X_test, y_test = train_val_test_split(df, target_vars, 90, 90)"
   ]
  },
  {
   "cell_type": "code",
   "execution_count": 42,
   "metadata": {},
   "outputs": [],
   "source": [
    "\n",
    "y_pred = X_test.loc[:,[\"Baseline Solar in MAW\",\"Baseline Wind Offshore in MAW\",\"Baseline Wind Onshore in MAW\",\"Baseline System total load in MAW\"]]"
   ]
  },
  {
   "cell_type": "code",
   "execution_count": null,
   "metadata": {},
   "outputs": [],
   "source": []
  },
  {
   "cell_type": "code",
   "execution_count": null,
   "metadata": {},
   "outputs": [],
   "source": []
  },
  {
   "cell_type": "code",
   "execution_count": 44,
   "metadata": {},
   "outputs": [
    {
     "name": "stdout",
     "output_type": "stream",
     "text": [
      "System total load in MAW\n",
      "=======================================\n",
      "----------------------------------------------\n",
      "The overall mean absolute error of the model in MW is: 4068.58\n",
      "----------------------------------------------\n",
      "----------------------------------------------\n",
      "The overall mean absolute scaled error of the model in MW is: 7.6954\n",
      "Please note: to calculate the MASE, the prediction for the first observation was omitted\n",
      "----------------------------------------------\n",
      "Wind Offshore in MAW\n",
      "=======================================\n",
      "----------------------------------------------\n",
      "The overall mean absolute error of the model in MW is: 1792.77\n",
      "----------------------------------------------\n",
      "----------------------------------------------\n",
      "The overall mean absolute scaled error of the model in MW is: 20.6878\n",
      "Please note: to calculate the MASE, the prediction for the first observation was omitted\n",
      "----------------------------------------------\n",
      "Wind Onshore in MAW\n",
      "=======================================\n",
      "----------------------------------------------\n",
      "The overall mean absolute error of the model in MW is: 5682.54\n",
      "----------------------------------------------\n",
      "----------------------------------------------\n",
      "The overall mean absolute scaled error of the model in MW is: 28.2645\n",
      "Please note: to calculate the MASE, the prediction for the first observation was omitted\n",
      "----------------------------------------------\n",
      "Solar in MAW\n",
      "=======================================\n",
      "----------------------------------------------\n",
      "The overall mean absolute error of the model in MW is: 1089.48\n",
      "----------------------------------------------\n",
      "----------------------------------------------\n",
      "The overall mean absolute scaled error of the model in MW is: 2.6691\n",
      "Please note: to calculate the MASE, the prediction for the first observation was omitted\n",
      "----------------------------------------------\n"
     ]
    }
   ],
   "source": [
    "for i in target_vars:\n",
    "    print(i)\n",
    "    print(\"=======================================\")\n",
    "    mae_base = get_model_metrics(y_test.loc[:,[\"Date\",i]],y_pred.loc[:,(\"Baseline \"+i)])\n",
    "#     print(f\"The naive value for {i} has mae = {round(mae_base,2)} and entsoe has = {round(mae_entsoe,2)}\")"
   ]
  },
  {
   "cell_type": "code",
   "execution_count": null,
   "metadata": {},
   "outputs": [],
   "source": []
  },
  {
   "cell_type": "code",
   "execution_count": null,
   "metadata": {},
   "outputs": [],
   "source": []
  },
  {
   "cell_type": "code",
   "execution_count": null,
   "metadata": {},
   "outputs": [],
   "source": []
  },
  {
   "cell_type": "code",
   "execution_count": null,
   "metadata": {},
   "outputs": [],
   "source": []
  }
 ],
 "metadata": {
  "kernelspec": {
   "display_name": "Python 3",
   "language": "python",
   "name": "python3"
  },
  "language_info": {
   "codemirror_mode": {
    "name": "ipython",
    "version": 3
   },
   "file_extension": ".py",
   "mimetype": "text/x-python",
   "name": "python",
   "nbconvert_exporter": "python",
   "pygments_lexer": "ipython3",
   "version": "3.7.9"
  }
 },
 "nbformat": 4,
 "nbformat_minor": 4
}
