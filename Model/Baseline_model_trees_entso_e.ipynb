{
 "cells": [
  {
   "cell_type": "markdown",
   "metadata": {},
   "source": [
    "# Creating a Baseline using entso_e's forecast as a feature\n",
    "We create a model using only the time series and including their forecast"
   ]
  },
  {
   "cell_type": "code",
   "execution_count": 1,
   "metadata": {},
   "outputs": [],
   "source": [
    "import pandas as pd\n",
    "from sklearn import tree\n",
    "from sklearn.model_selection import train_test_split\n",
    "from sklearn.ensemble import RandomForestRegressor\n",
    "import datetime \n",
    "import numpy as np\n",
    "import pickle \n",
    "\n",
    "from utils import train_val_test_split\n",
    "from utils import get_model_metrics"
   ]
  },
  {
   "cell_type": "code",
   "execution_count": 2,
   "metadata": {},
   "outputs": [],
   "source": [
    "df = pd.read_csv(\"Complete_daily_data.csv\",parse_dates=[0])\n",
    "df = df.loc[:,['Date', 'System total load in MAW',\n",
    "       'Wind Offshore in MAW', 'Wind Onshore in MAW', 'Solar in MAW',\n",
    "       'predicted_Wind Offshore in MAW', 'predicted_Wind Onshore in MAW',\n",
    "       'predicted_System total load in MAW', 'predicted_Solar in MAW']] "
   ]
  },
  {
   "cell_type": "code",
   "execution_count": 3,
   "metadata": {},
   "outputs": [],
   "source": [
    "target_vars = [\"System total load in MAW\",\"Wind Offshore in MAW\",\"Wind Onshore in MAW\",\"Solar in MAW\"]"
   ]
  },
  {
   "cell_type": "code",
   "execution_count": null,
   "metadata": {},
   "outputs": [],
   "source": []
  },
  {
   "cell_type": "code",
   "execution_count": 4,
   "metadata": {},
   "outputs": [],
   "source": [
    "df.dropna(inplace=True)"
   ]
  },
  {
   "cell_type": "code",
   "execution_count": null,
   "metadata": {},
   "outputs": [],
   "source": []
  },
  {
   "cell_type": "code",
   "execution_count": 5,
   "metadata": {},
   "outputs": [
    {
     "name": "stdout",
     "output_type": "stream",
     "text": [
      "The shape of the data set is: (202513, 9)\n",
      "\n",
      "--------------------------------------------\n",
      "The shape of the train set is: (185233, 4)\n",
      "The shape of the target variable is: (185233, 4)\n",
      "--------------------------------------------\n",
      "\n",
      "--------------------------------------------\n",
      "The shape of the validation set is: (8640, 4)\n",
      "The shape of the target variable for the validation set is: (8640, 4)\n",
      "--------------------------------------------\n",
      "\n",
      "--------------------------------------------\n",
      "The shape of the test set is: (8640, 4)\n",
      "The shape of the target variable for the test set is: (8640, 5)\n",
      "--------------------------------------------\n"
     ]
    }
   ],
   "source": [
    "X_train, y_train, X_val, y_val, X_test, y_test = train_val_test_split(df, target_vars, 90, 90)"
   ]
  },
  {
   "cell_type": "code",
   "execution_count": 6,
   "metadata": {},
   "outputs": [
    {
     "name": "stdout",
     "output_type": "stream",
     "text": [
      "The shape of the data set is: (202513, 9)\n",
      "\n",
      "--------------------------------------------\n",
      "The shape of the train set is: (185233, 4)\n",
      "The shape of the target variable is: (185233, 4)\n",
      "--------------------------------------------\n",
      "\n",
      "--------------------------------------------\n",
      "The shape of the validation set is: (8640, 4)\n",
      "The shape of the target variable for the validation set is: (8640, 4)\n",
      "--------------------------------------------\n",
      "\n",
      "--------------------------------------------\n",
      "The shape of the test set is: (8640, 4)\n",
      "The shape of the target variable for the test set is: (8640, 5)\n",
      "--------------------------------------------\n"
     ]
    }
   ],
   "source": [
    "list_entso = [\"predicted_System total load in MAW\", \"predicted_Wind Offshore in MAW\", \"predicted_Wind Onshore in MAW\",  \"predicted_Solar in MAW\"]\n",
    "_, _, _, _, _, y_entso = train_val_test_split(df, list_entso, 90, 90)\n",
    "y_entso_e = y_entso.iloc[:,[0,1,2,3]].to_numpy()"
   ]
  },
  {
   "cell_type": "code",
   "execution_count": 7,
   "metadata": {},
   "outputs": [],
   "source": [
    "def decision_tree(X_train,y_train,target):\n",
    "    model = tree.DecisionTreeRegressor()\n",
    "    model = model.fit(X_train,y_train)   \n",
    "#     with open((\"./models/DecisionTreeModel_\"+target+\".pickle\"),\"wb\") as f:\n",
    "#         pickle.dump(model, f)\n",
    "    return model\n",
    "\n",
    "def random_forest(X_train,y_train,target):\n",
    "    model = RandomForestRegressor(n_jobs=-1)\n",
    "    model = model.fit(X_train,y_train)  \n",
    "#     with open((\"./models/RandomForestModel_\"+target+\".pickle\"),\"wb\") as f:\n",
    "#         pickle.dump(model, f)  \n",
    "    return model"
   ]
  },
  {
   "cell_type": "code",
   "execution_count": 8,
   "metadata": {},
   "outputs": [
    {
     "name": "stdout",
     "output_type": "stream",
     "text": [
      "Tree:\n",
      "System total load in MAW\n",
      "______======________\n",
      "----------------------------------------------\n",
      "The overall mean absolute error of the model in MW is: 2158.43\n",
      "----------------------------------------------\n",
      "----------------------------------------------\n",
      "The overall mean absolute scaled error of the model in MW is: 4.0836\n",
      "Please note: to calculate the MASE, the prediction for the first observation was omitted\n",
      "----------------------------------------------\n",
      "Random Forest:\n",
      "System total load in MAW\n",
      "______======________\n",
      "----------------------------------------------\n",
      "The overall mean absolute error of the model in MW is: 1458.25\n",
      "----------------------------------------------\n",
      "----------------------------------------------\n",
      "The overall mean absolute scaled error of the model in MW is: 2.7585\n",
      "Please note: to calculate the MASE, the prediction for the first observation was omitted\n",
      "----------------------------------------------\n",
      "Entso-e:\n",
      "System total load in MAW\n",
      "______======________\n",
      "----------------------------------------------\n",
      "The overall mean absolute error of the model in MW is: 1398.66\n",
      "----------------------------------------------\n",
      "----------------------------------------------\n",
      "The overall mean absolute scaled error of the model in MW is: 2.6461\n",
      "Please note: to calculate the MASE, the prediction for the first observation was omitted\n",
      "----------------------------------------------\n",
      "Tree:\n",
      "Wind Offshore in MAW\n",
      "______======________\n",
      "----------------------------------------------\n",
      "The overall mean absolute error of the model in MW is: 593.19\n",
      "----------------------------------------------\n",
      "----------------------------------------------\n",
      "The overall mean absolute scaled error of the model in MW is: 6.8471\n",
      "Please note: to calculate the MASE, the prediction for the first observation was omitted\n",
      "----------------------------------------------\n",
      "Random Forest:\n",
      "Wind Offshore in MAW\n",
      "______======________\n",
      "----------------------------------------------\n",
      "The overall mean absolute error of the model in MW is: 494.69\n",
      "----------------------------------------------\n",
      "----------------------------------------------\n",
      "The overall mean absolute scaled error of the model in MW is: 5.7097\n",
      "Please note: to calculate the MASE, the prediction for the first observation was omitted\n",
      "----------------------------------------------\n",
      "Entso-e:\n",
      "Wind Offshore in MAW\n",
      "______======________\n",
      "----------------------------------------------\n",
      "The overall mean absolute error of the model in MW is: 464.71\n",
      "----------------------------------------------\n",
      "----------------------------------------------\n",
      "The overall mean absolute scaled error of the model in MW is: 5.3645\n",
      "Please note: to calculate the MASE, the prediction for the first observation was omitted\n",
      "----------------------------------------------\n",
      "Tree:\n",
      "Wind Onshore in MAW\n",
      "______======________\n",
      "----------------------------------------------\n",
      "The overall mean absolute error of the model in MW is: 1316.47\n",
      "----------------------------------------------\n",
      "----------------------------------------------\n",
      "The overall mean absolute scaled error of the model in MW is: 6.5511\n",
      "Please note: to calculate the MASE, the prediction for the first observation was omitted\n",
      "----------------------------------------------\n",
      "Random Forest:\n",
      "Wind Onshore in MAW\n",
      "______======________\n",
      "----------------------------------------------\n",
      "The overall mean absolute error of the model in MW is: 990.92\n",
      "----------------------------------------------\n",
      "----------------------------------------------\n",
      "The overall mean absolute scaled error of the model in MW is: 4.931\n",
      "Please note: to calculate the MASE, the prediction for the first observation was omitted\n",
      "----------------------------------------------\n",
      "Entso-e:\n",
      "Wind Onshore in MAW\n",
      "______======________\n",
      "----------------------------------------------\n",
      "The overall mean absolute error of the model in MW is: 914.59\n",
      "----------------------------------------------\n",
      "----------------------------------------------\n",
      "The overall mean absolute scaled error of the model in MW is: 4.551\n",
      "Please note: to calculate the MASE, the prediction for the first observation was omitted\n",
      "----------------------------------------------\n",
      "Tree:\n",
      "Solar in MAW\n",
      "______======________\n",
      "----------------------------------------------\n",
      "The overall mean absolute error of the model in MW is: 504.73\n",
      "----------------------------------------------\n",
      "----------------------------------------------\n",
      "The overall mean absolute scaled error of the model in MW is: 1.2365\n",
      "Please note: to calculate the MASE, the prediction for the first observation was omitted\n",
      "----------------------------------------------\n",
      "Random Forest:\n",
      "Solar in MAW\n",
      "______======________\n",
      "----------------------------------------------\n",
      "The overall mean absolute error of the model in MW is: 358.16\n",
      "----------------------------------------------\n",
      "----------------------------------------------\n",
      "The overall mean absolute scaled error of the model in MW is: 0.8774\n",
      "Please note: to calculate the MASE, the prediction for the first observation was omitted\n",
      "----------------------------------------------\n",
      "Entso-e:\n",
      "Solar in MAW\n",
      "______======________\n",
      "----------------------------------------------\n",
      "The overall mean absolute error of the model in MW is: 328.81\n",
      "----------------------------------------------\n",
      "----------------------------------------------\n",
      "The overall mean absolute scaled error of the model in MW is: 0.8055\n",
      "Please note: to calculate the MASE, the prediction for the first observation was omitted\n",
      "----------------------------------------------\n"
     ]
    }
   ],
   "source": [
    "cnt = 0\n",
    "for i in target_vars:\n",
    "        y_train_specific = y_train.loc[:,i]\n",
    "        y_test_specific = y_test.loc[:,[\"Date\",i]]\n",
    "        \n",
    "        tree_ = decision_tree(X_train, y_train_specific,i)\n",
    "        RF = random_forest(X_train,y_train_specific,i)\n",
    "        \n",
    "        y_tree_pred = tree_.predict(X_test)\n",
    "        y_rf_pred = RF.predict(X_test)\n",
    "        \n",
    "        print(\"Tree:\")\n",
    "        print(i)\n",
    "        print(\"______======________\")\n",
    "        get_model_metrics(y_test_specific,y_tree_pred)\n",
    "        print(\"Random Forest:\")\n",
    "        print(i)\n",
    "        print(\"______======________\")\n",
    "        get_model_metrics(y_test_specific,y_rf_pred)\n",
    "        print(\"Entso-e:\")\n",
    "        print(i)\n",
    "        print(\"______======________\")\n",
    "        get_model_metrics(y_test_specific,y_entso_e[:,cnt])\n",
    "        cnt += 1"
   ]
  },
  {
   "cell_type": "code",
   "execution_count": null,
   "metadata": {},
   "outputs": [],
   "source": []
  },
  {
   "cell_type": "code",
   "execution_count": null,
   "metadata": {},
   "outputs": [],
   "source": []
  }
 ],
 "metadata": {
  "kernelspec": {
   "display_name": "Python 3",
   "language": "python",
   "name": "python3"
  },
  "language_info": {
   "codemirror_mode": {
    "name": "ipython",
    "version": 3
   },
   "file_extension": ".py",
   "mimetype": "text/x-python",
   "name": "python",
   "nbconvert_exporter": "python",
   "pygments_lexer": "ipython3",
   "version": "3.7.9"
  }
 },
 "nbformat": 4,
 "nbformat_minor": 4
}
