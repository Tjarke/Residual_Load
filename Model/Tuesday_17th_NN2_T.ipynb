{
 "cells": [
  {
   "cell_type": "code",
   "execution_count": 59,
   "metadata": {},
   "outputs": [],
   "source": [
    "import pandas as pd\n",
    "import numpy as np\n",
    "from tensorflow.keras import models,layers\n",
    "import datetime"
   ]
  },
  {
   "cell_type": "markdown",
   "metadata": {},
   "source": [
    "First we prepare the data. \n",
    "We will:\n",
    "<br/>-drop all columns wich contain more than 25% nans\n",
    "<br/>-merge the three dataframes together \n",
    "<br/>-linearly interpolate the hourly data to get 15 minute interval data\n",
    "<br/>-start with year 2016 because that is when the air quality measurements start\n",
    "<br/>-save this to a dataframe so we can experiment with this set of data"
   ]
  },
  {
   "cell_type": "code",
   "execution_count": 8,
   "metadata": {},
   "outputs": [],
   "source": [
    "# df_w = pd.read_csv(\"./weather_data_raw/weather_data_since_2013.csv\")"
   ]
  },
  {
   "cell_type": "code",
   "execution_count": 9,
   "metadata": {},
   "outputs": [],
   "source": [
    "# df_w.drop(df_w.filter(regex=\"Unname\"),axis=1, inplace=True)"
   ]
  },
  {
   "cell_type": "code",
   "execution_count": 10,
   "metadata": {},
   "outputs": [],
   "source": [
    "# df_w.drop(df_w.filter(regex=\"station\"),axis=1, inplace=True)"
   ]
  },
  {
   "cell_type": "code",
   "execution_count": 11,
   "metadata": {},
   "outputs": [],
   "source": [
    "# df_w.loc[:,\"Date\"] = pd.to_datetime(df_w.loc[:,\"time\"])\n",
    "# df_w.drop(columns=[\"time\"], inplace=True)"
   ]
  },
  {
   "cell_type": "code",
   "execution_count": 12,
   "metadata": {},
   "outputs": [],
   "source": [
    "# columns_dropped = []\n",
    "# for i in df_w:\n",
    "#     number_nan_rows = df_w.loc[df_w.loc[:,i].isnull(),i].shape[0]\n",
    "#     percentage_nan_rows = number_nan_rows/df_w.shape[0]*100\n",
    "#     if (percentage_nan_rows > 25):\n",
    "#         columns_dropped.append([i,percentage_nan_rows])\n",
    "#         df_w = df_w.drop(columns=[i])"
   ]
  },
  {
   "cell_type": "code",
   "execution_count": 13,
   "metadata": {},
   "outputs": [],
   "source": [
    "# df_w.loc[:, df_w.columns != \"Date\"]  = df_w.drop(columns=[\"Date\"]).astype(\"float32\")"
   ]
  },
  {
   "cell_type": "code",
   "execution_count": 14,
   "metadata": {},
   "outputs": [
    {
     "data": {
      "text/plain": [
       "(61392, 3181)"
      ]
     },
     "execution_count": 14,
     "metadata": {},
     "output_type": "execute_result"
    }
   ],
   "source": [
    "# df_w.shape"
   ]
  },
  {
   "cell_type": "code",
   "execution_count": 15,
   "metadata": {},
   "outputs": [],
   "source": [
    "# df_w.drop(df_w.filter(regex=\"dwpt\"),axis=1, inplace=True)"
   ]
  },
  {
   "cell_type": "code",
   "execution_count": 16,
   "metadata": {},
   "outputs": [
    {
     "data": {
      "text/plain": [
       "(61392, 2711)"
      ]
     },
     "execution_count": 16,
     "metadata": {},
     "output_type": "execute_result"
    }
   ],
   "source": [
    "# df_w.shape"
   ]
  },
  {
   "cell_type": "code",
   "execution_count": 17,
   "metadata": {},
   "outputs": [
    {
     "data": {
      "text/plain": [
       "635.1285705566406"
      ]
     },
     "execution_count": 17,
     "metadata": {},
     "output_type": "execute_result"
    }
   ],
   "source": []
  },
  {
   "cell_type": "code",
   "execution_count": 18,
   "metadata": {},
   "outputs": [],
   "source": [
    "# mask = df_w.loc[:,\"Date\"] > \"2016-01-01 01:00:00\"\n",
    "\n",
    "# df_w = df_w.loc[mask,:]"
   ]
  },
  {
   "cell_type": "code",
   "execution_count": 19,
   "metadata": {},
   "outputs": [],
   "source": [
    "# df_energy = pd.read_csv(\"Complete_daily_data.csv\",parse_dates=[0])\n",
    "# df_energy = df_energy.loc[:,['Date', 'System total load in MAW',\n",
    "#        'Wind Offshore in MAW', 'Wind Onshore in MAW', 'Solar in MAW',\n",
    "#        'predicted_Wind Offshore in MAW', 'predicted_Wind Onshore in MAW',\n",
    "#        'predicted_System total load in MAW', 'predicted_Solar in MAW']] "
   ]
  },
  {
   "cell_type": "code",
   "execution_count": 20,
   "metadata": {},
   "outputs": [],
   "source": [
    "# df_merge = pd.merge(df_w,df_energy,on=['Date'], how='outer')"
   ]
  },
  {
   "cell_type": "code",
   "execution_count": 21,
   "metadata": {},
   "outputs": [],
   "source": [
    "# df_merge = df_merge.sort_values(by=\"Date\")"
   ]
  },
  {
   "cell_type": "code",
   "execution_count": 22,
   "metadata": {},
   "outputs": [],
   "source": [
    "# mask = df_merge.loc[:,\"Date\"] > \"2016-01-01 01:00:00\"\n",
    "\n",
    "# df_merge = df_merge.loc[mask,:]"
   ]
  },
  {
   "cell_type": "code",
   "execution_count": 23,
   "metadata": {},
   "outputs": [],
   "source": [
    "# df_merge = df_merge.sort_values(by=\"Date\")"
   ]
  },
  {
   "cell_type": "code",
   "execution_count": 24,
   "metadata": {},
   "outputs": [],
   "source": [
    "# df_merge.interpolate(method='linear', inplace=True)"
   ]
  },
  {
   "cell_type": "code",
   "execution_count": 25,
   "metadata": {},
   "outputs": [],
   "source": [
    "# df_aq = pd.read_csv(\"air_quality.csv\",parse_dates=[0])"
   ]
  },
  {
   "cell_type": "code",
   "execution_count": 26,
   "metadata": {},
   "outputs": [],
   "source": [
    "# df_complete = pd.merge(df_merge,df_aq,on=['Date'], how='outer')"
   ]
  },
  {
   "cell_type": "code",
   "execution_count": 27,
   "metadata": {},
   "outputs": [],
   "source": [
    "# df_complete = df_complete.sort_values(by=\"Date\")"
   ]
  },
  {
   "cell_type": "code",
   "execution_count": 28,
   "metadata": {},
   "outputs": [],
   "source": [
    "# df_complete.interpolate(method='linear', inplace=True)"
   ]
  },
  {
   "cell_type": "code",
   "execution_count": 29,
   "metadata": {},
   "outputs": [],
   "source": [
    "# df = df_complete"
   ]
  },
  {
   "cell_type": "code",
   "execution_count": 30,
   "metadata": {},
   "outputs": [],
   "source": [
    "# df = df.dropna()"
   ]
  },
  {
   "cell_type": "code",
   "execution_count": 31,
   "metadata": {},
   "outputs": [
    {
     "name": "stderr",
     "output_type": "stream",
     "text": [
      "/home/tjarke/anaconda3/envs/general/lib/python3.7/site-packages/ipykernel_launcher.py:1: SettingWithCopyWarning: \n",
      "A value is trying to be set on a copy of a slice from a DataFrame.\n",
      "Try using .loc[row_indexer,col_indexer] = value instead\n",
      "\n",
      "See the caveats in the documentation: https://pandas.pydata.org/pandas-docs/stable/user_guide/indexing.html#returning-a-view-versus-a-copy\n",
      "  \"\"\"Entry point for launching an IPython kernel.\n",
      "/home/tjarke/anaconda3/envs/general/lib/python3.7/site-packages/ipykernel_launcher.py:2: SettingWithCopyWarning: \n",
      "A value is trying to be set on a copy of a slice from a DataFrame.\n",
      "Try using .loc[row_indexer,col_indexer] = value instead\n",
      "\n",
      "See the caveats in the documentation: https://pandas.pydata.org/pandas-docs/stable/user_guide/indexing.html#returning-a-view-versus-a-copy\n",
      "  \n",
      "/home/tjarke/anaconda3/envs/general/lib/python3.7/site-packages/ipykernel_launcher.py:3: FutureWarning: Series.dt.weekofyear and Series.dt.week have been deprecated.  Please use Series.dt.isocalendar().week instead.\n",
      "  This is separate from the ipykernel package so we can avoid doing imports until\n",
      "/home/tjarke/anaconda3/envs/general/lib/python3.7/site-packages/ipykernel_launcher.py:3: SettingWithCopyWarning: \n",
      "A value is trying to be set on a copy of a slice from a DataFrame.\n",
      "Try using .loc[row_indexer,col_indexer] = value instead\n",
      "\n",
      "See the caveats in the documentation: https://pandas.pydata.org/pandas-docs/stable/user_guide/indexing.html#returning-a-view-versus-a-copy\n",
      "  This is separate from the ipykernel package so we can avoid doing imports until\n",
      "/home/tjarke/anaconda3/envs/general/lib/python3.7/site-packages/ipykernel_launcher.py:4: SettingWithCopyWarning: \n",
      "A value is trying to be set on a copy of a slice from a DataFrame.\n",
      "Try using .loc[row_indexer,col_indexer] = value instead\n",
      "\n",
      "See the caveats in the documentation: https://pandas.pydata.org/pandas-docs/stable/user_guide/indexing.html#returning-a-view-versus-a-copy\n",
      "  after removing the cwd from sys.path.\n",
      "/home/tjarke/anaconda3/envs/general/lib/python3.7/site-packages/ipykernel_launcher.py:5: SettingWithCopyWarning: \n",
      "A value is trying to be set on a copy of a slice from a DataFrame.\n",
      "Try using .loc[row_indexer,col_indexer] = value instead\n",
      "\n",
      "See the caveats in the documentation: https://pandas.pydata.org/pandas-docs/stable/user_guide/indexing.html#returning-a-view-versus-a-copy\n",
      "  \"\"\"\n"
     ]
    }
   ],
   "source": [
    "# df[\"Year\"] = df[\"Date\"].dt.year\n",
    "# df[\"Month\"] = df[\"Date\"].dt.month\n",
    "# df[\"Week\"] = df[\"Date\"].dt.week\n",
    "# df[\"Weekday\"] = df[\"Date\"].dt.dayofweek\n",
    "# df[\"Hour\"] = df[\"Date\"].dt.hour"
   ]
  },
  {
   "cell_type": "code",
   "execution_count": 34,
   "metadata": {},
   "outputs": [],
   "source": [
    "# cols = df.columns"
   ]
  },
  {
   "cell_type": "code",
   "execution_count": 41,
   "metadata": {},
   "outputs": [],
   "source": [
    "# rearrange = []\n",
    "# for i in cols:\n",
    "#     if i == \"Date\":\n",
    "#         rearrange.insert(0, \"Date\")\n",
    "#     else:\n",
    "#         rearrange.append(i)\n",
    "# df = df[rearrange]"
   ]
  },
  {
   "cell_type": "code",
   "execution_count": 43,
   "metadata": {},
   "outputs": [],
   "source": [
    "# df.to_csv(\"all_stations_start_2016.csv\",index=False)"
   ]
  },
  {
   "cell_type": "code",
   "execution_count": 44,
   "metadata": {},
   "outputs": [
    {
     "data": {
      "text/plain": [
       "2603.093292236328"
      ]
     },
     "execution_count": 44,
     "metadata": {},
     "output_type": "execute_result"
    }
   ],
   "source": [
    "# getsizeof(df)/1024/1024"
   ]
  },
  {
   "cell_type": "code",
   "execution_count": 32,
   "metadata": {},
   "outputs": [
    {
     "ename": "NameError",
     "evalue": "name 'asd' is not defined",
     "output_type": "error",
     "traceback": [
      "\u001b[0;31m---------------------------------------------------------------------------\u001b[0m",
      "\u001b[0;31mNameError\u001b[0m                                 Traceback (most recent call last)",
      "\u001b[0;32m<ipython-input-32-c85320d9ddb9>\u001b[0m in \u001b[0;36m<module>\u001b[0;34m\u001b[0m\n\u001b[0;32m----> 1\u001b[0;31m \u001b[0masd\u001b[0m\u001b[0;34m\u001b[0m\u001b[0;34m\u001b[0m\u001b[0m\n\u001b[0m",
      "\u001b[0;31mNameError\u001b[0m: name 'asd' is not defined"
     ]
    }
   ],
   "source": []
  },
  {
   "cell_type": "markdown",
   "metadata": {},
   "source": [
    "Now we load the prepared data. Then we:\n",
    "<br/>-add a new row in wich we add the naive values from the timestep before\n",
    "<br/>-define our target and split in train/val/test set\n",
    "<br/>-scale our input data\n",
    "<br/>-change the data type of the columns\n",
    "<br/>-build the model architecture\n",
    "<br/>-look at the training history\n",
    "<br/>-evaluate our model \n",
    "<br/>-print out entso-e s result"
   ]
  },
  {
   "cell_type": "code",
   "execution_count": 1,
   "metadata": {},
   "outputs": [],
   "source": [
    "import pandas as pd\n",
    "import numpy as np\n",
    "from tensorflow.keras import models,layers\n",
    "import datetime\n",
    "from utils import train_val_test_split\n",
    "from sklearn.preprocessing import StandardScaler\n",
    "import matplotlib.pyplot as plt\n",
    "from utils import get_model_metrics"
   ]
  },
  {
   "cell_type": "code",
   "execution_count": 2,
   "metadata": {},
   "outputs": [],
   "source": [
    "df = pd.read_csv(\"all_stations_start_2016.csv\",parse_dates=[0])"
   ]
  },
  {
   "cell_type": "code",
   "execution_count": 3,
   "metadata": {},
   "outputs": [],
   "source": [
    "target_vars = [\"System total load in MAW\",\"Wind Offshore in MAW\",\"Wind Onshore in MAW\",\"Solar in MAW\"]"
   ]
  },
  {
   "cell_type": "code",
   "execution_count": 4,
   "metadata": {},
   "outputs": [],
   "source": [
    "df[[\"naive_System total load in MAW\",\"naive_Wind Offshore in MAW\",\"naive_Wind Onshore in MAW\",\"naive_Solar in MAW\"]]=df.loc[:,target_vars].shift(periods=1)"
   ]
  },
  {
   "cell_type": "code",
   "execution_count": 5,
   "metadata": {},
   "outputs": [],
   "source": [
    "df.dropna(inplace=True)"
   ]
  },
  {
   "cell_type": "code",
   "execution_count": 6,
   "metadata": {},
   "outputs": [
    {
     "name": "stdout",
     "output_type": "stream",
     "text": [
      "The shape of the data set is: (145559, 3702)\n",
      "\n",
      "--------------------------------------------\n",
      "The shape of the train set is: (128279, 3697)\n",
      "The shape of the target variable is: (128279, 4)\n",
      "--------------------------------------------\n",
      "\n",
      "--------------------------------------------\n",
      "The shape of the validation set is: (8640, 3697)\n",
      "The shape of the target variable for the validation set is: (8640, 4)\n",
      "--------------------------------------------\n",
      "\n",
      "--------------------------------------------\n",
      "The shape of the test set is: (8640, 3697)\n",
      "The shape of the target variable for the test set is: (8640, 5)\n",
      "--------------------------------------------\n"
     ]
    }
   ],
   "source": [
    "target_vars = [\"System total load in MAW\",\"Wind Offshore in MAW\",\"Wind Onshore in MAW\",\"Solar in MAW\"]\n",
    "X_train, y_train, X_val, y_val, X_test, y_test = train_val_test_split(df, target_vars, 90, 90)"
   ]
  },
  {
   "cell_type": "code",
   "execution_count": 7,
   "metadata": {},
   "outputs": [],
   "source": [
    "scaler_f = StandardScaler()\n",
    "X_train = scaler_f.fit_transform(X_train)\n",
    "X_val = scaler_f.transform(X_val)\n",
    "X_test = scaler_f.transform(X_test)"
   ]
  },
  {
   "cell_type": "code",
   "execution_count": 8,
   "metadata": {},
   "outputs": [],
   "source": [
    "X_train = X_train.astype(\"float32\")\n",
    "X_val = X_val.astype(\"float32\")\n",
    "X_test = X_test.astype(\"float32\")"
   ]
  },
  {
   "cell_type": "code",
   "execution_count": 9,
   "metadata": {},
   "outputs": [],
   "source": [
    "input_shape = X_train.shape[1]"
   ]
  },
  {
   "cell_type": "code",
   "execution_count": 10,
   "metadata": {},
   "outputs": [
    {
     "name": "stdout",
     "output_type": "stream",
     "text": [
      "Model: \"sequential\"\n",
      "_________________________________________________________________\n",
      "Layer (type)                 Output Shape              Param #   \n",
      "=================================================================\n",
      "dense (Dense)                (None, 1024)              3786752   \n",
      "_________________________________________________________________\n",
      "dropout (Dropout)            (None, 1024)              0         \n",
      "_________________________________________________________________\n",
      "dense_1 (Dense)              (None, 256)               262400    \n",
      "_________________________________________________________________\n",
      "dropout_1 (Dropout)          (None, 256)               0         \n",
      "_________________________________________________________________\n",
      "dense_2 (Dense)              (None, 64)                16448     \n",
      "_________________________________________________________________\n",
      "dropout_2 (Dropout)          (None, 64)                0         \n",
      "_________________________________________________________________\n",
      "dense_3 (Dense)              (None, 4)                 260       \n",
      "=================================================================\n",
      "Total params: 4,065,860\n",
      "Trainable params: 4,065,860\n",
      "Non-trainable params: 0\n",
      "_________________________________________________________________\n"
     ]
    }
   ],
   "source": [
    "model = models.Sequential()\n",
    "model.add(layers.Dense(1024,input_dim=input_shape,activation=\"relu\"))\n",
    "model.add(layers.Dropout(0.3))\n",
    "model.add(layers.Dense(256, activation = \"relu\"))\n",
    "model.add(layers.Dropout(0.2))\n",
    "model.add(layers.Dense(64, activation = \"relu\"))\n",
    "model.add(layers.Dropout(0.1))\n",
    "model.add(layers.Dense(4, activation = \"relu\"))\n",
    "model.summary()\n",
    "\n",
    "model.compile(\n",
    "    optimizer = \"rmsprop\",\n",
    "    loss = \"mean_squared_error\",\n",
    "    metrics = [\"mean_absolute_error\"]#optional\n",
    ")"
   ]
  },
  {
   "cell_type": "code",
   "execution_count": 18,
   "metadata": {},
   "outputs": [
    {
     "name": "stdout",
     "output_type": "stream",
     "text": [
      "Epoch 1/10\n",
      "4009/4009 [==============================] - 26s 7ms/step - loss: 11935512.0000 - mean_absolute_error: 2339.5947 - val_loss: 8953373.0000 - val_mean_absolute_error: 2081.3442\n",
      "Epoch 2/10\n",
      "4009/4009 [==============================] - 25s 6ms/step - loss: 11992271.0000 - mean_absolute_error: 2350.3364 - val_loss: 10770759.0000 - val_mean_absolute_error: 2320.3247\n",
      "Epoch 3/10\n",
      "4009/4009 [==============================] - 25s 6ms/step - loss: 11953068.0000 - mean_absolute_error: 2342.2297 - val_loss: 8877754.0000 - val_mean_absolute_error: 2049.0178\n",
      "Epoch 4/10\n",
      "4009/4009 [==============================] - 25s 6ms/step - loss: 12028350.0000 - mean_absolute_error: 2350.0737 - val_loss: 10380879.0000 - val_mean_absolute_error: 2225.2808\n",
      "Epoch 5/10\n",
      "4009/4009 [==============================] - 26s 7ms/step - loss: 11913882.0000 - mean_absolute_error: 2342.2822 - val_loss: 9892078.0000 - val_mean_absolute_error: 2155.3691\n",
      "Epoch 6/10\n",
      "4009/4009 [==============================] - 25s 6ms/step - loss: 11943090.0000 - mean_absolute_error: 2340.4263 - val_loss: 10940875.0000 - val_mean_absolute_error: 2328.4839\n",
      "Epoch 7/10\n",
      "4009/4009 [==============================] - 26s 6ms/step - loss: 11961093.0000 - mean_absolute_error: 2349.5811 - val_loss: 10989545.0000 - val_mean_absolute_error: 2257.1157\n",
      "Epoch 8/10\n",
      "4009/4009 [==============================] - 24s 6ms/step - loss: 11975960.0000 - mean_absolute_error: 2349.1157 - val_loss: 9133351.0000 - val_mean_absolute_error: 2068.2092\n",
      "Epoch 9/10\n",
      "4009/4009 [==============================] - 23s 6ms/step - loss: 12010692.0000 - mean_absolute_error: 2349.1086 - val_loss: 9346310.0000 - val_mean_absolute_error: 2140.6711\n",
      "Epoch 10/10\n",
      "4009/4009 [==============================] - 23s 6ms/step - loss: 11977950.0000 - mean_absolute_error: 2344.9702 - val_loss: 8878702.0000 - val_mean_absolute_error: 2070.6243\n"
     ]
    }
   ],
   "source": [
    "history = model.fit(\n",
    "    X_train,y_train,\n",
    "    epochs=10,\n",
    "    batch_size=32,\n",
    "    validation_data=(X_val,y_val),\n",
    "    shuffle=False\n",
    "    )"
   ]
  },
  {
   "cell_type": "code",
   "execution_count": 22,
   "metadata": {},
   "outputs": [
    {
     "data": {
      "image/png": "[encoded data removed]",
      "text/plain": [
       "<Figure size 432x288 with 1 Axes>"
      ]
     },
     "metadata": {
      "needs_background": "light"
     },
     "output_type": "display_data"
    },
    {
     "data": {
      "image/png": "[encoded data removed]",
      "text/plain": [
       "<Figure size 432x288 with 1 Axes>"
      ]
     },
     "metadata": {
      "needs_background": "light"
     },
     "output_type": "display_data"
    }
   ],
   "source": [
    "history.history\n",
    "plt.plot(history.history[\"loss\"],label = \"loss\")\n",
    "plt.plot(history.history[\"val_loss\"],label = \"val_loss\")\n",
    "plt.legend()\n",
    "plt.show()\n",
    "plt.close()\n",
    "\n",
    "\n",
    "history.history\n",
    "plt.plot(history.history[\"mean_absolute_error\"],label = \"MAE\")\n",
    "plt.plot(history.history[\"val_mean_absolute_error\"],label = \"val_MAE\")\n",
    "plt.legend()\n",
    "plt.show()\n",
    "plt.close()"
   ]
  },
  {
   "cell_type": "code",
   "execution_count": null,
   "metadata": {},
   "outputs": [],
   "source": []
  },
  {
   "cell_type": "code",
   "execution_count": 19,
   "metadata": {},
   "outputs": [],
   "source": [
    "y_pred = model.predict(X_test)"
   ]
  },
  {
   "cell_type": "code",
   "execution_count": 14,
   "metadata": {},
   "outputs": [
    {
     "name": "stdout",
     "output_type": "stream",
     "text": [
      "The shape of the data set is: (145559, 3702)\n",
      "\n",
      "--------------------------------------------\n",
      "The shape of the train set is: (128279, 3697)\n",
      "The shape of the target variable is: (128279, 4)\n",
      "--------------------------------------------\n",
      "\n",
      "--------------------------------------------\n",
      "The shape of the validation set is: (8640, 3697)\n",
      "The shape of the target variable for the validation set is: (8640, 4)\n",
      "--------------------------------------------\n",
      "\n",
      "--------------------------------------------\n",
      "The shape of the test set is: (8640, 3697)\n",
      "The shape of the target variable for the test set is: (8640, 5)\n",
      "--------------------------------------------\n"
     ]
    }
   ],
   "source": [
    "\n",
    "list_entso = [\"predicted_System total load in MAW\", \"predicted_Wind Offshore in MAW\", \"predicted_Wind Onshore in MAW\",  \"predicted_Solar in MAW\"]\n",
    "_, _, _, _, _, y_entso = train_val_test_split(df, list_entso, 90, 90)\n",
    "y_entso_e = y_entso.iloc[:,[0,1,2,3]].to_numpy()"
   ]
  },
  {
   "cell_type": "code",
   "execution_count": null,
   "metadata": {},
   "outputs": [],
   "source": []
  },
  {
   "cell_type": "code",
   "execution_count": 20,
   "metadata": {},
   "outputs": [
    {
     "name": "stdout",
     "output_type": "stream",
     "text": [
      "=================================\n",
      "Load\n",
      "----------------------------------------------\n",
      "The overall mean absolute error of the model in MW is: 4737.58\n",
      "----------------------------------------------\n",
      "----------------------------------------------\n",
      "The overall mean absolute scaled error of the model in MW is: 9.0002\n",
      "Please note: to calculate the MASE, the prediction for the first observation was omitted\n",
      "----------------------------------------------\n",
      "=================================\n",
      "=================================\n",
      "Wind Offshore\n",
      "----------------------------------------------\n",
      "The overall mean absolute error of the model in MW is: 2798.33\n",
      "----------------------------------------------\n",
      "----------------------------------------------\n",
      "The overall mean absolute scaled error of the model in MW is: 32.3763\n",
      "Please note: to calculate the MASE, the prediction for the first observation was omitted\n",
      "----------------------------------------------\n",
      "=================================\n",
      "=================================\n",
      "Wind Onshore\n",
      "----------------------------------------------\n",
      "The overall mean absolute error of the model in MW is: 1878.88\n",
      "----------------------------------------------\n",
      "----------------------------------------------\n",
      "The overall mean absolute scaled error of the model in MW is: 9.3821\n",
      "Please note: to calculate the MASE, the prediction for the first observation was omitted\n",
      "----------------------------------------------\n",
      "=================================\n",
      "=================================\n",
      "Solar\n",
      "----------------------------------------------\n",
      "The overall mean absolute error of the model in MW is: 1371.44\n",
      "----------------------------------------------\n",
      "----------------------------------------------\n",
      "The overall mean absolute scaled error of the model in MW is: 3.3661\n",
      "Please note: to calculate the MASE, the prediction for the first observation was omitted\n",
      "----------------------------------------------\n",
      "=================================\n"
     ]
    }
   ],
   "source": [
    "list_names = [\"Load\",\"Wind Offshore\", \"Wind Onshore\", \"Solar\"]\n",
    "\n",
    "for i in range(len(y_pred[0])):\n",
    "    print(\"=================================\")\n",
    "    print(f\"{list_names[i]}\")\n",
    "    get_model_metrics(y_test.iloc[:,[-1,i]],y_pred[:,i])\n",
    "    print(\"=================================\")\n"
   ]
  },
  {
   "cell_type": "code",
   "execution_count": 21,
   "metadata": {},
   "outputs": [
    {
     "name": "stdout",
     "output_type": "stream",
     "text": [
      "=================================\n",
      "Load\n",
      "----------------------------------------------\n",
      "The overall mean absolute error of the model in MW is: 1399.12\n",
      "----------------------------------------------\n",
      "----------------------------------------------\n",
      "The overall mean absolute scaled error of the model in MW is: 2.6583\n",
      "Please note: to calculate the MASE, the prediction for the first observation was omitted\n",
      "----------------------------------------------\n",
      "=================================\n",
      "=================================\n",
      "Wind Offshore\n",
      "----------------------------------------------\n",
      "The overall mean absolute error of the model in MW is: 463.8\n",
      "----------------------------------------------\n",
      "----------------------------------------------\n",
      "The overall mean absolute scaled error of the model in MW is: 5.3665\n",
      "Please note: to calculate the MASE, the prediction for the first observation was omitted\n",
      "----------------------------------------------\n",
      "=================================\n",
      "=================================\n",
      "Wind Onshore\n",
      "----------------------------------------------\n",
      "The overall mean absolute error of the model in MW is: 917.72\n",
      "----------------------------------------------\n",
      "----------------------------------------------\n",
      "The overall mean absolute scaled error of the model in MW is: 4.5823\n",
      "Please note: to calculate the MASE, the prediction for the first observation was omitted\n",
      "----------------------------------------------\n",
      "=================================\n",
      "=================================\n",
      "Solar\n",
      "----------------------------------------------\n",
      "The overall mean absolute error of the model in MW is: 328.73\n",
      "----------------------------------------------\n",
      "----------------------------------------------\n",
      "The overall mean absolute scaled error of the model in MW is: 0.8069\n",
      "Please note: to calculate the MASE, the prediction for the first observation was omitted\n",
      "----------------------------------------------\n",
      "=================================\n"
     ]
    }
   ],
   "source": [
    "list_names = [\"Load\",\"Wind Offshore\", \"Wind Onshore\", \"Solar\"]\n",
    "\n",
    "for i in range(len(y_pred[0])):\n",
    "    print(\"=================================\")\n",
    "    print(f\"{list_names[i]}\")\n",
    "    get_model_metrics(y_test.iloc[:,[-1,i]],y_entso_e[:,i])\n",
    "    print(\"=================================\")\n"
   ]
  },
  {
   "cell_type": "code",
   "execution_count": 17,
   "metadata": {},
   "outputs": [
    {
     "name": "stdout",
     "output_type": "stream",
     "text": [
      "=================================\n",
      "Load\n",
      "----------------------------------------------\n",
      "The overall mean absolute error of the model in MW is: 526.37\n",
      "----------------------------------------------\n",
      "----------------------------------------------\n",
      "The overall mean absolute scaled error of the model in MW is: 1.0\n",
      "Please note: to calculate the MASE, the prediction for the first observation was omitted\n",
      "----------------------------------------------\n",
      "=================================\n",
      "=================================\n",
      "Wind Offshore\n",
      "----------------------------------------------\n",
      "The overall mean absolute error of the model in MW is: 86.42\n",
      "----------------------------------------------\n",
      "----------------------------------------------\n",
      "The overall mean absolute scaled error of the model in MW is: 1.0\n",
      "Please note: to calculate the MASE, the prediction for the first observation was omitted\n",
      "----------------------------------------------\n",
      "=================================\n",
      "=================================\n",
      "Wind Onshore\n",
      "----------------------------------------------\n",
      "The overall mean absolute error of the model in MW is: 200.27\n",
      "----------------------------------------------\n",
      "----------------------------------------------\n",
      "The overall mean absolute scaled error of the model in MW is: 1.0\n",
      "Please note: to calculate the MASE, the prediction for the first observation was omitted\n",
      "----------------------------------------------\n",
      "=================================\n",
      "=================================\n",
      "Solar\n",
      "----------------------------------------------\n",
      "The overall mean absolute error of the model in MW is: 407.42\n",
      "----------------------------------------------\n",
      "----------------------------------------------\n",
      "The overall mean absolute scaled error of the model in MW is: 1.0\n",
      "Please note: to calculate the MASE, the prediction for the first observation was omitted\n",
      "----------------------------------------------\n",
      "=================================\n"
     ]
    }
   ],
   "source": [
    "list_names = [\"Load\",\"Wind Offshore\", \"Wind Onshore\", \"Solar\"]\n",
    "\n",
    "for i in range(len(y_pred[0])):\n",
    "    print(\"=================================\")\n",
    "    print(f\"{list_names[i]}\")\n",
    "    get_model_metrics(y_test.iloc[1:,[-1,i]],y_test.iloc[:-1,i])\n",
    "    print(\"=================================\")"
   ]
  },
  {
   "cell_type": "code",
   "execution_count": null,
   "metadata": {},
   "outputs": [],
   "source": []
  },
  {
   "cell_type": "code",
   "execution_count": null,
   "metadata": {},
   "outputs": [],
   "source": []
  }
 ],
 "metadata": {
  "kernelspec": {
   "display_name": "Python 3",
   "language": "python",
   "name": "python3"
  },
  "language_info": {
   "codemirror_mode": {
    "name": "ipython",
    "version": 3
   },
   "file_extension": ".py",
   "mimetype": "text/x-python",
   "name": "python",
   "nbconvert_exporter": "python",
   "pygments_lexer": "ipython3",
   "version": "3.7.9"
  }
 },
 "nbformat": 4,
 "nbformat_minor": 4
}
