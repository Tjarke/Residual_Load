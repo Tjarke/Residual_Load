{
 "cells": [
  {
   "cell_type": "code",
   "execution_count": 16,
   "metadata": {},
   "outputs": [],
   "source": [
    "import pandas as pd\n",
    "from sklearn import tree\n",
    "from sklearn.model_selection import train_test_split\n",
    "from sklearn.ensemble import RandomForestRegressor\n",
    "import datetime \n",
    "import numpy as np\n",
    "import pickle \n",
    "\n",
    "from utils import train_val_test_split\n",
    "from utils import get_model_metrics"
   ]
  },
  {
   "cell_type": "code",
   "execution_count": 2,
   "metadata": {},
   "outputs": [],
   "source": [
    "df = pd.read_csv(\"all_stations_start_2016.csv\",parse_dates=[0])"
   ]
  },
  {
   "cell_type": "code",
   "execution_count": 3,
   "metadata": {},
   "outputs": [],
   "source": [
    "target_vars = [\"System total load in MAW\",\"Wind Offshore in MAW\",\"Wind Onshore in MAW\",\"Solar in MAW\"]"
   ]
  },
  {
   "cell_type": "code",
   "execution_count": 4,
   "metadata": {},
   "outputs": [],
   "source": [
    "df[[\"naive_System total load in MAW\",\"naive_Wind Offshore in MAW\",\"naive_Wind Onshore in MAW\",\"naive_Solar in MAW\"]]=df.loc[:,target_vars].shift(periods=1)"
   ]
  },
  {
   "cell_type": "code",
   "execution_count": 5,
   "metadata": {},
   "outputs": [],
   "source": [
    "df.dropna(inplace=True)"
   ]
  },
  {
   "cell_type": "code",
   "execution_count": null,
   "metadata": {},
   "outputs": [],
   "source": []
  },
  {
   "cell_type": "code",
   "execution_count": 6,
   "metadata": {},
   "outputs": [],
   "source": [
    "df_options = [\"temp\",\"dwpt\",\"rhum\",\"prcp\",\"snow\",\"wdir\",\"wspd\",\"wpgt\",\"pres\",\"tsun\",\"coco\",\"Particulate matter\",\"Ozone\",\"NO₂\"]\n",
    "for i in df_options:\n",
    "    mean = 0\n",
    "    column_names = []\n",
    "    for j in df.columns:\n",
    "        if i in j:\n",
    "            column_names.append(j)\n",
    "    df[(\"Mean \"+i)] = df.loc[:,column_names].mean(axis=1)\n",
    "    df.drop(columns=column_names,inplace=True)\n"
   ]
  },
  {
   "cell_type": "code",
   "execution_count": 7,
   "metadata": {},
   "outputs": [
    {
     "data": {
      "text/plain": [
       "Index(['Date', 'System total load in MAW', 'Wind Offshore in MAW',\n",
       "       'Wind Onshore in MAW', 'Solar in MAW', 'predicted_Wind Offshore in MAW',\n",
       "       'predicted_Wind Onshore in MAW', 'predicted_System total load in MAW',\n",
       "       'predicted_Solar in MAW', 'Year', 'Month', 'Week', 'Weekday', 'Hour',\n",
       "       'naive_System total load in MAW', 'naive_Wind Offshore in MAW',\n",
       "       'naive_Wind Onshore in MAW', 'naive_Solar in MAW', 'Mean temp',\n",
       "       'Mean dwpt', 'Mean rhum', 'Mean prcp', 'Mean snow', 'Mean wdir',\n",
       "       'Mean wspd', 'Mean wpgt', 'Mean pres', 'Mean tsun', 'Mean coco',\n",
       "       'Mean Particulate matter', 'Mean Ozone', 'Mean NO₂'],\n",
       "      dtype='object')"
      ]
     },
     "execution_count": 7,
     "metadata": {},
     "output_type": "execute_result"
    }
   ],
   "source": [
    "df.columnsyear 2016+"
   ]
  },
  {
   "cell_type": "code",
   "execution_count": 8,
   "metadata": {},
   "outputs": [
    {
     "data": {
      "text/plain": [
       "False"
      ]
     },
     "execution_count": 8,
     "metadata": {},
     "output_type": "execute_result"
    }
   ],
   "source": [
    "df.drop(columns=[\"Mean dwpt\",\"Mean coco\"],inplace=True)\n",
    "df.drop(columns=[\"Mean snow\",\"Mean wpgt\"],inplace=True)\n",
    "df.isnull().any().any()"
   ]
  },
  {
   "cell_type": "code",
   "execution_count": 9,
   "metadata": {},
   "outputs": [
    {
     "name": "stdout",
     "output_type": "stream",
     "text": [
      "The shape of the data set is: (145559, 28)\n",
      "\n",
      "--------------------------------------------\n",
      "The shape of the train set is: (128279, 23)\n",
      "The shape of the target variable is: (128279, 4)\n",
      "--------------------------------------------\n",
      "\n",
      "--------------------------------------------\n",
      "The shape of the validation set is: (8640, 23)\n",
      "The shape of the target variable for the validation set is: (8640, 4)\n",
      "--------------------------------------------\n",
      "\n",
      "--------------------------------------------\n",
      "The shape of the test set is: (8640, 23)\n",
      "The shape of the target variable for the test set is: (8640, 5)\n",
      "--------------------------------------------\n"
     ]
    }
   ],
   "source": [
    "X_train, y_train, X_val, y_val, X_test, y_test = train_val_test_split(df, target_vars, 90, 90)"
   ]
  },
  {
   "cell_type": "code",
   "execution_count": 10,
   "metadata": {},
   "outputs": [
    {
     "name": "stdout",
     "output_type": "stream",
     "text": [
      "The shape of the data set is: (145559, 28)\n",
      "\n",
      "--------------------------------------------\n",
      "The shape of the train set is: (128279, 23)\n",
      "The shape of the target variable is: (128279, 4)\n",
      "--------------------------------------------\n",
      "\n",
      "--------------------------------------------\n",
      "The shape of the validation set is: (8640, 23)\n",
      "The shape of the target variable for the validation set is: (8640, 4)\n",
      "--------------------------------------------\n",
      "\n",
      "--------------------------------------------\n",
      "The shape of the test set is: (8640, 23)\n",
      "The shape of the target variable for the test set is: (8640, 5)\n",
      "--------------------------------------------\n"
     ]
    }
   ],
   "source": [
    "list_entso = [\"predicted_System total load in MAW\", \"predicted_Wind Offshore in MAW\", \"predicted_Wind Onshore in MAW\",  \"predicted_Solar in MAW\"]\n",
    "_, _, _, _, _, y_entso = train_val_test_split(df, list_entso, 90, 90)\n",
    "y_entso_e = y_entso.iloc[:,[0,1,2,3]].to_numpy()"
   ]
  },
  {
   "cell_type": "code",
   "execution_count": 11,
   "metadata": {},
   "outputs": [],
   "source": [
    "def decision_tree(X_train,y_train,target):\n",
    "    model = tree.DecisionTreeRegressor()\n",
    "    model = model.fit(X_train,y_train)   \n",
    "#     with open((\"./models/DecisionTreeModel_\"+target+\".pickle\"),\"wb\") as f:\n",
    "#         pickle.dump(model, f)\n",
    "    return model\n",
    "\n",
    "def random_forest(X_train,y_train,target):\n",
    "    model = RandomForestRegressor(n_jobs=-1)\n",
    "    model = model.fit(X_train,y_train)  \n",
    "#     with open((\"./models/RandomForestModel_\"+target+\".pickle\"),\"wb\") as f:\n",
    "#         pickle.dump(model, f)  \n",
    "    return model"
   ]
  },
  {
   "cell_type": "code",
   "execution_count": 19,
   "metadata": {},
   "outputs": [
    {
     "name": "stdout",
     "output_type": "stream",
     "text": [
      "Tree:\n",
      "System total load in MAW\n",
      "______======________\n",
      "----------------------------------------------\n",
      "The overall mean absolute error of the model in MW is: 387.73\n",
      "----------------------------------------------\n",
      "----------------------------------------------\n",
      "The overall mean absolute scaled error of the model in MW is: 0.7367\n",
      "Please note: to calculate the MASE, the prediction for the first observation was omitted\n",
      "----------------------------------------------\n",
      "Random Forest:\n",
      "System total load in MAW\n",
      "______======________\n",
      "----------------------------------------------\n",
      "The overall mean absolute error of the model in MW is: 267.67\n",
      "----------------------------------------------\n",
      "----------------------------------------------\n",
      "The overall mean absolute scaled error of the model in MW is: 0.5085\n",
      "Please note: to calculate the MASE, the prediction for the first observation was omitted\n",
      "----------------------------------------------\n",
      "Entso-e:\n",
      "System total load in MAW\n",
      "______======________\n",
      "----------------------------------------------\n",
      "The overall mean absolute error of the model in MW is: 1399.12\n",
      "----------------------------------------------\n",
      "----------------------------------------------\n",
      "The overall mean absolute scaled error of the model in MW is: 2.6583\n",
      "Please note: to calculate the MASE, the prediction for the first observation was omitted\n",
      "----------------------------------------------\n",
      "Tree:\n",
      "Wind Offshore in MAW\n",
      "______======________\n",
      "----------------------------------------------\n",
      "The overall mean absolute error of the model in MW is: 129.7\n",
      "----------------------------------------------\n",
      "----------------------------------------------\n",
      "The overall mean absolute scaled error of the model in MW is: 1.5009\n",
      "Please note: to calculate the MASE, the prediction for the first observation was omitted\n",
      "----------------------------------------------\n",
      "Random Forest:\n",
      "Wind Offshore in MAW\n",
      "______======________\n",
      "----------------------------------------------\n",
      "The overall mean absolute error of the model in MW is: 89.53\n",
      "----------------------------------------------\n",
      "----------------------------------------------\n",
      "The overall mean absolute scaled error of the model in MW is: 1.0361\n",
      "Please note: to calculate the MASE, the prediction for the first observation was omitted\n",
      "----------------------------------------------\n",
      "Entso-e:\n",
      "Wind Offshore in MAW\n",
      "______======________\n",
      "----------------------------------------------\n",
      "The overall mean absolute error of the model in MW is: 463.8\n",
      "----------------------------------------------\n",
      "----------------------------------------------\n",
      "The overall mean absolute scaled error of the model in MW is: 5.3665\n",
      "Please note: to calculate the MASE, the prediction for the first observation was omitted\n",
      "----------------------------------------------\n",
      "Tree:\n",
      "Wind Onshore in MAW\n",
      "______======________\n",
      "----------------------------------------------\n",
      "The overall mean absolute error of the model in MW is: 272.73\n",
      "----------------------------------------------\n",
      "----------------------------------------------\n",
      "The overall mean absolute scaled error of the model in MW is: 1.3619\n",
      "Please note: to calculate the MASE, the prediction for the first observation was omitted\n",
      "----------------------------------------------\n",
      "Random Forest:\n",
      "Wind Onshore in MAW\n",
      "______======________\n",
      "----------------------------------------------\n",
      "The overall mean absolute error of the model in MW is: 182.6\n",
      "----------------------------------------------\n",
      "----------------------------------------------\n",
      "The overall mean absolute scaled error of the model in MW is: 0.9119\n",
      "Please note: to calculate the MASE, the prediction for the first observation was omitted\n",
      "----------------------------------------------\n",
      "Entso-e:\n",
      "Wind Onshore in MAW\n",
      "______======________\n",
      "----------------------------------------------\n",
      "The overall mean absolute error of the model in MW is: 917.72\n",
      "----------------------------------------------\n",
      "----------------------------------------------\n",
      "The overall mean absolute scaled error of the model in MW is: 4.5823\n",
      "Please note: to calculate the MASE, the prediction for the first observation was omitted\n",
      "----------------------------------------------\n",
      "Tree:\n",
      "Solar in MAW\n",
      "______======________\n",
      "----------------------------------------------\n",
      "The overall mean absolute error of the model in MW is: 120.01\n",
      "----------------------------------------------\n",
      "----------------------------------------------\n",
      "The overall mean absolute scaled error of the model in MW is: 0.2945\n",
      "Please note: to calculate the MASE, the prediction for the first observation was omitted\n",
      "----------------------------------------------\n",
      "Random Forest:\n",
      "Solar in MAW\n",
      "______======________\n",
      "----------------------------------------------\n",
      "The overall mean absolute error of the model in MW is: 86.0\n",
      "----------------------------------------------\n",
      "----------------------------------------------\n",
      "The overall mean absolute scaled error of the model in MW is: 0.2111\n",
      "Please note: to calculate the MASE, the prediction for the first observation was omitted\n",
      "----------------------------------------------\n",
      "Entso-e:\n",
      "Solar in MAW\n",
      "______======________\n",
      "----------------------------------------------\n",
      "The overall mean absolute error of the model in MW is: 328.73\n",
      "----------------------------------------------\n",
      "----------------------------------------------\n",
      "The overall mean absolute scaled error of the model in MW is: 0.8069\n",
      "Please note: to calculate the MASE, the prediction for the first observation was omitted\n",
      "----------------------------------------------\n"
     ]
    }
   ],
   "source": [
    "cnt = 0\n",
    "for i in target_vars:\n",
    "        y_train_specific = y_train.loc[:,i]\n",
    "        y_test_specific = y_test.loc[:,[\"Date\",i]]\n",
    "        \n",
    "        tree_ = decision_tree(X_train, y_train_specific,i)\n",
    "        RF = random_forest(X_train,y_train_specific,i)\n",
    "        \n",
    "        y_tree_pred = tree_.predict(X_test)\n",
    "        y_rf_pred = RF.predict(X_test)\n",
    "        \n",
    "        print(\"Tree:\")\n",
    "        print(i)\n",
    "        print(\"______======________\")\n",
    "        get_model_metrics(y_test_specific,y_tree_pred)\n",
    "        print(\"Random Forest:\")\n",
    "        print(i)\n",
    "        print(\"______======________\")\n",
    "        get_model_metrics(y_test_specific,y_rf_pred)\n",
    "        print(\"Entso-e:\")\n",
    "        print(i)\n",
    "        print(\"______======________\")\n",
    "        get_model_metrics(y_test_specific,y_entso_e[:,cnt])\n",
    "        cnt += 1"
   ]
  },
  {
   "cell_type": "code",
   "execution_count": null,
   "metadata": {},
   "outputs": [],
   "source": []
  },
  {
   "cell_type": "code",
   "execution_count": null,
   "metadata": {},
   "outputs": [],
   "source": []
  }
 ],
 "metadata": {
  "kernelspec": {
   "display_name": "Python 3",
   "language": "python",
   "name": "python3"
  },
  "language_info": {
   "codemirror_mode": {
    "name": "ipython",
    "version": 3
   },
   "file_extension": ".py",
   "mimetype": "text/x-python",
   "name": "python",
   "nbconvert_exporter": "python",
   "pygments_lexer": "ipython3",
   "version": "3.7.9"
  }
 },
 "nbformat": 4,
 "nbformat_minor": 4
}
