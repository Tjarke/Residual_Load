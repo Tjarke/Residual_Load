{
 "cells": [
  {
   "cell_type": "code",
   "execution_count": 59,
   "metadata": {},
   "outputs": [],
   "source": [
    "import pandas as pd\n",
    "import numpy as np\n",
    "from tensorflow.keras import models,layers\n",
    "import datetime"
   ]
  },
  {
   "cell_type": "markdown",
   "metadata": {},
   "source": [
    "First we prepare the data. \n",
    "We will:\n",
    "<br/>-drop all columns wich contain more than 25% nans\n",
    "<br/>-merge the three dataframes together \n",
    "<br/>-linearly interpolate the hourly data to get 15 minute interval data\n",
    "<br/>-start with year 2016 because that is when the air quality measurements start\n",
    "<br/>-save this to a dataframe so we can experiment with this set of data"
   ]
  },
  {
   "cell_type": "code",
   "execution_count": 8,
   "metadata": {},
   "outputs": [],
   "source": [
    "# df_w = pd.read_csv(\"./weather_data_raw/weather_data_since_2013.csv\")"
   ]
  },
  {
   "cell_type": "code",
   "execution_count": 9,
   "metadata": {},
   "outputs": [],
   "source": [
    "# df_w.drop(df_w.filter(regex=\"Unname\"),axis=1, inplace=True)"
   ]
  },
  {
   "cell_type": "code",
   "execution_count": 10,
   "metadata": {},
   "outputs": [],
   "source": [
    "# df_w.drop(df_w.filter(regex=\"station\"),axis=1, inplace=True)"
   ]
  },
  {
   "cell_type": "code",
   "execution_count": 11,
   "metadata": {},
   "outputs": [],
   "source": [
    "# df_w.loc[:,\"Date\"] = pd.to_datetime(df_w.loc[:,\"time\"])\n",
    "# df_w.drop(columns=[\"time\"], inplace=True)"
   ]
  },
  {
   "cell_type": "code",
   "execution_count": 12,
   "metadata": {},
   "outputs": [],
   "source": [
    "# columns_dropped = []\n",
    "# for i in df_w:\n",
    "#     number_nan_rows = df_w.loc[df_w.loc[:,i].isnull(),i].shape[0]\n",
    "#     percentage_nan_rows = number_nan_rows/df_w.shape[0]*100\n",
    "#     if (percentage_nan_rows > 25):\n",
    "#         columns_dropped.append([i,percentage_nan_rows])\n",
    "#         df_w = df_w.drop(columns=[i])"
   ]
  },
  {
   "cell_type": "code",
   "execution_count": 13,
   "metadata": {},
   "outputs": [],
   "source": [
    "# df_w.loc[:, df_w.columns != \"Date\"]  = df_w.drop(columns=[\"Date\"]).astype(\"float32\")"
   ]
  },
  {
   "cell_type": "code",
   "execution_count": 14,
   "metadata": {},
   "outputs": [
    {
     "data": {
      "text/plain": [
       "(61392, 3181)"
      ]
     },
     "execution_count": 14,
     "metadata": {},
     "output_type": "execute_result"
    }
   ],
   "source": [
    "# df_w.shape"
   ]
  },
  {
   "cell_type": "code",
   "execution_count": 15,
   "metadata": {},
   "outputs": [],
   "source": [
    "# df_w.drop(df_w.filter(regex=\"dwpt\"),axis=1, inplace=True)"
   ]
  },
  {
   "cell_type": "code",
   "execution_count": 16,
   "metadata": {},
   "outputs": [
    {
     "data": {
      "text/plain": [
       "(61392, 2711)"
      ]
     },
     "execution_count": 16,
     "metadata": {},
     "output_type": "execute_result"
    }
   ],
   "source": [
    "# df_w.shape"
   ]
  },
  {
   "cell_type": "code",
   "execution_count": 17,
   "metadata": {},
   "outputs": [
    {
     "data": {
      "text/plain": [
       "635.1285705566406"
      ]
     },
     "execution_count": 17,
     "metadata": {},
     "output_type": "execute_result"
    }
   ],
   "source": []
  },
  {
   "cell_type": "code",
   "execution_count": 18,
   "metadata": {},
   "outputs": [],
   "source": [
    "# mask = df_w.loc[:,\"Date\"] > \"2016-01-01 01:00:00\"\n",
    "\n",
    "# df_w = df_w.loc[mask,:]"
   ]
  },
  {
   "cell_type": "code",
   "execution_count": 19,
   "metadata": {},
   "outputs": [],
   "source": [
    "# df_energy = pd.read_csv(\"Complete_daily_data.csv\",parse_dates=[0])\n",
    "# df_energy = df_energy.loc[:,['Date', 'System total load in MAW',\n",
    "#        'Wind Offshore in MAW', 'Wind Onshore in MAW', 'Solar in MAW',\n",
    "#        'predicted_Wind Offshore in MAW', 'predicted_Wind Onshore in MAW',\n",
    "#        'predicted_System total load in MAW', 'predicted_Solar in MAW']] "
   ]
  },
  {
   "cell_type": "code",
   "execution_count": 20,
   "metadata": {},
   "outputs": [],
   "source": [
    "# df_merge = pd.merge(df_w,df_energy,on=['Date'], how='outer')"
   ]
  },
  {
   "cell_type": "code",
   "execution_count": 21,
   "metadata": {},
   "outputs": [],
   "source": [
    "# df_merge = df_merge.sort_values(by=\"Date\")"
   ]
  },
  {
   "cell_type": "code",
   "execution_count": 22,
   "metadata": {},
   "outputs": [],
   "source": [
    "# mask = df_merge.loc[:,\"Date\"] > \"2016-01-01 01:00:00\"\n",
    "\n",
    "# df_merge = df_merge.loc[mask,:]"
   ]
  },
  {
   "cell_type": "code",
   "execution_count": 23,
   "metadata": {},
   "outputs": [],
   "source": [
    "# df_merge = df_merge.sort_values(by=\"Date\")"
   ]
  },
  {
   "cell_type": "code",
   "execution_count": 24,
   "metadata": {},
   "outputs": [],
   "source": [
    "# df_merge.interpolate(method='linear', inplace=True)"
   ]
  },
  {
   "cell_type": "code",
   "execution_count": 25,
   "metadata": {},
   "outputs": [],
   "source": [
    "# df_aq = pd.read_csv(\"air_quality.csv\",parse_dates=[0])"
   ]
  },
  {
   "cell_type": "code",
   "execution_count": 26,
   "metadata": {},
   "outputs": [],
   "source": [
    "# df_complete = pd.merge(df_merge,df_aq,on=['Date'], how='outer')"
   ]
  },
  {
   "cell_type": "code",
   "execution_count": 27,
   "metadata": {},
   "outputs": [],
   "source": [
    "# df_complete = df_complete.sort_values(by=\"Date\")"
   ]
  },
  {
   "cell_type": "code",
   "execution_count": 28,
   "metadata": {},
   "outputs": [],
   "source": [
    "# df_complete.interpolate(method='linear', inplace=True)"
   ]
  },
  {
   "cell_type": "code",
   "execution_count": 29,
   "metadata": {},
   "outputs": [],
   "source": [
    "# df = df_complete"
   ]
  },
  {
   "cell_type": "code",
   "execution_count": 30,
   "metadata": {},
   "outputs": [],
   "source": [
    "# df = df.dropna()"
   ]
  },
  {
   "cell_type": "code",
   "execution_count": 31,
   "metadata": {},
   "outputs": [
    {
     "name": "stderr",
     "output_type": "stream",
     "text": [
      "/home/tjarke/anaconda3/envs/general/lib/python3.7/site-packages/ipykernel_launcher.py:1: SettingWithCopyWarning: \n",
      "A value is trying to be set on a copy of a slice from a DataFrame.\n",
      "Try using .loc[row_indexer,col_indexer] = value instead\n",
      "\n",
      "See the caveats in the documentation: https://pandas.pydata.org/pandas-docs/stable/user_guide/indexing.html#returning-a-view-versus-a-copy\n",
      "  \"\"\"Entry point for launching an IPython kernel.\n",
      "/home/tjarke/anaconda3/envs/general/lib/python3.7/site-packages/ipykernel_launcher.py:2: SettingWithCopyWarning: \n",
      "A value is trying to be set on a copy of a slice from a DataFrame.\n",
      "Try using .loc[row_indexer,col_indexer] = value instead\n",
      "\n",
      "See the caveats in the documentation: https://pandas.pydata.org/pandas-docs/stable/user_guide/indexing.html#returning-a-view-versus-a-copy\n",
      "  \n",
      "/home/tjarke/anaconda3/envs/general/lib/python3.7/site-packages/ipykernel_launcher.py:3: FutureWarning: Series.dt.weekofyear and Series.dt.week have been deprecated.  Please use Series.dt.isocalendar().week instead.\n",
      "  This is separate from the ipykernel package so we can avoid doing imports until\n",
      "/home/tjarke/anaconda3/envs/general/lib/python3.7/site-packages/ipykernel_launcher.py:3: SettingWithCopyWarning: \n",
      "A value is trying to be set on a copy of a slice from a DataFrame.\n",
      "Try using .loc[row_indexer,col_indexer] = value instead\n",
      "\n",
      "See the caveats in the documentation: https://pandas.pydata.org/pandas-docs/stable/user_guide/indexing.html#returning-a-view-versus-a-copy\n",
      "  This is separate from the ipykernel package so we can avoid doing imports until\n",
      "/home/tjarke/anaconda3/envs/general/lib/python3.7/site-packages/ipykernel_launcher.py:4: SettingWithCopyWarning: \n",
      "A value is trying to be set on a copy of a slice from a DataFrame.\n",
      "Try using .loc[row_indexer,col_indexer] = value instead\n",
      "\n",
      "See the caveats in the documentation: https://pandas.pydata.org/pandas-docs/stable/user_guide/indexing.html#returning-a-view-versus-a-copy\n",
      "  after removing the cwd from sys.path.\n",
      "/home/tjarke/anaconda3/envs/general/lib/python3.7/site-packages/ipykernel_launcher.py:5: SettingWithCopyWarning: \n",
      "A value is trying to be set on a copy of a slice from a DataFrame.\n",
      "Try using .loc[row_indexer,col_indexer] = value instead\n",
      "\n",
      "See the caveats in the documentation: https://pandas.pydata.org/pandas-docs/stable/user_guide/indexing.html#returning-a-view-versus-a-copy\n",
      "  \"\"\"\n"
     ]
    }
   ],
   "source": [
    "# df[\"Year\"] = df[\"Date\"].dt.year\n",
    "# df[\"Month\"] = df[\"Date\"].dt.month\n",
    "# df[\"Week\"] = df[\"Date\"].dt.week\n",
    "# df[\"Weekday\"] = df[\"Date\"].dt.dayofweek\n",
    "# df[\"Hour\"] = df[\"Date\"].dt.hour"
   ]
  },
  {
   "cell_type": "code",
   "execution_count": 34,
   "metadata": {},
   "outputs": [],
   "source": [
    "# cols = df.columns"
   ]
  },
  {
   "cell_type": "code",
   "execution_count": 41,
   "metadata": {},
   "outputs": [],
   "source": [
    "# rearrange = []\n",
    "# for i in cols:\n",
    "#     if i == \"Date\":\n",
    "#         rearrange.insert(0, \"Date\")\n",
    "#     else:\n",
    "#         rearrange.append(i)\n",
    "# df = df[rearrange]"
   ]
  },
  {
   "cell_type": "code",
   "execution_count": 43,
   "metadata": {},
   "outputs": [],
   "source": [
    "# df.to_csv(\"all_stations_start_2016.csv\",index=False)"
   ]
  },
  {
   "cell_type": "code",
   "execution_count": 44,
   "metadata": {},
   "outputs": [
    {
     "data": {
      "text/plain": [
       "2603.093292236328"
      ]
     },
     "execution_count": 44,
     "metadata": {},
     "output_type": "execute_result"
    }
   ],
   "source": [
    "# getsizeof(df)/1024/1024"
   ]
  },
  {
   "cell_type": "code",
   "execution_count": 32,
   "metadata": {},
   "outputs": [
    {
     "ename": "NameError",
     "evalue": "name 'asd' is not defined",
     "output_type": "error",
     "traceback": [
      "\u001b[0;31m---------------------------------------------------------------------------\u001b[0m",
      "\u001b[0;31mNameError\u001b[0m                                 Traceback (most recent call last)",
      "\u001b[0;32m<ipython-input-32-c85320d9ddb9>\u001b[0m in \u001b[0;36m<module>\u001b[0;34m\u001b[0m\n\u001b[0;32m----> 1\u001b[0;31m \u001b[0masd\u001b[0m\u001b[0;34m\u001b[0m\u001b[0;34m\u001b[0m\u001b[0m\n\u001b[0m",
      "\u001b[0;31mNameError\u001b[0m: name 'asd' is not defined"
     ]
    }
   ],
   "source": []
  },
  {
   "cell_type": "markdown",
   "metadata": {},
   "source": [
    "Now we load the prepared data. Then we:\n",
    "<br/>-add a new row in wich we add the naive values from the timestep before\n",
    "<br/>-define our target and split in train/val/test set\n",
    "<br/>-scale our input data\n",
    "<br/>-change the data type of the columns\n",
    "<br/>-make a sequence out of our data, in this case the past 3 values are taken into consideration\n",
    "<br/>-build the model architecture\n",
    "<br/>-look at the training history\n",
    "<br/>-evaluate our model \n",
    "<br/>-print out entso-e s result"
   ]
  },
  {
   "cell_type": "code",
   "execution_count": 1,
   "metadata": {},
   "outputs": [],
   "source": [
    "import pandas as pd\n",
    "import numpy as np\n",
    "from tensorflow.keras import models,layers\n",
    "import datetime\n",
    "from utils import train_val_test_split\n",
    "from sklearn.preprocessing import StandardScaler\n",
    "import matplotlib.pyplot as plt\n",
    "from utils import get_model_metrics"
   ]
  },
  {
   "cell_type": "code",
   "execution_count": 33,
   "metadata": {},
   "outputs": [],
   "source": [
    "df = pd.read_csv(\"all_stations_start_2016.csv\",parse_dates=[0])"
   ]
  },
  {
   "cell_type": "code",
   "execution_count": 34,
   "metadata": {},
   "outputs": [],
   "source": [
    "mask = df.loc[:,\"Date\"] > \"2019-01-01 01:00:00\"\n",
    "\n",
    "df= df.loc[mask,:]"
   ]
  },
  {
   "cell_type": "code",
   "execution_count": 35,
   "metadata": {},
   "outputs": [],
   "source": [
    "target_vars = [\"System total load in MAW\",\"Wind Offshore in MAW\",\"Wind Onshore in MAW\",\"Solar in MAW\"]"
   ]
  },
  {
   "cell_type": "code",
   "execution_count": 36,
   "metadata": {},
   "outputs": [],
   "source": [
    "df[[\"naive_System total load in MAW\",\"naive_Wind Offshore in MAW\",\"naive_Wind Onshore in MAW\",\"naive_Solar in MAW\"]]=df.loc[:,target_vars].shift(periods=1)"
   ]
  },
  {
   "cell_type": "code",
   "execution_count": 37,
   "metadata": {},
   "outputs": [],
   "source": [
    "df.dropna(inplace=True)"
   ]
  },
  {
   "cell_type": "code",
   "execution_count": 38,
   "metadata": {},
   "outputs": [
    {
     "name": "stdout",
     "output_type": "stream",
     "text": [
      "The shape of the data set is: (63762, 3702)\n",
      "\n",
      "--------------------------------------------\n",
      "The shape of the train set is: (46482, 3697)\n",
      "The shape of the target variable is: (46482, 4)\n",
      "--------------------------------------------\n",
      "\n",
      "--------------------------------------------\n",
      "The shape of the validation set is: (8640, 3697)\n",
      "The shape of the target variable for the validation set is: (8640, 4)\n",
      "--------------------------------------------\n",
      "\n",
      "--------------------------------------------\n",
      "The shape of the test set is: (8640, 3697)\n",
      "The shape of the target variable for the test set is: (8640, 5)\n",
      "--------------------------------------------\n"
     ]
    }
   ],
   "source": [
    "target_vars = [\"System total load in MAW\",\"Wind Offshore in MAW\",\"Wind Onshore in MAW\",\"Solar in MAW\"]\n",
    "X_train, y_train, X_val, y_val, X_test, y_test = train_val_test_split(df, target_vars, 90, 90)"
   ]
  },
  {
   "cell_type": "code",
   "execution_count": 39,
   "metadata": {},
   "outputs": [],
   "source": [
    "scaler_f = StandardScaler()\n",
    "X_train = scaler_f.fit_transform(X_train)\n",
    "X_val = scaler_f.transform(X_val)\n",
    "X_test = scaler_f.transform(X_test)"
   ]
  },
  {
   "cell_type": "code",
   "execution_count": 40,
   "metadata": {},
   "outputs": [],
   "source": [
    "X_train = X_train.astype(\"float32\")\n",
    "X_val = X_val.astype(\"float32\")\n",
    "X_test = X_test.astype(\"float32\")"
   ]
  },
  {
   "cell_type": "code",
   "execution_count": 41,
   "metadata": {},
   "outputs": [],
   "source": [
    "# split a multivariate sequence into samples\n",
    "def split_sequences(features,target, n_steps):\n",
    "    X, y = list(), list()\n",
    "    for i in range(len(target)):\n",
    "        # find the end of this pattern\n",
    "        end_ix = i + n_steps\n",
    "        # check if we are beyond the dataset\n",
    "        if end_ix > len(target):\n",
    "            break\n",
    "        # gather input and output parts of the pattern\n",
    "        seq_x, seq_y = features[i:end_ix, :], target.iloc[end_ix-1,:]\n",
    "        X.append(seq_x)\n",
    "        y.append(seq_y)\n",
    "    return np.array(X), np.array(y)"
   ]
  },
  {
   "cell_type": "code",
   "execution_count": 42,
   "metadata": {},
   "outputs": [],
   "source": [
    "n_steps = 3\n",
    "n_features = X_train.shape[1]"
   ]
  },
  {
   "cell_type": "code",
   "execution_count": null,
   "metadata": {},
   "outputs": [],
   "source": []
  },
  {
   "cell_type": "code",
   "execution_count": 43,
   "metadata": {},
   "outputs": [],
   "source": [
    "X_train, y_train = split_sequences(X_train,y_train, n_steps)\n",
    "X_val, y_val = split_sequences(X_val,y_val, n_steps)"
   ]
  },
  {
   "cell_type": "code",
   "execution_count": 13,
   "metadata": {},
   "outputs": [
    {
     "data": {
      "text/plain": [
       "(46480, 3, 3697)"
      ]
     },
     "execution_count": 13,
     "metadata": {},
     "output_type": "execute_result"
    }
   ],
   "source": [
    "X_train.shape"
   ]
  },
  {
   "cell_type": "code",
   "execution_count": 14,
   "metadata": {},
   "outputs": [
    {
     "data": {
      "text/plain": [
       "1966.5134887695312"
      ]
     },
     "execution_count": 14,
     "metadata": {},
     "output_type": "execute_result"
    }
   ],
   "source": [
    "from sys import getsizeof\n",
    "getsizeof(X_train)/1024/1024"
   ]
  },
  {
   "cell_type": "code",
   "execution_count": 15,
   "metadata": {},
   "outputs": [],
   "source": []
  },
  {
   "cell_type": "code",
   "execution_count": 16,
   "metadata": {},
   "outputs": [
    {
     "name": "stdout",
     "output_type": "stream",
     "text": [
      "WARNING:tensorflow:Layer lstm will not use cuDNN kernel since it doesn't meet the cuDNN kernel criteria. It will use generic GPU kernel as fallback when running on GPU\n",
      "Model: \"sequential\"\n",
      "_________________________________________________________________\n",
      "Layer (type)                 Output Shape              Param #   \n",
      "=================================================================\n",
      "lstm (LSTM)                  (None, 250)               3948000   \n",
      "_________________________________________________________________\n",
      "dense (Dense)                (None, 50)                12550     \n",
      "_________________________________________________________________\n",
      "dense_1 (Dense)              (None, 4)                 204       \n",
      "=================================================================\n",
      "Total params: 3,960,754\n",
      "Trainable params: 3,960,754\n",
      "Non-trainable params: 0\n",
      "_________________________________________________________________\n"
     ]
    }
   ],
   "source": [
    "model = models.Sequential()\n",
    "model.add(layers.LSTM(250, activation='relu', input_shape=(n_steps, n_features)))\n",
    "model.add(layers.Dense(50, activation = \"relu\"))\n",
    "model.add(layers.Dense(4, activation = \"relu\"))\n",
    "model.summary()\n",
    "\n",
    "\n",
    "\n",
    "model.compile(\n",
    "    optimizer = \"rmsprop\",\n",
    "    loss = \"mean_squared_error\",\n",
    "    metrics = [\"mean_absolute_error\"]#optional\n",
    ")"
   ]
  },
  {
   "cell_type": "code",
   "execution_count": 53,
   "metadata": {},
   "outputs": [
    {
     "name": "stdout",
     "output_type": "stream",
     "text": [
      "Epoch 1/40\n",
      "1453/1453 [==============================] - 19s 13ms/step - loss: 801516.1875 - mean_absolute_error: 585.3746 - val_loss: 18488330.0000 - val_mean_absolute_error: 2434.1748\n",
      "Epoch 2/40\n",
      "1453/1453 [==============================] - 18s 13ms/step - loss: 792702.1875 - mean_absolute_error: 585.4166 - val_loss: 13537781.0000 - val_mean_absolute_error: 2069.0652\n",
      "Epoch 3/40\n",
      "1453/1453 [==============================] - 19s 13ms/step - loss: 788047.2500 - mean_absolute_error: 582.3649 - val_loss: 15646899.0000 - val_mean_absolute_error: 2242.3340\n",
      "Epoch 4/40\n",
      "1453/1453 [==============================] - 20s 13ms/step - loss: 790026.8125 - mean_absolute_error: 583.2117 - val_loss: 12895647.0000 - val_mean_absolute_error: 2053.0723\n",
      "Epoch 5/40\n",
      "1453/1453 [==============================] - 21s 15ms/step - loss: 762852.6875 - mean_absolute_error: 577.5912 - val_loss: 14874889.0000 - val_mean_absolute_error: 2177.2131\n",
      "Epoch 6/40\n",
      "1453/1453 [==============================] - 23s 16ms/step - loss: 785805.5000 - mean_absolute_error: 580.4614 - val_loss: 14946208.0000 - val_mean_absolute_error: 2215.7634\n",
      "Epoch 7/40\n",
      "1453/1453 [==============================] - 23s 16ms/step - loss: 777140.1250 - mean_absolute_error: 576.5195 - val_loss: 14929911.0000 - val_mean_absolute_error: 2177.9041\n",
      "Epoch 8/40\n",
      "1453/1453 [==============================] - 21s 15ms/step - loss: 775420.1250 - mean_absolute_error: 579.3190 - val_loss: 14016661.0000 - val_mean_absolute_error: 2061.1211\n",
      "Epoch 9/40\n",
      "1453/1453 [==============================] - 20s 14ms/step - loss: 782023.2500 - mean_absolute_error: 578.3265 - val_loss: 12738552.0000 - val_mean_absolute_error: 2051.6687\n",
      "Epoch 10/40\n",
      "1453/1453 [==============================] - 20s 14ms/step - loss: 768308.5000 - mean_absolute_error: 573.7245 - val_loss: 14087733.0000 - val_mean_absolute_error: 2073.8484\n",
      "Epoch 11/40\n",
      "1453/1453 [==============================] - 20s 14ms/step - loss: 786560.7500 - mean_absolute_error: 579.1165 - val_loss: 13954569.0000 - val_mean_absolute_error: 2182.4050\n",
      "Epoch 12/40\n",
      "1453/1453 [==============================] - 20s 14ms/step - loss: 763510.9375 - mean_absolute_error: 572.8670 - val_loss: 14163512.0000 - val_mean_absolute_error: 2179.0562\n",
      "Epoch 13/40\n",
      "1453/1453 [==============================] - 20s 14ms/step - loss: 748046.2500 - mean_absolute_error: 567.2462 - val_loss: 12785340.0000 - val_mean_absolute_error: 2054.3870\n",
      "Epoch 14/40\n",
      "1453/1453 [==============================] - 21s 14ms/step - loss: 779040.5000 - mean_absolute_error: 576.7595 - val_loss: 12711027.0000 - val_mean_absolute_error: 2039.6692\n",
      "Epoch 15/40\n",
      "1453/1453 [==============================] - 20s 14ms/step - loss: 741847.4375 - mean_absolute_error: 568.6815 - val_loss: 13803267.0000 - val_mean_absolute_error: 2062.9976\n",
      "Epoch 16/40\n",
      "1453/1453 [==============================] - 18s 13ms/step - loss: 742934.5000 - mean_absolute_error: 568.1359 - val_loss: 12569444.0000 - val_mean_absolute_error: 1985.0281\n",
      "Epoch 17/40\n",
      "1453/1453 [==============================] - 15s 10ms/step - loss: 742860.2500 - mean_absolute_error: 567.8757 - val_loss: 12476391.0000 - val_mean_absolute_error: 2031.7358\n",
      "Epoch 18/40\n",
      "1453/1453 [==============================] - 15s 10ms/step - loss: 753019.3125 - mean_absolute_error: 569.9462 - val_loss: 14214485.0000 - val_mean_absolute_error: 2097.8857\n",
      "Epoch 19/40\n",
      "1453/1453 [==============================] - 15s 11ms/step - loss: 747554.2500 - mean_absolute_error: 569.2252 - val_loss: 12548596.0000 - val_mean_absolute_error: 2030.9321\n",
      "Epoch 20/40\n",
      "1453/1453 [==============================] - 16s 11ms/step - loss: 764827.0000 - mean_absolute_error: 573.7962 - val_loss: 15928266.0000 - val_mean_absolute_error: 2247.8789\n",
      "Epoch 21/40\n",
      "1453/1453 [==============================] - 15s 11ms/step - loss: 723852.2500 - mean_absolute_error: 561.3294 - val_loss: 13078393.0000 - val_mean_absolute_error: 2059.8423\n",
      "Epoch 22/40\n",
      "1453/1453 [==============================] - 15s 11ms/step - loss: 754940.1250 - mean_absolute_error: 569.0643 - val_loss: 12539786.0000 - val_mean_absolute_error: 1996.3220\n",
      "Epoch 23/40\n",
      "1453/1453 [==============================] - 15s 10ms/step - loss: 762861.3750 - mean_absolute_error: 571.5152 - val_loss: 13984407.0000 - val_mean_absolute_error: 2130.1780\n",
      "Epoch 24/40\n",
      "1453/1453 [==============================] - 15s 11ms/step - loss: 717852.6250 - mean_absolute_error: 555.7996 - val_loss: 12907998.0000 - val_mean_absolute_error: 2063.0186\n",
      "Epoch 25/40\n",
      "1453/1453 [==============================] - 15s 11ms/step - loss: 737848.8125 - mean_absolute_error: 565.2104 - val_loss: 13894007.0000 - val_mean_absolute_error: 2131.3489\n",
      "Epoch 26/40\n",
      "1453/1453 [==============================] - 16s 11ms/step - loss: 728209.6875 - mean_absolute_error: 561.6017 - val_loss: 12921812.0000 - val_mean_absolute_error: 2035.5084\n",
      "Epoch 27/40\n",
      "1453/1453 [==============================] - 15s 11ms/step - loss: 740832.3750 - mean_absolute_error: 566.1202 - val_loss: 13697915.0000 - val_mean_absolute_error: 2085.8811\n",
      "Epoch 28/40\n",
      "1453/1453 [==============================] - 16s 11ms/step - loss: 734160.3125 - mean_absolute_error: 564.1434 - val_loss: 13206348.0000 - val_mean_absolute_error: 2086.9468\n",
      "Epoch 29/40\n",
      "1453/1453 [==============================] - 16s 11ms/step - loss: 718641.7500 - mean_absolute_error: 558.6574 - val_loss: 13508489.0000 - val_mean_absolute_error: 2138.3511\n",
      "Epoch 30/40\n",
      "1453/1453 [==============================] - 15s 10ms/step - loss: 737552.0625 - mean_absolute_error: 564.9205 - val_loss: 14634053.0000 - val_mean_absolute_error: 2175.6865\n",
      "Epoch 31/40\n",
      "1453/1453 [==============================] - 15s 11ms/step - loss: 721780.8750 - mean_absolute_error: 558.4647 - val_loss: 15714444.0000 - val_mean_absolute_error: 2236.1975\n",
      "Epoch 32/40\n",
      "1453/1453 [==============================] - 16s 11ms/step - loss: 756136.6875 - mean_absolute_error: 565.7313 - val_loss: 13369983.0000 - val_mean_absolute_error: 2107.6387\n",
      "Epoch 33/40\n",
      "1453/1453 [==============================] - 16s 11ms/step - loss: 781765.0625 - mean_absolute_error: 561.7649 - val_loss: 14875247.0000 - val_mean_absolute_error: 2175.2473\n",
      "Epoch 34/40\n",
      "1453/1453 [==============================] - 15s 11ms/step - loss: 719314.2500 - mean_absolute_error: 555.2750 - val_loss: 12806468.0000 - val_mean_absolute_error: 2058.2175\n",
      "Epoch 35/40\n",
      "1453/1453 [==============================] - 16s 11ms/step - loss: 719186.5625 - mean_absolute_error: 558.3766 - val_loss: 13358553.0000 - val_mean_absolute_error: 2099.5762\n",
      "Epoch 36/40\n",
      "1453/1453 [==============================] - 16s 11ms/step - loss: 706858.9375 - mean_absolute_error: 554.2216 - val_loss: 13217905.0000 - val_mean_absolute_error: 2092.1050\n",
      "Epoch 37/40\n",
      "1453/1453 [==============================] - 15s 11ms/step - loss: 722657.5000 - mean_absolute_error: 559.2648 - val_loss: 16352309.0000 - val_mean_absolute_error: 2236.9287\n",
      "Epoch 38/40\n",
      "1453/1453 [==============================] - 15s 11ms/step - loss: 697737.5000 - mean_absolute_error: 547.3156 - val_loss: 13110503.0000 - val_mean_absolute_error: 2078.0229\n",
      "Epoch 39/40\n",
      "1453/1453 [==============================] - 15s 11ms/step - loss: 726237.7500 - mean_absolute_error: 561.2358 - val_loss: 16176740.0000 - val_mean_absolute_error: 2250.7612\n",
      "Epoch 40/40\n",
      "1453/1453 [==============================] - 16s 11ms/step - loss: 702989.6250 - mean_absolute_error: 551.8386 - val_loss: 13375761.0000 - val_mean_absolute_error: 2061.7937\n"
     ]
    }
   ],
   "source": [
    "history = model.fit(\n",
    "    X_train,y_train,\n",
    "    epochs=100,\n",
    "    batch_size=32,\n",
    "    validation_data=(X_val,y_val),\n",
    "    shuffle=False\n",
    "    )"
   ]
  },
  {
   "cell_type": "code",
   "execution_count": 29,
   "metadata": {},
   "outputs": [
    {
     "data": {
      "image/png": "[encoded data removed]",
      "text/plain": [
       "<Figure size 432x288 with 1 Axes>"
      ]
     },
     "metadata": {
      "needs_background": "light"
     },
     "output_type": "display_data"
    },
    {
     "data": {
      "image/png": "[encoded data removed]",
      "text/plain": [
       "<Figure size 432x288 with 1 Axes>"
      ]
     },
     "metadata": {
      "needs_background": "light"
     },
     "output_type": "display_data"
    }
   ],
   "source": [
    "history.history\n",
    "plt.plot(history.history[\"loss\"],label = \"loss\")\n",
    "plt.plot(history.history[\"val_loss\"],label = \"val_loss\")\n",
    "plt.legend()\n",
    "plt.show()\n",
    "plt.close()\n",
    "\n",
    "\n",
    "history.history\n",
    "plt.plot(history.history[\"mean_absolute_error\"],label = \"MAE\")\n",
    "plt.plot(history.history[\"val_mean_absolute_error\"],label = \"val_MAE\")\n",
    "plt.legend()\n",
    "plt.show()\n",
    "plt.close()"
   ]
  },
  {
   "cell_type": "code",
   "execution_count": 44,
   "metadata": {},
   "outputs": [],
   "source": [
    "X_test, _ = split_sequences(X_test,y_test.iloc[:,:-1], n_steps)"
   ]
  },
  {
   "cell_type": "code",
   "execution_count": 45,
   "metadata": {},
   "outputs": [],
   "source": [
    "y_pred = model.predict(X_test)"
   ]
  },
  {
   "cell_type": "code",
   "execution_count": 46,
   "metadata": {},
   "outputs": [
    {
     "name": "stdout",
     "output_type": "stream",
     "text": [
      "The shape of the data set is: (63762, 3702)\n",
      "\n",
      "--------------------------------------------\n",
      "The shape of the train set is: (46482, 3697)\n",
      "The shape of the target variable is: (46482, 4)\n",
      "--------------------------------------------\n",
      "\n",
      "--------------------------------------------\n",
      "The shape of the validation set is: (8640, 3697)\n",
      "The shape of the target variable for the validation set is: (8640, 4)\n",
      "--------------------------------------------\n",
      "\n",
      "--------------------------------------------\n",
      "The shape of the test set is: (8640, 3697)\n",
      "The shape of the target variable for the test set is: (8640, 5)\n",
      "--------------------------------------------\n"
     ]
    }
   ],
   "source": [
    "\n",
    "list_entso = [\"predicted_System total load in MAW\", \"predicted_Wind Offshore in MAW\", \"predicted_Wind Onshore in MAW\",  \"predicted_Solar in MAW\"]\n",
    "_, _, _, _, _, y_entso = train_val_test_split(df, list_entso, 90, 90)\n",
    "y_entso_e = y_entso.iloc[:,[0,1,2,3]].to_numpy()"
   ]
  },
  {
   "cell_type": "code",
   "execution_count": 48,
   "metadata": {},
   "outputs": [
    {
     "data": {
      "text/html": [
       "<div>\n",
       "<style scoped>\n",
       "    .dataframe tbody tr th:only-of-type {\n",
       "        vertical-align: middle;\n",
       "    }\n",
       "\n",
       "    .dataframe tbody tr th {\n",
       "        vertical-align: top;\n",
       "    }\n",
       "\n",
       "    .dataframe thead th {\n",
       "        text-align: right;\n",
       "    }\n",
       "</style>\n",
       "<table border=\"1\" class=\"dataframe\">\n",
       "  <thead>\n",
       "    <tr style=\"text-align: right;\">\n",
       "      <th></th>\n",
       "      <th>System total load in MAW</th>\n",
       "      <th>Wind Offshore in MAW</th>\n",
       "      <th>Wind Onshore in MAW</th>\n",
       "      <th>Solar in MAW</th>\n",
       "      <th>Date</th>\n",
       "    </tr>\n",
       "  </thead>\n",
       "  <tbody>\n",
       "    <tr>\n",
       "      <th>136920</th>\n",
       "      <td>58592.0</td>\n",
       "      <td>5473.0</td>\n",
       "      <td>14076.0</td>\n",
       "      <td>7037.0</td>\n",
       "      <td>2020-07-28 06:00:00</td>\n",
       "    </tr>\n",
       "    <tr>\n",
       "      <th>136921</th>\n",
       "      <td>59392.0</td>\n",
       "      <td>5461.0</td>\n",
       "      <td>13960.0</td>\n",
       "      <td>8428.0</td>\n",
       "      <td>2020-07-28 06:15:00</td>\n",
       "    </tr>\n",
       "    <tr>\n",
       "      <th>136922</th>\n",
       "      <td>59978.0</td>\n",
       "      <td>5299.0</td>\n",
       "      <td>14083.0</td>\n",
       "      <td>9929.0</td>\n",
       "      <td>2020-07-28 06:30:00</td>\n",
       "    </tr>\n",
       "    <tr>\n",
       "      <th>136923</th>\n",
       "      <td>60262.0</td>\n",
       "      <td>5354.0</td>\n",
       "      <td>14472.0</td>\n",
       "      <td>11355.0</td>\n",
       "      <td>2020-07-28 06:45:00</td>\n",
       "    </tr>\n",
       "    <tr>\n",
       "      <th>136924</th>\n",
       "      <td>60758.0</td>\n",
       "      <td>5196.0</td>\n",
       "      <td>14743.0</td>\n",
       "      <td>12845.0</td>\n",
       "      <td>2020-07-28 07:00:00</td>\n",
       "    </tr>\n",
       "    <tr>\n",
       "      <th>...</th>\n",
       "      <td>...</td>\n",
       "      <td>...</td>\n",
       "      <td>...</td>\n",
       "      <td>...</td>\n",
       "      <td>...</td>\n",
       "    </tr>\n",
       "    <tr>\n",
       "      <th>145555</th>\n",
       "      <td>41363.0</td>\n",
       "      <td>4569.0</td>\n",
       "      <td>9416.0</td>\n",
       "      <td>0.0</td>\n",
       "      <td>2020-10-26 19:00:00</td>\n",
       "    </tr>\n",
       "    <tr>\n",
       "      <th>145556</th>\n",
       "      <td>41363.0</td>\n",
       "      <td>4569.0</td>\n",
       "      <td>9416.0</td>\n",
       "      <td>0.0</td>\n",
       "      <td>2020-10-26 20:00:00</td>\n",
       "    </tr>\n",
       "    <tr>\n",
       "      <th>145557</th>\n",
       "      <td>41363.0</td>\n",
       "      <td>4569.0</td>\n",
       "      <td>9416.0</td>\n",
       "      <td>0.0</td>\n",
       "      <td>2020-10-26 21:00:00</td>\n",
       "    </tr>\n",
       "    <tr>\n",
       "      <th>145558</th>\n",
       "      <td>41363.0</td>\n",
       "      <td>4569.0</td>\n",
       "      <td>9416.0</td>\n",
       "      <td>0.0</td>\n",
       "      <td>2020-10-26 22:00:00</td>\n",
       "    </tr>\n",
       "    <tr>\n",
       "      <th>145559</th>\n",
       "      <td>41363.0</td>\n",
       "      <td>4569.0</td>\n",
       "      <td>9416.0</td>\n",
       "      <td>0.0</td>\n",
       "      <td>2020-10-26 23:00:00</td>\n",
       "    </tr>\n",
       "  </tbody>\n",
       "</table>\n",
       "<p>8640 rows × 5 columns</p>\n",
       "</div>"
      ],
      "text/plain": [
       "        System total load in MAW  Wind Offshore in MAW  Wind Onshore in MAW  \\\n",
       "136920                   58592.0                5473.0              14076.0   \n",
       "136921                   59392.0                5461.0              13960.0   \n",
       "136922                   59978.0                5299.0              14083.0   \n",
       "136923                   60262.0                5354.0              14472.0   \n",
       "136924                   60758.0                5196.0              14743.0   \n",
       "...                          ...                   ...                  ...   \n",
       "145555                   41363.0                4569.0               9416.0   \n",
       "145556                   41363.0                4569.0               9416.0   \n",
       "145557                   41363.0                4569.0               9416.0   \n",
       "145558                   41363.0                4569.0               9416.0   \n",
       "145559                   41363.0                4569.0               9416.0   \n",
       "\n",
       "        Solar in MAW                Date  \n",
       "136920        7037.0 2020-07-28 06:00:00  \n",
       "136921        8428.0 2020-07-28 06:15:00  \n",
       "136922        9929.0 2020-07-28 06:30:00  \n",
       "136923       11355.0 2020-07-28 06:45:00  \n",
       "136924       12845.0 2020-07-28 07:00:00  \n",
       "...              ...                 ...  \n",
       "145555           0.0 2020-10-26 19:00:00  \n",
       "145556           0.0 2020-10-26 20:00:00  \n",
       "145557           0.0 2020-10-26 21:00:00  \n",
       "145558           0.0 2020-10-26 22:00:00  \n",
       "145559           0.0 2020-10-26 23:00:00  \n",
       "\n",
       "[8640 rows x 5 columns]"
      ]
     },
     "execution_count": 48,
     "metadata": {},
     "output_type": "execute_result"
    }
   ],
   "source": [
    "y_test"
   ]
  },
  {
   "cell_type": "code",
   "execution_count": 49,
   "metadata": {},
   "outputs": [
    {
     "data": {
      "text/plain": [
       "array([[68264.516 ,  5173.9375, 16281.208 , 13707.607 ],\n",
       "       [67303.69  ,  5052.711 , 16270.776 , 14367.791 ],\n",
       "       [66668.875 ,  4903.6406, 16419.764 , 14985.337 ],\n",
       "       ...,\n",
       "       [39665.008 ,  4121.218 , 12219.583 ,     0.    ],\n",
       "       [39314.19  ,  4387.7207, 13339.481 ,     0.    ],\n",
       "       [39533.957 ,  4488.1064, 13563.02  ,   158.148 ]], dtype=float32)"
      ]
     },
     "execution_count": 49,
     "metadata": {},
     "output_type": "execute_result"
    }
   ],
   "source": []
  },
  {
   "cell_type": "code",
   "execution_count": 51,
   "metadata": {},
   "outputs": [
    {
     "name": "stdout",
     "output_type": "stream",
     "text": [
      "=================================\n",
      "Load\n",
      "----------------------------------------------\n",
      "The overall mean absolute error of the model in MW is: 4943.8\n",
      "----------------------------------------------\n",
      "----------------------------------------------\n",
      "The overall mean absolute scaled error of the model in MW is: 9.3922\n",
      "Please note: to calculate the MASE, the prediction for the first observation was omitted\n",
      "----------------------------------------------\n",
      "=================================\n",
      "=================================\n",
      "Wind Offshore\n",
      "----------------------------------------------\n",
      "The overall mean absolute error of the model in MW is: 866.72\n",
      "----------------------------------------------\n",
      "----------------------------------------------\n",
      "The overall mean absolute scaled error of the model in MW is: 10.0299\n",
      "Please note: to calculate the MASE, the prediction for the first observation was omitted\n",
      "----------------------------------------------\n",
      "=================================\n",
      "=================================\n",
      "Wind Onshore\n",
      "----------------------------------------------\n",
      "The overall mean absolute error of the model in MW is: 1693.45\n",
      "----------------------------------------------\n",
      "----------------------------------------------\n",
      "The overall mean absolute scaled error of the model in MW is: 8.4547\n",
      "Please note: to calculate the MASE, the prediction for the first observation was omitted\n",
      "----------------------------------------------\n",
      "=================================\n",
      "=================================\n",
      "Solar\n",
      "----------------------------------------------\n",
      "The overall mean absolute error of the model in MW is: 1469.78\n",
      "----------------------------------------------\n",
      "----------------------------------------------\n",
      "The overall mean absolute scaled error of the model in MW is: 3.609\n",
      "Please note: to calculate the MASE, the prediction for the first observation was omitted\n",
      "----------------------------------------------\n",
      "=================================\n"
     ]
    }
   ],
   "source": [
    "list_names = [\"Load\",\"Wind Offshore\", \"Wind Onshore\", \"Solar\"]\n",
    "\n",
    "for i in range(len(y_pred[0])):\n",
    "    print(\"=================================\")\n",
    "    print(f\"{list_names[i]}\")\n",
    "    get_model_metrics(y_test.iloc[2:,[-1,i]],y_pred[:,i])\n",
    "    print(\"=================================\")\n"
   ]
  },
  {
   "cell_type": "code",
   "execution_count": 52,
   "metadata": {},
   "outputs": [
    {
     "name": "stdout",
     "output_type": "stream",
     "text": [
      "=================================\n",
      "Load\n",
      "----------------------------------------------\n",
      "The overall mean absolute error of the model in MW is: 1399.12\n",
      "----------------------------------------------\n",
      "----------------------------------------------\n",
      "The overall mean absolute scaled error of the model in MW is: 2.6583\n",
      "Please note: to calculate the MASE, the prediction for the first observation was omitted\n",
      "----------------------------------------------\n",
      "=================================\n",
      "=================================\n",
      "Wind Offshore\n",
      "----------------------------------------------\n",
      "The overall mean absolute error of the model in MW is: 463.8\n",
      "----------------------------------------------\n",
      "----------------------------------------------\n",
      "The overall mean absolute scaled error of the model in MW is: 5.3665\n",
      "Please note: to calculate the MASE, the prediction for the first observation was omitted\n",
      "----------------------------------------------\n",
      "=================================\n",
      "=================================\n",
      "Wind Onshore\n",
      "----------------------------------------------\n",
      "The overall mean absolute error of the model in MW is: 917.72\n",
      "----------------------------------------------\n",
      "----------------------------------------------\n",
      "The overall mean absolute scaled error of the model in MW is: 4.5823\n",
      "Please note: to calculate the MASE, the prediction for the first observation was omitted\n",
      "----------------------------------------------\n",
      "=================================\n",
      "=================================\n",
      "Solar\n",
      "----------------------------------------------\n",
      "The overall mean absolute error of the model in MW is: 328.73\n",
      "----------------------------------------------\n",
      "----------------------------------------------\n",
      "The overall mean absolute scaled error of the model in MW is: 0.8069\n",
      "Please note: to calculate the MASE, the prediction for the first observation was omitted\n",
      "----------------------------------------------\n",
      "=================================\n"
     ]
    }
   ],
   "source": [
    "list_names = [\"Load\",\"Wind Offshore\", \"Wind Onshore\", \"Solar\"]\n",
    "\n",
    "for i in range(len(y_pred[0])):\n",
    "    print(\"=================================\")\n",
    "    print(f\"{list_names[i]}\")\n",
    "    get_model_metrics(y_test.iloc[:,[-1,i]],y_entso_e[:,i])\n",
    "    print(\"=================================\")\n"
   ]
  },
  {
   "cell_type": "code",
   "execution_count": null,
   "metadata": {},
   "outputs": [],
   "source": [
    "list_names = [\"Load\",\"Wind Offshore\", \"Wind Onshore\", \"Solar\"]\n",
    "\n",
    "for i in range(len(y_pred[0])):\n",
    "    print(\"=================================\")\n",
    "    print(f\"{list_names[i]}\")\n",
    "    get_model_metrics(y_test.iloc[1:,[-1,i]],y_test.iloc[:-1,i])\n",
    "    print(\"=================================\")"
   ]
  },
  {
   "cell_type": "code",
   "execution_count": null,
   "metadata": {},
   "outputs": [],
   "source": []
  },
  {
   "cell_type": "code",
   "execution_count": null,
   "metadata": {},
   "outputs": [],
   "source": []
  }
 ],
 "metadata": {
  "kernelspec": {
   "display_name": "Python 3",
   "language": "python",
   "name": "python3"
  },
  "language_info": {
   "codemirror_mode": {
    "name": "ipython",
    "version": 3
   },
   "file_extension": ".py",
   "mimetype": "text/x-python",
   "name": "python",
   "nbconvert_exporter": "python",
   "pygments_lexer": "ipython3",
   "version": "3.7.9"
  }
 },
 "nbformat": 4,
 "nbformat_minor": 4
}
