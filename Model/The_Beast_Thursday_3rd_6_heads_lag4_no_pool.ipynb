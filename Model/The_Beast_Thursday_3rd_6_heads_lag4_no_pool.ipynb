{
 "cells": [
  {
   "cell_type": "code",
   "execution_count": 1,
   "metadata": {},
   "outputs": [],
   "source": [
    "import tensorflow as tf\n",
    "import pandas as pd\n",
    "import numpy as np\n",
    "from tensorflow.keras import models,layers\n",
    "from tensorflow.keras import Input, Model\n",
    "from tensorflow.keras.layers import Dense\n",
    "from sklearn.preprocessing import StandardScaler\n",
    "from sklearn.metrics import mean_squared_error\n",
    "from sklearn.metrics import mean_absolute_error\n",
    "from utils import cyclical_encoder\n",
    "from utils import train_val_test_split\n",
    "from utils import get_model_metrics\n",
    "\n",
    "import datetime"
   ]
  },
  {
   "cell_type": "markdown",
   "metadata": {},
   "source": [
    "# Load Feature Channels\n",
    "['temp', 'rhum', 'prcp', 'wdir', 'wspd', 'pres', 'tsun']  [\"Wind\",\"Solar\"]"
   ]
  },
  {
   "cell_type": "code",
   "execution_count": 2,
   "metadata": {},
   "outputs": [],
   "source": [
    "def min_max_normalize_target_var(df):\n",
    "    # fix the min and max according to phisical properties:\n",
    "    X_max = 100_000\n",
    "    \n",
    "    for col in df.columns:\n",
    "        df[col] /= X_max\n",
    "        \n",
    "    return df"
   ]
  },
  {
   "cell_type": "code",
   "execution_count": 3,
   "metadata": {},
   "outputs": [],
   "source": [
    "def train_val_test_split_np(feature_matrix, val_days, test_days):\n",
    "\n",
    "\n",
    "    print('The shape of the feature data set is: {}'.format(feature_matrix.shape))\n",
    "#     print('The shape of the target data set is: {}'.format(target_matrix.shape))\n",
    "\n",
    "    rows_for_test = test_days*96\n",
    "    rows_for_val = val_days*96\n",
    "\n",
    "    X_train = feature_matrix[:-(rows_for_test + rows_for_val)]\n",
    "#     y_train = target_matrix[105_120:-(rows_for_test + rows_for_val)]\n",
    "    print('--------------------------------------------')\n",
    "    print('The shape of the train set is: {}'.format(X_train.shape))\n",
    "#     print('The shape of the target variable is: {}'.format(y_train.shape))\n",
    "    print('--------------------------------------------')\n",
    "\n",
    "    X_val = feature_matrix[X_train.shape[0]:-(rows_for_test)]\n",
    "#     y_val = target_matrix[y_train.shape[0]+105_120:-(rows_for_test)]\n",
    "    print('\\n--------------------------------------------')\n",
    "    print('The shape of the validation set is: {}'.format(X_val.shape))\n",
    "#     print('The shape of the target variable for the validation set is: {}'.format(y_val.shape))\n",
    "    print('--------------------------------------------')\n",
    "\n",
    "    X_test = feature_matrix[X_val.shape[0]+X_train.shape[0]:]\n",
    "#     y_test = target_matrix[y_val.shape[0]+X_train.shape[0]+105_120:]\n",
    "    print('\\n--------------------------------------------')\n",
    "    print('The shape of the test set is: {}'.format(X_test.shape))\n",
    "#     print('The shape of the target variable for the test set is: {}'.format(y_test.shape))\n",
    "    print('--------------------------------------------\\n')\n",
    "\n",
    "    return X_train, X_val, X_test"
   ]
  },
  {
   "cell_type": "code",
   "execution_count": 4,
   "metadata": {},
   "outputs": [],
   "source": [
    "def get_model_metrics(y_true_with_date, y_prediction):\n",
    "\n",
    "    y_true = np.array(y_true_with_date.iloc[:,1])\n",
    "    y_pred = np.array(y_prediction)\n",
    "\n",
    "    # get the total error and the overall MAE\n",
    "\n",
    "    overall_mae = mean_absolute_error(y_true, y_pred)\n",
    "    mse = mean_squared_error(y_true,y_pred)\n",
    "    absolute_error = overall_mae * len(y_true)\n",
    "\n",
    "    print('----------------------------------------------')\n",
    "    print(f'The absolute error (total actual minus  forecast) in MW is: {round(absolute_error, 2)}')\n",
    "    print(f'The overall mean absolute error of the model in MW is: {overall_mae}')\n",
    "    print(f'The overall mean squared error of the model is: {mse}')\n",
    "#     print('----------------------------------------------')\n",
    "\n",
    "    # get the overall mean absolute scaled error (MASE)\n",
    "\n",
    "    naive_forecast = y_true[1:]\n",
    "    y_true_for_mase = y_true[:-1]\n",
    "    mae_naive = mean_absolute_error(y_true_for_mase, naive_forecast)\n",
    "    overall_mae_without_first_observation = mean_absolute_error(y_true[1:], y_pred[1:])\n",
    "\n",
    "    overall_mase = overall_mae_without_first_observation/mae_naive\n",
    "\n",
    "#     print('----------------------------------------------')\n",
    "    print(f'The overall mean absolute scaled error of the model in MW is: {overall_mase}')\n",
    "    print('----------------------------------------------')\n",
    "\n",
    "    # get the MAE for every day and return a dataframe and charts\n",
    "\n",
    "    time_stamp = np.array(\n",
    "                 pd.to_datetime(y_true_with_date.iloc[:,0], format='%Y-%m-%d %H:%M:%S').dt.date\n",
    "                 )\n",
    "\n",
    "    date_list = list()\n",
    "    y_true_list = list()\n",
    "    y_pred_list = list()\n",
    "\n",
    "    df = pd.DataFrame({'Date': time_stamp,\n",
    "                       'y_true': y_true,\n",
    "                       'y_pred': y_pred})\n",
    "\n",
    "    list_of_days = sorted(list(set(df.Date.values)))\n",
    "\n",
    "    for day in list_of_days:\n",
    "        sub_df = df.query('Date == @day')\n",
    "        date_list.append(sub_df.Date.values)\n",
    "        y_true_list.append(sub_df.y_true.values)\n",
    "        y_pred_list.append(sub_df.y_pred.values)\n",
    "\n",
    "    mae_list = list()\n",
    "    for i, j, k in zip(y_true_list, y_pred_list, date_list):\n",
    "        MAE = mean_absolute_error(i, j)\n",
    "        mae_list.append(MAE)\n",
    "\n",
    "    del df\n",
    "\n",
    "    df = pd.DataFrame({'day':list_of_days, 'MAE': mae_list},)\n",
    "#     print('----------------------------------------------\\n')\n",
    "\n",
    "    return df"
   ]
  },
  {
   "cell_type": "code",
   "execution_count": 5,
   "metadata": {},
   "outputs": [],
   "source": [
    "file = 'Feature_channels/feature_channel_16x10.npy'\n",
    "feature_channel = np.load(file, allow_pickle=False)"
   ]
  },
  {
   "cell_type": "code",
   "execution_count": 6,
   "metadata": {},
   "outputs": [],
   "source": [
    "feature_channel = np.moveaxis(feature_channel, -1, 0)\n",
    "feature_channel = np.nan_to_num(feature_channel, nan=-.01)"
   ]
  },
  {
   "cell_type": "code",
   "execution_count": 7,
   "metadata": {},
   "outputs": [],
   "source": [
    "# ['temp', 'rhum', 'prcp', 'wdir', 'wspd', 'pres', 'tsun'] [\"Wind\",\"Solar\"]\n",
    "#    0       1        2       3      4        5      6        7      8"
   ]
  },
  {
   "cell_type": "code",
   "execution_count": 8,
   "metadata": {},
   "outputs": [],
   "source": [
    "# feature_channel = feature_channel[105_120:204004,:,:,[0,4,7,8]]\n",
    "# # feature_channel[:204004,:,:,[0,4,7,8]].shape\n",
    "# feature_channel.shape"
   ]
  },
  {
   "cell_type": "code",
   "execution_count": 9,
   "metadata": {},
   "outputs": [],
   "source": [
    "# feature_channel = feature_channel[105_120:204004,:,:,:]  # to adjust for the difference in datasets\n",
    "feature_channel = feature_channel[:204004,:,:,:]"
   ]
  },
  {
   "cell_type": "code",
   "execution_count": 10,
   "metadata": {},
   "outputs": [
    {
     "name": "stdout",
     "output_type": "stream",
     "text": [
      "The shape of the feature data set is: (204004, 16, 10, 9)\n",
      "--------------------------------------------\n",
      "The shape of the train set is: (186724, 16, 10, 9)\n",
      "--------------------------------------------\n",
      "\n",
      "--------------------------------------------\n",
      "The shape of the validation set is: (8640, 16, 10, 9)\n",
      "--------------------------------------------\n",
      "\n",
      "--------------------------------------------\n",
      "The shape of the test set is: (8640, 16, 10, 9)\n",
      "--------------------------------------------\n",
      "\n"
     ]
    }
   ],
   "source": [
    "X_train_fc, X_val_fc,X_test_fc= train_val_test_split_np(feature_channel, 90, 90)"
   ]
  },
  {
   "cell_type": "markdown",
   "metadata": {},
   "source": [
    "# Load Entso-e Data"
   ]
  },
  {
   "cell_type": "code",
   "execution_count": 11,
   "metadata": {},
   "outputs": [],
   "source": [
    "df = pd.read_csv(\"small_dataset.csv\",parse_dates=[0])"
   ]
  },
  {
   "cell_type": "code",
   "execution_count": 12,
   "metadata": {},
   "outputs": [],
   "source": [
    "# df = df.iloc[105_120:,:]"
   ]
  },
  {
   "cell_type": "code",
   "execution_count": 13,
   "metadata": {},
   "outputs": [],
   "source": [
    "df = cyclical_encoder(df,1440,\"minute\")\n",
    "df = cyclical_encoder(df,12,\"month\")\n",
    "df = cyclical_encoder(df,7,\"weekday\")\n",
    "df[\"Year\"] = df[\"Date\"].dt.year-2014"
   ]
  },
  {
   "cell_type": "code",
   "execution_count": 14,
   "metadata": {},
   "outputs": [
    {
     "name": "stdout",
     "output_type": "stream",
     "text": [
      "The shape of the data set is: (204004, 12)\n",
      "\n",
      "--------------------------------------------\n",
      "The shape of the train set is: (186724, 7)\n",
      "The shape of the target variable is: (186724, 4)\n",
      "--------------------------------------------\n",
      "\n",
      "--------------------------------------------\n",
      "The shape of the validation set is: (8640, 7)\n",
      "The shape of the target variable for the validation set is: (8640, 4)\n",
      "--------------------------------------------\n",
      "\n",
      "--------------------------------------------\n",
      "The shape of the test set is: (8640, 7)\n",
      "The shape of the target variable for the test set is: (8640, 5)\n",
      "--------------------------------------------\n"
     ]
    }
   ],
   "source": [
    "target_vars = [\"System total load in MAW\",\"Wind Offshore in MAW\",\"Wind Onshore in MAW\",\"Solar in MAW\"]\n",
    "X_train, y_train, X_val, y_val, X_test, y_test = train_val_test_split(df, target_vars, 90, 90)"
   ]
  },
  {
   "cell_type": "code",
   "execution_count": 15,
   "metadata": {},
   "outputs": [],
   "source": [
    "X_train = pd.concat([X_train,y_train],axis=1)\n",
    "X_val = pd.concat([X_val,y_val],axis=1)\n",
    "X_test = pd.concat([X_test,y_test.drop(columns=[\"Date\"])],axis=1)\n",
    "cols = [x for x in X_train.columns if x not in \"sin_minute sin_minute \\\n",
    "        cos_minute sin_month cos_month sin_weekday cos_weekday Year\"]"
   ]
  },
  {
   "cell_type": "code",
   "execution_count": 16,
   "metadata": {},
   "outputs": [],
   "source": [
    "scaler_f = StandardScaler()\n",
    "X_train.loc[:,cols] = scaler_f.fit_transform(X_train.loc[:,cols])\n",
    "X_val.loc[:,cols] = scaler_f.transform(X_val.loc[:,cols])\n",
    "X_test.loc[:,cols] = scaler_f.transform(X_test.loc[:,cols])\n",
    "\n",
    "scaler_t = StandardScaler()\n",
    "y_train = scaler_t.fit_transform(y_train)\n",
    "y_val = scaler_t.transform(y_val)\n",
    "y_test.loc[:,target_vars] = scaler_t.transform(y_test.loc[:,target_vars])"
   ]
  },
  {
   "cell_type": "code",
   "execution_count": 17,
   "metadata": {},
   "outputs": [],
   "source": [
    "def split_sequences(features,target, n_steps):\n",
    "    X, y = list(), list()\n",
    "    for i in range(len(target)):\n",
    "        # find the end of this pattern\n",
    "        end_ix = i + n_steps\n",
    "        # check if we are beyond the dataset\n",
    "        if end_ix+1 > len(target):\n",
    "            break\n",
    "        # gather input and output parts of the pattern\n",
    "        seq_x, seq_y = features.iloc[i:end_ix, :], target.iloc[end_ix,:]\n",
    "        X.append(seq_x)\n",
    "        y.append(seq_y)\n",
    "    return np.array(X), np.array(y)"
   ]
  },
  {
   "cell_type": "code",
   "execution_count": 18,
   "metadata": {},
   "outputs": [],
   "source": [
    "n_steps = 4\n",
    "seq_X_train,seq_y_train = split_sequences(X_train,pd.DataFrame(y_train), n_steps)\n",
    "seq_X_val,seq_y_val = split_sequences(X_val,pd.DataFrame(y_val), n_steps)\n",
    "\n",
    "n_features = seq_X_train.shape[2]"
   ]
  },
  {
   "cell_type": "code",
   "execution_count": 19,
   "metadata": {},
   "outputs": [],
   "source": [
    "qry = seq_X_train.astype('float32')\n",
    "key = seq_X_train.astype('float32') \n",
    "values = seq_X_train.astype('float32')\n",
    "fc_in = X_train_fc[n_steps:,:,:,:]\n",
    "fc_in_val = X_val_fc[n_steps:,:,:,:]"
   ]
  },
  {
   "cell_type": "code",
   "execution_count": 20,
   "metadata": {},
   "outputs": [
    {
     "data": {
      "text/plain": [
       "((186720, 4, 11), (186720, 16, 10, 9))"
      ]
     },
     "execution_count": 20,
     "metadata": {},
     "output_type": "execute_result"
    }
   ],
   "source": [
    "seq_X_train.shape,  X_train_fc[n_steps:,:,:,:].shape"
   ]
  },
  {
   "cell_type": "markdown",
   "metadata": {},
   "source": [
    "# Model"
   ]
  },
  {
   "cell_type": "code",
   "execution_count": 21,
   "metadata": {},
   "outputs": [],
   "source": [
    "def get_angles(pos, i, d_model):\n",
    "    angle_rates = 1 / np.power(10000, (2 * (i//2)) / np.float32(d_model))\n",
    "    return pos * angle_rates\n",
    "\n",
    "def positional_encoding(position, d_model):\n",
    "    angle_rads = get_angles(np.arange(position)[:, np.newaxis],\n",
    "                          np.arange(d_model)[np.newaxis, :],\n",
    "                          d_model)\n",
    "\n",
    "  # apply sin to even indices in the array; 2i\n",
    "    angle_rads[:, 0::2] = np.sin(angle_rads[:, 0::2])\n",
    "\n",
    "  # apply cos to odd indices in the array; 2i+1\n",
    "    angle_rads[:, 1::2] = np.cos(angle_rads[:, 1::2])\n",
    "\n",
    "    pos_encoding = angle_rads[np.newaxis, ...]\n",
    "\n",
    "    return tf.cast(pos_encoding, dtype=tf.float32)"
   ]
  },
  {
   "cell_type": "code",
   "execution_count": 22,
   "metadata": {},
   "outputs": [],
   "source": [
    "def attention_head(q_in,k_in, v_in, capacity):\n",
    "    Q = Dense(capacity, activation='linear')(q_in)\n",
    "    K = Dense(capacity, activation='linear')(k_in)\n",
    "    V = Dense(capacity, activation='linear')(v_in)\n",
    "    query_value_attention  = tf.keras.layers.Attention()([Q,V,K])\n",
    "#     return query_value_attention\n",
    "    return tf.reduce_sum(query_value_attention, 1)   "
   ]
  },
  {
   "cell_type": "code",
   "execution_count": 23,
   "metadata": {},
   "outputs": [],
   "source": [
    "q_in = Input(shape=(n_steps, n_features))\n",
    "k_in = Input(shape=(n_steps, n_features))\n",
    "v_in = Input(shape=(n_steps, n_features))\n",
    "\n",
    "d_model = n_features\n",
    "position = n_steps\n",
    "pos_q = tf.math.add(q_in,positional_encoding(position,d_model))\n",
    "pos_k = tf.math.add(k_in,positional_encoding(position,d_model))\n",
    "pos_v = tf.math.add(v_in,positional_encoding(position,d_model))\n",
    "  \n",
    "\n",
    "capacity = n_features\n",
    "# head_1 = attention_head(q_in,k_in, v_in, capacity)\n",
    "# head_2 = attention_head(q_in,k_in, v_in, capacity)\n",
    "n_heads = 6\n",
    "list_heads = []\n",
    "for i in range(n_heads):\n",
    "    list_heads.append(attention_head(pos_q,pos_k, pos_v, capacity))\n",
    "\n",
    "input_into_NN = tf.keras.layers.Concatenate()(list_heads)\n",
    "flatten_attn = tf.keras.layers.Flatten()(input_into_NN)"
   ]
  },
  {
   "cell_type": "code",
   "execution_count": 24,
   "metadata": {},
   "outputs": [],
   "source": [
    "input_shape=feature_channel.shape[1:]\n",
    "filters = 64\n",
    "window = (3,3)\n",
    "filters_2 = 64"
   ]
  },
  {
   "cell_type": "code",
   "execution_count": 25,
   "metadata": {},
   "outputs": [],
   "source": [
    "img_in  = Input(shape=input_shape)\n",
    "\n",
    "conv2D_1 = tf.keras.layers.Conv2D(filters, window, strides=(1, 1), activation='relu')(img_in)\n",
    "# pool_1 = tf.keras.layers.MaxPooling2D(pool_size=(2, 2))(conv2D_1)\n",
    "\n",
    "conv2D_2 = tf.keras.layers.Conv2D(filters_2, window, strides=(1, 1), activation='relu')(conv2D_1)\n",
    "# pool_2 = tf.keras.layers.MaxPooling2D(pool_size=(2, 2))(conv2D_2)\n",
    "\n",
    "flatten_cnn = tf.keras.layers.Flatten()(conv2D_2)"
   ]
  },
  {
   "cell_type": "code",
   "execution_count": 26,
   "metadata": {},
   "outputs": [],
   "source": [
    "combine = tf.keras.layers.Concatenate()([flatten_cnn,flatten_attn])\n",
    "dense_layer = Dense(16,activation='relu')(combine)\n",
    "prediction = Dense(4,activation='linear')(dense_layer)\n",
    "\n",
    "mdl = Model(inputs=[img_in,q_in,k_in, v_in], outputs=[prediction])\n",
    "# mdl = Model(inputs=[q_in,k_in, v_in], outputs=[prediction])"
   ]
  },
  {
   "cell_type": "code",
   "execution_count": 27,
   "metadata": {},
   "outputs": [],
   "source": [
    "# mdl.summary()"
   ]
  },
  {
   "cell_type": "code",
   "execution_count": 28,
   "metadata": {},
   "outputs": [],
   "source": [
    "mdl.compile(\n",
    "    optimizer = \"rmsprop\",\n",
    "    loss = \"mean_squared_error\",\n",
    "    metrics = [\"mean_absolute_error\"]#optional\n",
    ")"
   ]
  },
  {
   "cell_type": "code",
   "execution_count": 40,
   "metadata": {},
   "outputs": [
    {
     "name": "stdout",
     "output_type": "stream",
     "text": [
      "Epoch 1/5\n",
      "5835/5835 [==============================] - 34s 6ms/step - loss: 0.0015 - mean_absolute_error: 0.0258 - val_loss: 0.0022 - val_mean_absolute_error: 0.0334\n",
      "Epoch 2/5\n",
      "5835/5835 [==============================] - 34s 6ms/step - loss: 0.0015 - mean_absolute_error: 0.0257 - val_loss: 0.0020 - val_mean_absolute_error: 0.0296\n",
      "Epoch 3/5\n",
      "5835/5835 [==============================] - 34s 6ms/step - loss: 0.0015 - mean_absolute_error: 0.0256 - val_loss: 0.0021 - val_mean_absolute_error: 0.0327\n",
      "Epoch 4/5\n",
      "5835/5835 [==============================] - 34s 6ms/step - loss: 0.0015 - mean_absolute_error: 0.0255 - val_loss: 0.0021 - val_mean_absolute_error: 0.0319\n",
      "Epoch 5/5\n",
      "5835/5835 [==============================] - 34s 6ms/step - loss: 0.0015 - mean_absolute_error: 0.0254 - val_loss: 0.0016 - val_mean_absolute_error: 0.0243\n"
     ]
    }
   ],
   "source": [
    "history = mdl.fit(\n",
    "    [fc_in,qry, key, values],seq_y_train,\n",
    "#     [qry, key, values],seq_y_train,\n",
    "    epochs=5,\n",
    "    batch_size=32,\n",
    "    validation_data=((fc_in_val,seq_X_val,seq_X_val,seq_X_val),seq_y_val),\n",
    "#     validation_data=((seq_X_val,seq_X_val,seq_X_val),seq_y_val),\n",
    "    )"
   ]
  },
  {
   "cell_type": "code",
   "execution_count": 41,
   "metadata": {},
   "outputs": [
    {
     "data": {
      "image/png": "[encoded data removed]",
      "text/plain": [
       "<Figure size 432x288 with 1 Axes>"
      ]
     },
     "metadata": {
      "needs_background": "light"
     },
     "output_type": "display_data"
    },
    {
     "data": {
      "image/png": "[encoded data removed]",
      "text/plain": [
       "<Figure size 432x288 with 1 Axes>"
      ]
     },
     "metadata": {
      "needs_background": "light"
     },
     "output_type": "display_data"
    }
   ],
   "source": [
    "import matplotlib.pyplot as plt\n",
    "history.history\n",
    "plt.plot(history.history[\"loss\"],label = \"loss\")\n",
    "plt.plot(history.history[\"val_loss\"],label = \"val_loss\")\n",
    "plt.legend()\n",
    "plt.show()\n",
    "plt.close()\n",
    "\n",
    "\n",
    "history.history\n",
    "plt.plot(history.history[\"mean_absolute_error\"],label = \"MAE\")\n",
    "plt.plot(history.history[\"val_mean_absolute_error\"],label = \"val_MAE\")\n",
    "plt.legend()\n",
    "plt.show()\n",
    "plt.close()"
   ]
  },
  {
   "cell_type": "code",
   "execution_count": 42,
   "metadata": {},
   "outputs": [],
   "source": [
    "# seq_X_test,seq_y_test = split_sequences(X_test,y_test, n_steps)\n",
    "# fc_in_test = X_test_fc[n_steps:,:,:,:]\n",
    "\n",
    "# y_pred = mdl.predict((fc_in_test,seq_X_test,seq_X_test,seq_X_test))\n",
    "# y_pred_back = scaler_t.inverse_transform(y_pred)\n",
    "# y_test_back = pd.DataFrame(seq_y_test,columns=target_vars+[\"Date\"])\n",
    "# y_test_back.loc[:,target_vars] = scaler_t.inverse_transform(y_test_back.loc[:,target_vars])\n",
    "\n",
    "# list_names = [\"Load\",\"Wind Offshore\", \"Wind Onshore\", \"Solar\"]\n",
    "\n",
    "# for i in range(len(y_pred_back[0])):\n",
    "#     print(\"=================================\")\n",
    "#     print(f\"{list_names[i]}\")\n",
    "#     get_model_metrics(y_test_back.iloc[:,[-1,i]],y_pred_back[:,i])\n",
    "#     print(\"=================================\")"
   ]
  },
  {
   "cell_type": "code",
   "execution_count": 43,
   "metadata": {},
   "outputs": [
    {
     "name": "stdout",
     "output_type": "stream",
     "text": [
      "=================================\n",
      "Load\n",
      "----------------------------------------------\n",
      "The absolute error (total actual minus  forecast) in MW is: 2460497.88\n",
      "The overall mean absolute error of the model in MW is: 284.9117502315887\n",
      "The overall mean squared error of the model is: 149493.96283592234\n",
      "The overall mean absolute scaled error of the model in MW is: 0.5388463835431868\n",
      "----------------------------------------------\n",
      "=================================\n",
      "=================================\n",
      "Wind Offshore\n",
      "----------------------------------------------\n",
      "The absolute error (total actual minus  forecast) in MW is: 651808.71\n",
      "The overall mean absolute error of the model in MW is: 75.47576523509593\n",
      "The overall mean squared error of the model is: 14619.037140601673\n",
      "The overall mean absolute scaled error of the model in MW is: 0.8713165802562431\n",
      "----------------------------------------------\n",
      "=================================\n",
      "=================================\n",
      "Wind Onshore\n",
      "----------------------------------------------\n",
      "The absolute error (total actual minus  forecast) in MW is: 1245765.67\n",
      "The overall mean absolute error of the model in MW is: 144.2526248942486\n",
      "The overall mean squared error of the model is: 38722.42296756915\n",
      "The overall mean absolute scaled error of the model in MW is: 0.717776266902838\n",
      "----------------------------------------------\n",
      "=================================\n",
      "=================================\n",
      "Solar\n",
      "----------------------------------------------\n",
      "The absolute error (total actual minus  forecast) in MW is: 707078.55\n",
      "The overall mean absolute error of the model in MW is: 81.87570010045489\n",
      "The overall mean squared error of the model is: 15616.484463810531\n",
      "The overall mean absolute scaled error of the model in MW is: 0.20047717176881125\n",
      "----------------------------------------------\n",
      "=================================\n"
     ]
    }
   ],
   "source": [
    "seq_X_test,seq_y_test = split_sequences(X_test,y_test, n_steps)\n",
    "fc_in_test = X_test_fc[n_steps:,:,:,:]\n",
    "\n",
    "y_pred = mdl.predict((fc_in_test,seq_X_test,seq_X_test,seq_X_test))\n",
    "# y_pred = mdl.predict((seq_X_test,seq_X_test,seq_X_test))\n",
    "y_pred_back = scaler_t.inverse_transform(y_pred)\n",
    "y_test_back = pd.DataFrame(seq_y_test,columns=target_vars+[\"Date\"])\n",
    "y_test_back.loc[:,target_vars] = scaler_t.inverse_transform(y_test_back.loc[:,target_vars])\n",
    "\n",
    "list_names = [\"Load\",\"Wind Offshore\", \"Wind Onshore\", \"Solar\"]\n",
    "\n",
    "for i in range(len(list_names)):\n",
    "    print(\"=================================\")\n",
    "    print(f\"{list_names[i]}\")\n",
    "    get_model_metrics(y_test_back.iloc[:,[-1,i]],y_pred_back[:,i])\n",
    "    print(\"=================================\")"
   ]
  },
  {
   "cell_type": "code",
   "execution_count": null,
   "metadata": {},
   "outputs": [],
   "source": []
  },
  {
   "cell_type": "code",
   "execution_count": null,
   "metadata": {},
   "outputs": [],
   "source": []
  },
  {
   "cell_type": "code",
   "execution_count": null,
   "metadata": {},
   "outputs": [],
   "source": []
  },
  {
   "cell_type": "code",
   "execution_count": null,
   "metadata": {},
   "outputs": [],
   "source": []
  },
  {
   "cell_type": "code",
   "execution_count": null,
   "metadata": {},
   "outputs": [],
   "source": []
  },
  {
   "cell_type": "code",
   "execution_count": null,
   "metadata": {},
   "outputs": [],
   "source": []
  },
  {
   "cell_type": "code",
   "execution_count": null,
   "metadata": {},
   "outputs": [],
   "source": []
  }
 ],
 "metadata": {
  "kernelspec": {
   "display_name": "Python 3",
   "language": "python",
   "name": "python3"
  },
  "language_info": {
   "codemirror_mode": {
    "name": "ipython",
    "version": 3
   },
   "file_extension": ".py",
   "mimetype": "text/x-python",
   "name": "python",
   "nbconvert_exporter": "python",
   "pygments_lexer": "ipython3",
   "version": "3.7.9"
  }
 },
 "nbformat": 4,
 "nbformat_minor": 4
}
