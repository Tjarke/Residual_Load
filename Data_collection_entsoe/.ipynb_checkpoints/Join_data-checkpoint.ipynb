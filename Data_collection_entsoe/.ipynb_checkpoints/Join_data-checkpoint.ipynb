{
 "cells": [
  {
   "cell_type": "markdown",
   "metadata": {},
   "source": [
    "# Join the data downloaded from Entso-e to create a unified DataFrame\n",
    "\n",
    "Create one datframe for day-ahead and one for week-ahead"
   ]
  },
  {
   "cell_type": "code",
   "execution_count": 4,
   "metadata": {},
   "outputs": [],
   "source": [
    "import pandas as pd\n",
    "import datetime\n",
    "import os\n",
    "\n",
    "from Name_convention_dictionaries import PsrTypeDict"
   ]
  },
  {
   "cell_type": "code",
   "execution_count": 5,
   "metadata": {},
   "outputs": [],
   "source": [
    "# make sure the data type of the dates is datetime:\n",
    "dateparse = lambda x: datetime.datetime.strptime(x, '%Y-%m-%d %H:%M:%S')"
   ]
  },
  {
   "cell_type": "markdown",
   "metadata": {},
   "source": [
    "## Join all the files for day-ahead"
   ]
  },
  {
   "cell_type": "code",
   "execution_count": 6,
   "metadata": {},
   "outputs": [],
   "source": [
    "# get a list of all the day-ahead files\n",
    "folder_name = 'data_day_ahead'\n",
    "files_in_dir = os.listdir(\"./\"+folder_name+\"/\")"
   ]
  },
  {
   "cell_type": "markdown",
   "metadata": {},
   "source": [
    "Goal is to create a DataFrame for each document and process type. This means, all the data from regarding e.g. total load is saved in one big DataFrame:"
   ]
  },
  {
   "cell_type": "code",
   "execution_count": 7,
   "metadata": {},
   "outputs": [],
   "source": [
    "check_if_loaded = []\n",
    "list_of_dfs = []\n",
    "\n",
    "# take the first file in the folder\n",
    "for i in files_in_dir:\n",
    "    group_files = []\n",
    "    \n",
    "    # check if the file has been used before\n",
    "    if i == '.DS_Store':\n",
    "        pass\n",
    "    \n",
    "    elif i[:-38] not in check_if_loaded:\n",
    "        \n",
    "        # you want to group all files in the folder that belong to the same document and process type\n",
    "        # search for all files that have the same characters at the beginning of the file name\n",
    "        for j in files_in_dir:\n",
    "            \n",
    "            # if the selected file has the same characters at the beginning of the file name, save the\n",
    "            # path in the group_files list\n",
    "            if i[:-38] == j[:-38]:\n",
    "                group_files.append(\"./\"+folder_name+\"/\"+j)\n",
    "        \n",
    "        # save the first file in the group_files list as a dataframe in memory\n",
    "        df = pd.read_csv(group_files[0],parse_dates=['Date'], date_parser=dateparse)\n",
    "        \n",
    "        # iterate through all the remaining files in the group_files list and store them as a dataframe\n",
    "        # in memory. Then concatenate all dataframes\n",
    "        for k in group_files[1:]:\n",
    "            df2 = pd.read_csv(k,parse_dates=['Date'], date_parser=dateparse)\n",
    "            df = pd.concat([df,df2])\n",
    "\n",
    "        # Finally, sort the values in the dataframe by datetime and append the dataframe to the\n",
    "        # list_of_dfs. This will be used later to merge all dataframes together\n",
    "        df = df.sort_values(by=[\"Date\"])\n",
    "        list_of_dfs.append(df)\n",
    "        \n",
    "        # Append the first file to the check_if_loaded list to make sure all files with the same document\n",
    "        # and process type are ignored for the next iteration in the loop\n",
    "        check_if_loaded.append(i[:-38])"
   ]
  },
  {
   "cell_type": "code",
   "execution_count": 8,
   "metadata": {
    "scrolled": true
   },
   "outputs": [
    {
     "name": "stdout",
     "output_type": "stream",
     "text": [
      "388\n",
      "0\n",
      "388\n",
      "0\n",
      "388\n",
      "0\n",
      "388\n",
      "0\n",
      "0\n",
      "0\n",
      "0\n",
      "0\n",
      "0\n",
      "0\n",
      "0\n",
      "0\n"
     ]
    }
   ],
   "source": [
    "# search for duplicates and get rid of them\n",
    "for i in list_of_dfs:\n",
    "    print(i.duplicated().sum())\n",
    "    i.drop_duplicates(inplace=True)\n",
    "    print(i.duplicated().sum())"
   ]
  },
  {
   "cell_type": "markdown",
   "metadata": {},
   "source": [
    "## Merge all DataFrames"
   ]
  },
  {
   "cell_type": "code",
   "execution_count": 9,
   "metadata": {},
   "outputs": [],
   "source": [
    "from functools import reduce"
   ]
  },
  {
   "cell_type": "code",
   "execution_count": 10,
   "metadata": {},
   "outputs": [],
   "source": [
    "df_merged = reduce(lambda  left,right: pd.merge(left,right,on=['Date'],\n",
    "                                            how='outer'), list_of_dfs)"
   ]
  },
  {
   "cell_type": "code",
   "execution_count": 11,
   "metadata": {},
   "outputs": [],
   "source": [
    "df_merged = df_merged.sort_values(by=[\"Date\"]).reset_index()"
   ]
  },
  {
   "cell_type": "code",
   "execution_count": 12,
   "metadata": {},
   "outputs": [],
   "source": [
    "# save the new dataframe as a csv file\n",
    "df_merged.to_csv(\"Day_ahead_dataset.csv\", index=False)"
   ]
  },
  {
   "cell_type": "code",
   "execution_count": 13,
   "metadata": {},
   "outputs": [
    {
     "data": {
      "text/plain": [
       "Index(['index', 'Date', 'Day ahead/System total load in MAW',\n",
       "       'Day ahead/Solar in MAW', 'Day ahead/Wind Onshore in MAW',\n",
       "       'Day ahead/Wind Offshore in MAW', 'Realised/Solar in MAW',\n",
       "       'Realised/System total load in MAW', 'Realised/Wind Offshore in MAW',\n",
       "       'Realised/Wind Onshore in MAW'],\n",
       "      dtype='object')"
      ]
     },
     "execution_count": 13,
     "metadata": {},
     "output_type": "execute_result"
    }
   ],
   "source": [
    "# make sure all columns have been stored\n",
    "df_merged.columns"
   ]
  },
  {
   "cell_type": "code",
   "execution_count": 14,
   "metadata": {},
   "outputs": [
    {
     "data": {
      "text/plain": [
       "index                                   0\n",
       "Date                                    0\n",
       "Day ahead/System total load in MAW     96\n",
       "Day ahead/Solar in MAW                576\n",
       "Day ahead/Wind Onshore in MAW         576\n",
       "Day ahead/Wind Offshore in MAW         96\n",
       "Realised/Solar in MAW                 603\n",
       "Realised/System total load in MAW       7\n",
       "Realised/Wind Offshore in MAW         436\n",
       "Realised/Wind Onshore in MAW          447\n",
       "dtype: int64"
      ]
     },
     "execution_count": 14,
     "metadata": {},
     "output_type": "execute_result"
    }
   ],
   "source": [
    "# check how many nan values are in the DataFrame\n",
    "df_merged.isnull().sum()"
   ]
  },
  {
   "cell_type": "code",
   "execution_count": 15,
   "metadata": {},
   "outputs": [
    {
     "data": {
      "text/html": [
       "<div>\n",
       "<style scoped>\n",
       "    .dataframe tbody tr th:only-of-type {\n",
       "        vertical-align: middle;\n",
       "    }\n",
       "\n",
       "    .dataframe tbody tr th {\n",
       "        vertical-align: top;\n",
       "    }\n",
       "\n",
       "    .dataframe thead th {\n",
       "        text-align: right;\n",
       "    }\n",
       "</style>\n",
       "<table border=\"1\" class=\"dataframe\">\n",
       "  <thead>\n",
       "    <tr style=\"text-align: right;\">\n",
       "      <th></th>\n",
       "      <th>index</th>\n",
       "      <th>Date</th>\n",
       "      <th>Day ahead/System total load in MAW</th>\n",
       "      <th>Day ahead/Solar in MAW</th>\n",
       "      <th>Day ahead/Wind Onshore in MAW</th>\n",
       "      <th>Day ahead/Wind Offshore in MAW</th>\n",
       "      <th>Realised/Solar in MAW</th>\n",
       "      <th>Realised/System total load in MAW</th>\n",
       "      <th>Realised/Wind Offshore in MAW</th>\n",
       "      <th>Realised/Wind Onshore in MAW</th>\n",
       "    </tr>\n",
       "  </thead>\n",
       "  <tbody>\n",
       "    <tr>\n",
       "      <th>158615</th>\n",
       "      <td>158519</td>\n",
       "      <td>2019-07-11 04:45:00</td>\n",
       "      <td>56806.0</td>\n",
       "      <td>1774.0</td>\n",
       "      <td>1626.0</td>\n",
       "      <td>517.0</td>\n",
       "      <td>1967.0</td>\n",
       "      <td>57414.0</td>\n",
       "      <td>275.0</td>\n",
       "      <td>1692.0</td>\n",
       "    </tr>\n",
       "    <tr>\n",
       "      <th>14560</th>\n",
       "      <td>14560</td>\n",
       "      <td>2015-06-01 15:00:00</td>\n",
       "      <td>59328.0</td>\n",
       "      <td>8124.0</td>\n",
       "      <td>2243.0</td>\n",
       "      <td>114.0</td>\n",
       "      <td>9470.0</td>\n",
       "      <td>59965.0</td>\n",
       "      <td>779.0</td>\n",
       "      <td>1903.0</td>\n",
       "    </tr>\n",
       "    <tr>\n",
       "      <th>78218</th>\n",
       "      <td>78218</td>\n",
       "      <td>2017-03-25 17:30:00</td>\n",
       "      <td>57220.0</td>\n",
       "      <td>106.0</td>\n",
       "      <td>8001.0</td>\n",
       "      <td>1200.0</td>\n",
       "      <td>66.0</td>\n",
       "      <td>53666.0</td>\n",
       "      <td>579.0</td>\n",
       "      <td>8034.0</td>\n",
       "    </tr>\n",
       "    <tr>\n",
       "      <th>196614</th>\n",
       "      <td>196518</td>\n",
       "      <td>2020-08-10 00:30:00</td>\n",
       "      <td>35755.0</td>\n",
       "      <td>0.0</td>\n",
       "      <td>5584.0</td>\n",
       "      <td>2413.0</td>\n",
       "      <td>0.0</td>\n",
       "      <td>39470.0</td>\n",
       "      <td>2036.0</td>\n",
       "      <td>5693.0</td>\n",
       "    </tr>\n",
       "    <tr>\n",
       "      <th>7180</th>\n",
       "      <td>7180</td>\n",
       "      <td>2015-03-16 18:00:00</td>\n",
       "      <td>66953.0</td>\n",
       "      <td>0.0</td>\n",
       "      <td>13189.0</td>\n",
       "      <td>223.0</td>\n",
       "      <td>0.0</td>\n",
       "      <td>68774.0</td>\n",
       "      <td>867.0</td>\n",
       "      <td>13144.0</td>\n",
       "    </tr>\n",
       "    <tr>\n",
       "      <th>36790</th>\n",
       "      <td>36790</td>\n",
       "      <td>2016-01-19 04:30:00</td>\n",
       "      <td>50667.0</td>\n",
       "      <td>0.0</td>\n",
       "      <td>4677.0</td>\n",
       "      <td>2018.0</td>\n",
       "      <td>0.0</td>\n",
       "      <td>57197.0</td>\n",
       "      <td>2597.0</td>\n",
       "      <td>4835.0</td>\n",
       "    </tr>\n",
       "    <tr>\n",
       "      <th>6795</th>\n",
       "      <td>6795</td>\n",
       "      <td>2015-03-12 17:45:00</td>\n",
       "      <td>67728.0</td>\n",
       "      <td>2.0</td>\n",
       "      <td>5191.0</td>\n",
       "      <td>126.0</td>\n",
       "      <td>1.0</td>\n",
       "      <td>68276.0</td>\n",
       "      <td>604.0</td>\n",
       "      <td>3949.0</td>\n",
       "    </tr>\n",
       "    <tr>\n",
       "      <th>61030</th>\n",
       "      <td>61030</td>\n",
       "      <td>2016-09-27 16:30:00</td>\n",
       "      <td>60320.0</td>\n",
       "      <td>600.0</td>\n",
       "      <td>1824.0</td>\n",
       "      <td>1781.0</td>\n",
       "      <td>578.0</td>\n",
       "      <td>61526.0</td>\n",
       "      <td>2294.0</td>\n",
       "      <td>1551.0</td>\n",
       "    </tr>\n",
       "    <tr>\n",
       "      <th>104097</th>\n",
       "      <td>104097</td>\n",
       "      <td>2017-12-20 07:15:00</td>\n",
       "      <td>69437.0</td>\n",
       "      <td>30.0</td>\n",
       "      <td>1290.0</td>\n",
       "      <td>330.0</td>\n",
       "      <td>13.0</td>\n",
       "      <td>69778.0</td>\n",
       "      <td>414.0</td>\n",
       "      <td>987.0</td>\n",
       "    </tr>\n",
       "    <tr>\n",
       "      <th>107849</th>\n",
       "      <td>107849</td>\n",
       "      <td>2018-01-28 09:15:00</td>\n",
       "      <td>54699.0</td>\n",
       "      <td>1759.0</td>\n",
       "      <td>25912.0</td>\n",
       "      <td>3812.0</td>\n",
       "      <td>2485.0</td>\n",
       "      <td>52930.0</td>\n",
       "      <td>3602.0</td>\n",
       "      <td>29862.0</td>\n",
       "    </tr>\n",
       "  </tbody>\n",
       "</table>\n",
       "</div>"
      ],
      "text/plain": [
       "         index                Date  Day ahead/System total load in MAW  \\\n",
       "158615  158519 2019-07-11 04:45:00                             56806.0   \n",
       "14560    14560 2015-06-01 15:00:00                             59328.0   \n",
       "78218    78218 2017-03-25 17:30:00                             57220.0   \n",
       "196614  196518 2020-08-10 00:30:00                             35755.0   \n",
       "7180      7180 2015-03-16 18:00:00                             66953.0   \n",
       "36790    36790 2016-01-19 04:30:00                             50667.0   \n",
       "6795      6795 2015-03-12 17:45:00                             67728.0   \n",
       "61030    61030 2016-09-27 16:30:00                             60320.0   \n",
       "104097  104097 2017-12-20 07:15:00                             69437.0   \n",
       "107849  107849 2018-01-28 09:15:00                             54699.0   \n",
       "\n",
       "        Day ahead/Solar in MAW  Day ahead/Wind Onshore in MAW  \\\n",
       "158615                  1774.0                         1626.0   \n",
       "14560                   8124.0                         2243.0   \n",
       "78218                    106.0                         8001.0   \n",
       "196614                     0.0                         5584.0   \n",
       "7180                       0.0                        13189.0   \n",
       "36790                      0.0                         4677.0   \n",
       "6795                       2.0                         5191.0   \n",
       "61030                    600.0                         1824.0   \n",
       "104097                    30.0                         1290.0   \n",
       "107849                  1759.0                        25912.0   \n",
       "\n",
       "        Day ahead/Wind Offshore in MAW  Realised/Solar in MAW  \\\n",
       "158615                           517.0                 1967.0   \n",
       "14560                            114.0                 9470.0   \n",
       "78218                           1200.0                   66.0   \n",
       "196614                          2413.0                    0.0   \n",
       "7180                             223.0                    0.0   \n",
       "36790                           2018.0                    0.0   \n",
       "6795                             126.0                    1.0   \n",
       "61030                           1781.0                  578.0   \n",
       "104097                           330.0                   13.0   \n",
       "107849                          3812.0                 2485.0   \n",
       "\n",
       "        Realised/System total load in MAW  Realised/Wind Offshore in MAW  \\\n",
       "158615                            57414.0                          275.0   \n",
       "14560                             59965.0                          779.0   \n",
       "78218                             53666.0                          579.0   \n",
       "196614                            39470.0                         2036.0   \n",
       "7180                              68774.0                          867.0   \n",
       "36790                             57197.0                         2597.0   \n",
       "6795                              68276.0                          604.0   \n",
       "61030                             61526.0                         2294.0   \n",
       "104097                            69778.0                          414.0   \n",
       "107849                            52930.0                         3602.0   \n",
       "\n",
       "        Realised/Wind Onshore in MAW  \n",
       "158615                        1692.0  \n",
       "14560                         1903.0  \n",
       "78218                         8034.0  \n",
       "196614                        5693.0  \n",
       "7180                         13144.0  \n",
       "36790                         4835.0  \n",
       "6795                          3949.0  \n",
       "61030                         1551.0  \n",
       "104097                         987.0  \n",
       "107849                       29862.0  "
      ]
     },
     "execution_count": 15,
     "metadata": {},
     "output_type": "execute_result"
    }
   ],
   "source": [
    "df_merged.sample(10)"
   ]
  },
  {
   "cell_type": "code",
   "execution_count": null,
   "metadata": {},
   "outputs": [],
   "source": [
    "df_merge.to_csv('')"
   ]
  },
  {
   "cell_type": "markdown",
   "metadata": {},
   "source": [
    "## Join all the files for week-ahead predictions"
   ]
  },
  {
   "cell_type": "code",
   "execution_count": 16,
   "metadata": {},
   "outputs": [],
   "source": [
    "# get a list of all the day-ahead files\n",
    "folder_name = 'data_week_ahead'\n",
    "files_in_dir = os.listdir(\"./\"+folder_name+\"/\")"
   ]
  },
  {
   "cell_type": "markdown",
   "metadata": {},
   "source": [
    "The task for the week-ahead prediction is much simpler than day-ahead (as there are no actuals or generation values). use a simpler implementation to save some memory:"
   ]
  },
  {
   "cell_type": "code",
   "execution_count": 17,
   "metadata": {},
   "outputs": [],
   "source": [
    "# create a list of the paths to the files. So they can be saved as DataFrames\n",
    "list_of_paths = []\n",
    "for name in files_in_dir:\n",
    "    list_of_paths.append(\"./\"+folder_name+\"/\"+name)\n",
    "\n",
    "# store the DataFrames in memory and concatenate them\n",
    "df_week = pd.read_csv(list_of_paths[0], parse_dates=['min_date', 'max_date'], date_parser=dateparse)\n",
    "for file in list_of_paths[1:]:\n",
    "    df2 = pd.read_csv(file, parse_dates=['min_date', 'max_date'], date_parser=dateparse)\n",
    "    df_week = pd.concat([df_week, df2])\n",
    "    \n",
    "df_week.sort_values(by=['min_date', 'max_date'], inplace=True)"
   ]
  },
  {
   "cell_type": "code",
   "execution_count": 18,
   "metadata": {},
   "outputs": [],
   "source": [
    "# get rid of all duplicates before saving the data as a csv\n",
    "df_week.drop_duplicates(inplace=True)\n",
    "\n",
    "df_week.to_csv('Week_ahead_dataset.csv', index=False)"
   ]
  },
  {
   "cell_type": "code",
   "execution_count": 19,
   "metadata": {},
   "outputs": [
    {
     "data": {
      "text/html": [
       "<div>\n",
       "<style scoped>\n",
       "    .dataframe tbody tr th:only-of-type {\n",
       "        vertical-align: middle;\n",
       "    }\n",
       "\n",
       "    .dataframe tbody tr th {\n",
       "        vertical-align: top;\n",
       "    }\n",
       "\n",
       "    .dataframe thead th {\n",
       "        text-align: right;\n",
       "    }\n",
       "</style>\n",
       "<table border=\"1\" class=\"dataframe\">\n",
       "  <thead>\n",
       "    <tr style=\"text-align: right;\">\n",
       "      <th></th>\n",
       "      <th>min_date</th>\n",
       "      <th>max_date</th>\n",
       "      <th>min_forecast_in_MAW</th>\n",
       "      <th>max_forecast_in_MAW</th>\n",
       "    </tr>\n",
       "  </thead>\n",
       "  <tbody>\n",
       "    <tr>\n",
       "      <th>117</th>\n",
       "      <td>2017-02-18 23:00:00</td>\n",
       "      <td>2017-02-18 23:00:00</td>\n",
       "      <td>47235</td>\n",
       "      <td>61400</td>\n",
       "    </tr>\n",
       "    <tr>\n",
       "      <th>114</th>\n",
       "      <td>2020-02-19 23:00:00</td>\n",
       "      <td>2020-02-19 23:00:00</td>\n",
       "      <td>49943</td>\n",
       "      <td>72276</td>\n",
       "    </tr>\n",
       "    <tr>\n",
       "      <th>81</th>\n",
       "      <td>2019-01-11 23:00:00</td>\n",
       "      <td>2019-01-11 23:00:00</td>\n",
       "      <td>48879</td>\n",
       "      <td>67323</td>\n",
       "    </tr>\n",
       "    <tr>\n",
       "      <th>288</th>\n",
       "      <td>2017-08-08 22:00:00</td>\n",
       "      <td>2017-08-08 22:00:00</td>\n",
       "      <td>41458</td>\n",
       "      <td>65995</td>\n",
       "    </tr>\n",
       "    <tr>\n",
       "      <th>362</th>\n",
       "      <td>2017-10-21 22:00:00</td>\n",
       "      <td>2017-10-21 22:00:00</td>\n",
       "      <td>42536</td>\n",
       "      <td>58971</td>\n",
       "    </tr>\n",
       "    <tr>\n",
       "      <th>288</th>\n",
       "      <td>2018-08-07 22:00:00</td>\n",
       "      <td>2018-08-07 22:00:00</td>\n",
       "      <td>44897</td>\n",
       "      <td>67574</td>\n",
       "    </tr>\n",
       "    <tr>\n",
       "      <th>214</th>\n",
       "      <td>2020-05-29 22:00:00</td>\n",
       "      <td>2020-05-29 22:00:00</td>\n",
       "      <td>41540</td>\n",
       "      <td>61344</td>\n",
       "    </tr>\n",
       "    <tr>\n",
       "      <th>247</th>\n",
       "      <td>2019-07-03 22:00:00</td>\n",
       "      <td>2019-07-03 22:00:00</td>\n",
       "      <td>42822</td>\n",
       "      <td>67456</td>\n",
       "    </tr>\n",
       "    <tr>\n",
       "      <th>76</th>\n",
       "      <td>2015-04-12 22:00:00</td>\n",
       "      <td>2015-04-12 22:00:00</td>\n",
       "      <td>37916</td>\n",
       "      <td>54532</td>\n",
       "    </tr>\n",
       "    <tr>\n",
       "      <th>98</th>\n",
       "      <td>2019-01-28 23:00:00</td>\n",
       "      <td>2019-01-28 23:00:00</td>\n",
       "      <td>47131</td>\n",
       "      <td>71296</td>\n",
       "    </tr>\n",
       "  </tbody>\n",
       "</table>\n",
       "</div>"
      ],
      "text/plain": [
       "               min_date            max_date  min_forecast_in_MAW  \\\n",
       "117 2017-02-18 23:00:00 2017-02-18 23:00:00                47235   \n",
       "114 2020-02-19 23:00:00 2020-02-19 23:00:00                49943   \n",
       "81  2019-01-11 23:00:00 2019-01-11 23:00:00                48879   \n",
       "288 2017-08-08 22:00:00 2017-08-08 22:00:00                41458   \n",
       "362 2017-10-21 22:00:00 2017-10-21 22:00:00                42536   \n",
       "288 2018-08-07 22:00:00 2018-08-07 22:00:00                44897   \n",
       "214 2020-05-29 22:00:00 2020-05-29 22:00:00                41540   \n",
       "247 2019-07-03 22:00:00 2019-07-03 22:00:00                42822   \n",
       "76  2015-04-12 22:00:00 2015-04-12 22:00:00                37916   \n",
       "98  2019-01-28 23:00:00 2019-01-28 23:00:00                47131   \n",
       "\n",
       "     max_forecast_in_MAW  \n",
       "117                61400  \n",
       "114                72276  \n",
       "81                 67323  \n",
       "288                65995  \n",
       "362                58971  \n",
       "288                67574  \n",
       "214                61344  \n",
       "247                67456  \n",
       "76                 54532  \n",
       "98                 71296  "
      ]
     },
     "execution_count": 19,
     "metadata": {},
     "output_type": "execute_result"
    }
   ],
   "source": [
    "df_week.sample(10)"
   ]
  }
 ],
 "metadata": {
  "kernelspec": {
   "display_name": "Python 3",
   "language": "python",
   "name": "python3"
  },
  "language_info": {
   "codemirror_mode": {
    "name": "ipython",
    "version": 3
   },
   "file_extension": ".py",
   "mimetype": "text/x-python",
   "name": "python",
   "nbconvert_exporter": "python",
   "pygments_lexer": "ipython3",
   "version": "3.8.5"
  }
 },
 "nbformat": 4,
 "nbformat_minor": 4
}
