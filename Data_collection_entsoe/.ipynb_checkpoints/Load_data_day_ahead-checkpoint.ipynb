{
 "cells": [
  {
   "cell_type": "markdown",
   "metadata": {},
   "source": [
    "# Use the Entso-e API to download the data programatically\n",
    "\n",
    "Download the \"day-ahead\" data for Germany for: \n",
    "- Load forecast \n",
    "- Load realised\n",
    "- Generation solar \n",
    "- Generation wind (onshore and offshore)\n",
    "\n",
    "All units are in MW (Megawatts). \n",
    "\n",
    "\"Day-ahead\" data provides values for each quarter of an hour, i.e. 96 values per day."
   ]
  },
  {
   "cell_type": "code",
   "execution_count": null,
   "metadata": {},
   "outputs": [],
   "source": [
    "import requests\n",
    "import pandas as pd\n",
    "import datetime\n",
    "from bs4 import BeautifulSoup as bs\n",
    "\n",
    "# Import dictionaries, security_token and day_ahead loading script\n",
    "\n",
    "from Name_convention_dictionaries import DocumentTypeDict\n",
    "from Name_convention_dictionaries import ProcessTypeDict\n",
    "from Name_convention_dictionaries import AreaDict\n",
    "from Name_convention_dictionaries import PsrTypeDict\n",
    "from security_token import security_token\n",
    "from Load_data_entsoe_day import Load_data_entsoe\n",
    "\n",
    "# Reverse dictionaries to increase readibility\n",
    "\n",
    "zone_dict = {v:k for k,v in AreaDict.items()}\n",
    "document_type_dict = {v:k for k,v in DocumentTypeDict.items()}\n",
    "process_type_dict = {v:k for k,v in ProcessTypeDict.items()}\n",
    "generation_type_dict = {v:k for k,v in PsrTypeDict.items()}"
   ]
  },
  {
   "cell_type": "code",
   "execution_count": null,
   "metadata": {},
   "outputs": [],
   "source": [
    "# support functions\n",
    "def str_to_datetime(date_str):\n",
    "    return datetime.datetime.strptime(date_str, '%Y%m%d%H%M')\n",
    "\n",
    "def datetime_to_str(date):\n",
    "    return datetime.datetime.strftime(date, \"%Y%m%d%H%M\")"
   ]
  },
  {
   "cell_type": "markdown",
   "metadata": {},
   "source": [
    "## Specify region (country name or bidding zone according to Entso-e) and time horizon\n",
    "Check Name_convention_dictionaries.py if unsure how the country or bidding zone is named by Entso-e."
   ]
  },
  {
   "cell_type": "code",
   "execution_count": null,
   "metadata": {},
   "outputs": [],
   "source": [
    "region = 'Germany'\n",
    "\n",
    "# The Entso-e API only allows to download 380 days per call. So create a loop to download all data \n",
    "# Time-format: Year, Month, Day, Hour, Minute\n",
    "\n",
    "num_of_years_to_download = 7\n",
    "most_recent_date = '202010252345'\n",
    "list_for_loop = [365]*num_of_years_to_download"
   ]
  },
  {
   "cell_type": "markdown",
   "metadata": {},
   "source": [
    "## Download Load Data"
   ]
  },
  {
   "cell_type": "code",
   "execution_count": null,
   "metadata": {},
   "outputs": [],
   "source": [
    "# Define furhter parameter to download the data\n",
    "process_type = ['Day ahead', 'Realised'] # saved as a list to download forecast and realised respectively\n",
    "document_type = 'System total load'"
   ]
  },
  {
   "cell_type": "code",
   "execution_count": null,
   "metadata": {},
   "outputs": [],
   "source": [
    "last_date_to_download = most_recent_date\n",
    "\n",
    "for year in list_for_loop:\n",
    "    begin_time = datetime_to_str(str_to_datetime(last_date_to_download) - datetime.timedelta(days=year))\n",
    "    end_time = last_date_to_download\n",
    "\n",
    "    # loop over forecast and realised load\n",
    "    for process in process_type:\n",
    "        \n",
    "        # generate url for API call\n",
    "\n",
    "        url = \"https://transparency.entsoe.eu/api?securityToken=\"+security_token\\\n",
    "              +'&documentType='+document_type_dict[document_type]\\\n",
    "              +'&processType='+process_type_dict[process]\\\n",
    "              +'&outBiddingZone_Domain='+zone_dict[region]\\\n",
    "              +'&periodStart='+begin_time\\\n",
    "              +'&periodEnd='+end_time\n",
    "\n",
    "        # load and save data\n",
    "    \n",
    "        try:\n",
    "            Load_data_entsoe(url)\n",
    "            last_date_to_download = begin_time\n",
    "        except:\n",
    "            print('\\n No more data available \\n')"
   ]
  },
  {
   "cell_type": "markdown",
   "metadata": {},
   "source": [
    "## Download generation data"
   ]
  },
  {
   "cell_type": "markdown",
   "metadata": {},
   "source": [
    "This is a little bit more complex than the load data. Therefore it is necessary to first download the generation actuals (realised) and then the forecast. \n",
    "\n",
    "Download the actuals/realised values for generation:"
   ]
  },
  {
   "cell_type": "code",
   "execution_count": null,
   "metadata": {},
   "outputs": [],
   "source": [
    "# Define furhter parameter to download the data\n",
    "process_type = 'Realised' \n",
    "document_type = 'Actual generation per type'\n",
    "generation_type = ['Solar', 'Wind Offshore', 'Wind Onshore']"
   ]
  },
  {
   "cell_type": "code",
   "execution_count": null,
   "metadata": {
    "scrolled": true
   },
   "outputs": [],
   "source": [
    "last_date_to_download = most_recent_date\n",
    "\n",
    "for year in list_for_loop:\n",
    "    begin_time = datetime_to_str(str_to_datetime(last_date_to_download) - datetime.timedelta(days=year))\n",
    "    end_time = last_date_to_download\n",
    "\n",
    "    # loop over the generation types\n",
    "    for generation in generation_type:\n",
    "    \n",
    "        # generate url for API call\n",
    "\n",
    "        url = \"https://transparency.entsoe.eu/api?securityToken=\"+security_token\\\n",
    "              +'&documentType='+document_type_dict[document_type]\\\n",
    "              +'&processType='+process_type_dict[process_type]\\\n",
    "              +'&psrType='+generation_type_dict[generation]\\\n",
    "              +'&in_Domain='+zone_dict[region]\\\n",
    "              +'&periodStart='+begin_time\\\n",
    "              +'&periodEnd='+end_time\n",
    "\n",
    "        # load and save data\n",
    "\n",
    "        try:\n",
    "            Load_data_entsoe(url)\n",
    "            last_date_to_download = begin_time\n",
    "        except:\n",
    "            print('\\n No more data available \\n')"
   ]
  },
  {
   "cell_type": "markdown",
   "metadata": {},
   "source": [
    "Download the forecasted generation for solar and wind"
   ]
  },
  {
   "cell_type": "code",
   "execution_count": null,
   "metadata": {},
   "outputs": [],
   "source": [
    "# Define furhter parameter to download the data\n",
    "process_type = 'Day ahead' \n",
    "document_type = 'Wind and solar forecast'\n",
    "generation_type = ['Solar', 'Wind Offshore', 'Wind Onshore']"
   ]
  },
  {
   "cell_type": "code",
   "execution_count": null,
   "metadata": {},
   "outputs": [],
   "source": [
    "last_date_to_download = most_recent_date\n",
    "\n",
    "for year in list_for_loop:\n",
    "    begin_time = datetime_to_str(str_to_datetime(last_date_to_download) - datetime.timedelta(days=year))\n",
    "    end_time = last_date_to_download\n",
    "\n",
    "    # loop over the generation types\n",
    "    for generation in generation_type:\n",
    "    \n",
    "        # generate url for API call\n",
    "\n",
    "        url = \"https://transparency.entsoe.eu/api?securityToken=\"+security_token\\\n",
    "              +'&documentType='+document_type_dict[document_type]\\\n",
    "              +'&processType='+process_type_dict[process_type]\\\n",
    "              +'&psrType='+generation_type_dict[generation]\\\n",
    "              +'&in_Domain='+zone_dict[region]\\\n",
    "              +'&periodStart='+begin_time\\\n",
    "              +'&periodEnd='+end_time\n",
    "\n",
    "        # load and save data\n",
    "\n",
    "        try:\n",
    "            Load_data_entsoe(url)\n",
    "            last_date_to_download = begin_time\n",
    "        except:\n",
    "            print('\\n No more data available \\n')"
   ]
  },
  {
   "cell_type": "code",
   "execution_count": null,
   "metadata": {},
   "outputs": [],
   "source": []
  }
 ],
 "metadata": {
  "kernelspec": {
   "display_name": "Python 3",
   "language": "python",
   "name": "python3"
  },
  "language_info": {
   "codemirror_mode": {
    "name": "ipython",
    "version": 3
   },
   "file_extension": ".py",
   "mimetype": "text/x-python",
   "name": "python",
   "nbconvert_exporter": "python",
   "pygments_lexer": "ipython3",
   "version": "3.8.5"
  }
 },
 "nbformat": 4,
 "nbformat_minor": 4
}
