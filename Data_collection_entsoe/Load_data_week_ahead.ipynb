{
 "cells": [
  {
   "cell_type": "markdown",
   "metadata": {},
   "source": [
    "# Use the Entso-e API to download the data programatically\n",
    "\n",
    "Download the \"week-ahead\" data for Germany for: \n",
    "- Minimum load forecast per day of week \n",
    "- Maximum load forecast per day of week\n",
    "\n",
    "All units are in MW (Megawatts). \n",
    "\n",
    "\"Week-ahead\" data provides the min and max forecast-values for each day of a given week. This means 14 values per week"
   ]
  },
  {
   "cell_type": "code",
   "execution_count": null,
   "metadata": {},
   "outputs": [],
   "source": [
    "import requests\n",
    "import pandas as pd\n",
    "import datetime\n",
    "from bs4 import BeautifulSoup as bs\n",
    "\n",
    "# Import dictionaries, security_token and week_ahead loading script\n",
    "\n",
    "from Name_convention_dictionaries import DocumentTypeDict, ProcessTypeDict, AreaDict, PsrTypeDict\n",
    "from security_token import security_token\n",
    "from Load_data_entsoe_week import Load_data_week_ahead\n",
    "\n",
    "# Reverse dictionaries for easier understanding\n",
    "\n",
    "zone_dict = {v:k for k,v in AreaDict.items()}\n",
    "document_type_dict = {v:k for k,v in DocumentTypeDict.items()}\n",
    "process_type_dict = {v:k for k,v in ProcessTypeDict.items()}\n",
    "generation_type_dict = {v:k for k,v in PsrTypeDict.items()}"
   ]
  },
  {
   "cell_type": "code",
   "execution_count": null,
   "metadata": {},
   "outputs": [],
   "source": [
    "# support functions\n",
    "def str_to_datetime(date_str):\n",
    "    return datetime.datetime.strptime(date_str, '%Y%m%d%H%M')\n",
    "\n",
    "def datetime_to_str(date):\n",
    "    return datetime.datetime.strftime(date, \"%Y%m%d%H%M\")"
   ]
  },
  {
   "cell_type": "markdown",
   "metadata": {},
   "source": [
    "## Specify region (country name or bidding zone according to Entso-e) and time horizon\n",
    "Check Name_convention_dictionaries.py if unsure how the country or bidding zone is named by Entso-e."
   ]
  },
  {
   "cell_type": "code",
   "execution_count": null,
   "metadata": {},
   "outputs": [],
   "source": [
    "region = 'Germany'\n",
    "\n",
    "# The Entso-e API only allows to download 380 days per call. So create a loop to download all data \n",
    "# Time-format: Year, Month, Day, Hour, Minute\n",
    "\n",
    "num_of_years_to_download = 7\n",
    "most_recent_date = '202010252300'\n",
    "list_for_loop = [365]*num_of_years_to_download"
   ]
  },
  {
   "cell_type": "markdown",
   "metadata": {},
   "source": [
    "## Download Load Data"
   ]
  },
  {
   "cell_type": "code",
   "execution_count": null,
   "metadata": {},
   "outputs": [],
   "source": [
    "# Define parameters to download the data \n",
    "process_type = 'Week ahead'\n",
    "document_type = 'System total load'"
   ]
  },
  {
   "cell_type": "code",
   "execution_count": null,
   "metadata": {
    "scrolled": true
   },
   "outputs": [],
   "source": [
    "last_date_to_download = most_recent_date\n",
    "\n",
    "file_list = []\n",
    "\n",
    "for year in list_for_loop:\n",
    "    begin_time = datetime_to_str(str_to_datetime(last_date_to_download) - datetime.timedelta(days=year))\n",
    "    end_time = last_date_to_download\n",
    "\n",
    "    # generate url for API call\n",
    "\n",
    "    url = \"https://transparency.entsoe.eu/api?securityToken=\"+security_token\\\n",
    "          +'&documentType='+document_type_dict[document_type]\\\n",
    "          +'&processType='+process_type_dict[process_type]\\\n",
    "          +'&outBiddingZone_Domain='+zone_dict[region]\\\n",
    "          +'&periodStart='+begin_time\\\n",
    "          +'&periodEnd='+end_time\n",
    "    \n",
    "    # load and save data\n",
    "    \n",
    "    try:\n",
    "        file_name = Load_data_week_ahead(url)\n",
    "        file_list.append(file_name)\n",
    "        last_date_to_download = begin_time\n",
    "    except:\n",
    "        print('\\n No more data available')"
   ]
  }
 ],
 "metadata": {
  "kernelspec": {
   "display_name": "Python 3",
   "language": "python",
   "name": "python3"
  },
  "language_info": {
   "codemirror_mode": {
    "name": "ipython",
    "version": 3
   },
   "file_extension": ".py",
   "mimetype": "text/x-python",
   "name": "python",
   "nbconvert_exporter": "python",
   "pygments_lexer": "ipython3",
   "version": "3.8.3"
  }
 },
 "nbformat": 4,
 "nbformat_minor": 4
}
