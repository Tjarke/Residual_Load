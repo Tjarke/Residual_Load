{
 "cells": [
  {
   "cell_type": "code",
   "execution_count": 1,
   "metadata": {},
   "outputs": [],
   "source": [
    "import requests\n",
    "import pandas as pd\n",
    "import csv\n",
    "import json\n",
    "import datetime"
   ]
  },
  {
   "cell_type": "code",
   "execution_count": 2,
   "metadata": {},
   "outputs": [],
   "source": [
    "### Get infromation about all the stations offered by umweltbundesamt"
   ]
  },
  {
   "cell_type": "code",
   "execution_count": 3,
   "metadata": {},
   "outputs": [],
   "source": [
    "url = \"https://www.umweltbundesamt.de/api/air_data/v2/stations/json?use=airquality&lang=de&date_from=2016-01-01&time_from=1&date_to=2016-10-25&time_to=24\"\n",
    "response = requests.get(url)\n",
    "json_file = json.loads(response.content)\n",
    "station_ids = json_file[\"data\"].keys()"
   ]
  },
  {
   "cell_type": "code",
   "execution_count": 4,
   "metadata": {},
   "outputs": [],
   "source": [
    "station_code = []\n",
    "longitude =  []\n",
    "latitude = []\n",
    "for i in station_ids:\n",
    "    station_code.append(json_file[\"data\"][i][1])\n",
    "    longitude.append(json_file[\"data\"][i][7])\n",
    "    latitude.append(json_file[\"data\"][i][8]) "
   ]
  },
  {
   "cell_type": "code",
   "execution_count": 5,
   "metadata": {},
   "outputs": [],
   "source": [
    "df = pd.DataFrame(zip(station_ids,station_code,longitude,latitude),columns=[\"Id\",\"Station\",\"Longitude\",\"Latitude\"])\n",
    "# df.to_csv('stations_air_quality.csv',index=False)"
   ]
  },
  {
   "cell_type": "code",
   "execution_count": 7,
   "metadata": {},
   "outputs": [],
   "source": [
    "### Now get air quality information from all those weather stations for the desired time"
   ]
  },
  {
   "cell_type": "code",
   "execution_count": 8,
   "metadata": {},
   "outputs": [],
   "source": [
    "# !mkdir data_air_quality"
   ]
  },
  {
   "cell_type": "code",
   "execution_count": 9,
   "metadata": {},
   "outputs": [
    {
     "name": "stdout",
     "output_type": "stream",
     "text": [
      "Response = 500\n",
      "Did not load data for station 85\n",
      "Response = 500\n",
      "Did not load data for station 97\n",
      "Response = 500\n",
      "Did not load data for station 264\n",
      "Response = 500\n",
      "Did not load data for station 686\n",
      "Response = 500\n",
      "Did not load data for station 797\n",
      "Response = 500\n",
      "Did not load data for station 825\n",
      "Response = 500\n",
      "Did not load data for station 850\n",
      "Response = 500\n",
      "Did not load data for station 876\n",
      "Response = 500\n",
      "Did not load data for station 953\n",
      "Response = 500\n",
      "Did not load data for station 1145\n",
      "Response = 500\n",
      "Did not load data for station 1449\n",
      "Response = 500\n",
      "Did not load data for station 1515\n",
      "Response = 500\n",
      "Did not load data for station 1533\n",
      "Response = 500\n",
      "Did not load data for station 1555\n",
      "Response = 500\n",
      "Did not load data for station 1560\n",
      "Response = 500\n",
      "Did not load data for station 1599\n",
      "Response = 500\n",
      "Did not load data for station 1767\n",
      "Response = 500\n",
      "Did not load data for station 1878\n",
      "Response = 500\n",
      "Did not load data for station 1988\n"
     ]
    }
   ],
   "source": [
    "for i in station_ids:\n",
    "    try:\n",
    "        date_ranges = [\"date_from=2019-10-25&time_from=24&date_to=2020-10-25&time_to=23\",\n",
    "                       \"date_from=2018-10-25&time_from=24&date_to=2019-10-25&time_to=23\",\n",
    "                       \"date_from=2017-10-25&time_from=24&date_to=2018-10-25&time_to=23\",\n",
    "                       \"date_from=2016-10-25&time_from=24&date_to=2017-10-25&time_to=23\",\n",
    "                       \"date_from=2016-01-01&time_from=1&date_to=2016-10-25&time_from=23\"]\n",
    "        for information_range in date_ranges:\n",
    "        #     information_range = \"date_from=2016-01-01&time_from=1&date_to=2017-01-01&time_to=24\"\n",
    "            station = \"&station=\" + i\n",
    "\n",
    "            #load data\n",
    "            url = \"https://www.umweltbundesamt.de/api/air_data/v2/airquality/csv?\"+information_range+station+\"&lang=de\"\n",
    "            response = requests.get(url)\n",
    "            decode = response.content.decode('utf-8')\n",
    "            cr = csv.reader(decode.splitlines(), delimiter=';')\n",
    "\n",
    "            # turn into dataframe and do some formatting\n",
    "            df = pd.DataFrame(list(cr))\n",
    "            new_header = df.iloc[0] \n",
    "            df = df[1:-2] \n",
    "            df.columns = new_header \n",
    "\n",
    "            select = df[\"Datum\"].str.contains('24:00')\n",
    "            df2 = df.loc[select,\"Datum\"]\n",
    "            for row,value in enumerate(df2):\n",
    "                dtf = datetime.datetime.strptime((value[1:-6]+\"23:00\"), '%d.%m.%Y %H:%M')\n",
    "                dtf += datetime.timedelta(hours=1)\n",
    "                df2.iloc[row] = \"\\'\" + datetime.datetime.strftime(dtf , '%d.%m.%Y %H:%M') + \"\\'\"\n",
    "            df.loc[select,\"Datum\"] = df2\n",
    "            df['Datum'] =  pd.to_datetime(df['Datum'], format = \"'%d.%m.%Y %H:%M'\" )\n",
    "\n",
    "            station_name = df.loc[1,\"﻿Stationscode\"] \n",
    "\n",
    "            df = df.rename(columns={\"Datum\": \"Date\", \n",
    "                                    \"Feinstaub (PM₁₀) stündlich gleitendes Tagesmittel in µg/m³\": (station_name +\" Particulate matter in µg/m³\"),\n",
    "                                    \"Ozon (O₃) Ein-Stunden-Mittelwert in µg/m³\":(station_name + \" Ozone in µg/m³\"),\n",
    "                                    'Stickstoffdioxid (NO₂) Ein-Stunden-Mittelwert in µg/m³': (station_name+\" NO₂ in µg/m³\")})\n",
    "\n",
    "            df = df.drop([\"Luftqualitätsindex\"], axis=1)\n",
    "            df = df.drop([\"﻿Stationscode\"], axis=1)\n",
    "            path = \"./data_air_quality/\" + station + information_range + \".csv\"\n",
    "            df.to_csv(path,index=False)\n",
    "    except:\n",
    "        print(\"Response =\",response.status_code)\n",
    "        print(\"Did not load data for station\", i)\n",
    "\n"
   ]
  },
  {
   "cell_type": "code",
   "execution_count": 10,
   "metadata": {},
   "outputs": [],
   "source": [
    "## in case we want to download data differently:\n",
    "# url = \"https://www.umweltbundesamt.de/api/air_data/v2/measures/csv?date_from=2017-08-01&time_from=12&date_to=2017-08-01&time_to=12&data%5B0%5D%5Bco%5D=3&data%5B0%5D%5Bsc%5D=4&lang=de\"\n",
    "# url = \"https://www.umweltbundesamt.de/api/air_data/v2/airquality/csv?date_from=2016-01-01&time_from=1&date_to=2017-01-01&time_to=24&station=1122&lang=de\""
   ]
  },
  {
   "cell_type": "code",
   "execution_count": null,
   "metadata": {},
   "outputs": [],
   "source": []
  },
  {
   "cell_type": "code",
   "execution_count": null,
   "metadata": {},
   "outputs": [],
   "source": []
  },
  {
   "cell_type": "code",
   "execution_count": null,
   "metadata": {},
   "outputs": [],
   "source": []
  },
  {
   "cell_type": "code",
   "execution_count": null,
   "metadata": {},
   "outputs": [],
   "source": []
  },
  {
   "cell_type": "code",
   "execution_count": null,
   "metadata": {},
   "outputs": [],
   "source": []
  },
  {
   "cell_type": "code",
   "execution_count": null,
   "metadata": {},
   "outputs": [],
   "source": []
  },
  {
   "cell_type": "code",
   "execution_count": null,
   "metadata": {},
   "outputs": [],
   "source": []
  },
  {
   "cell_type": "code",
   "execution_count": null,
   "metadata": {},
   "outputs": [],
   "source": []
  },
  {
   "cell_type": "code",
   "execution_count": null,
   "metadata": {},
   "outputs": [],
   "source": []
  },
  {
   "cell_type": "code",
   "execution_count": null,
   "metadata": {},
   "outputs": [],
   "source": []
  },
  {
   "cell_type": "code",
   "execution_count": null,
   "metadata": {},
   "outputs": [],
   "source": []
  },
  {
   "cell_type": "code",
   "execution_count": null,
   "metadata": {},
   "outputs": [],
   "source": []
  },
  {
   "cell_type": "code",
   "execution_count": null,
   "metadata": {},
   "outputs": [],
   "source": []
  },
  {
   "cell_type": "code",
   "execution_count": null,
   "metadata": {},
   "outputs": [],
   "source": []
  },
  {
   "cell_type": "code",
   "execution_count": null,
   "metadata": {},
   "outputs": [],
   "source": []
  }
 ],
 "metadata": {
  "kernelspec": {
   "display_name": "Python 3",
   "language": "python",
   "name": "python3"
  },
  "language_info": {
   "codemirror_mode": {
    "name": "ipython",
    "version": 3
   },
   "file_extension": ".py",
   "mimetype": "text/x-python",
   "name": "python",
   "nbconvert_exporter": "python",
   "pygments_lexer": "ipython3",
   "version": "3.7.9"
  }
 },
 "nbformat": 4,
 "nbformat_minor": 4
}
